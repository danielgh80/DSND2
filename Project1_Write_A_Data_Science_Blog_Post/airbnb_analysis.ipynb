{
 "cells": [
  {
   "cell_type": "markdown",
   "metadata": {},
   "source": [
    "--------------------------\n",
    "# Madrid and Barcelona AirBnB data investigation\n",
    "--------------------------"
   ]
  },
  {
   "cell_type": "markdown",
   "metadata": {},
   "source": [
    "- In this project I analyze consumer patterns for AirBnB listings in Madrid and Barcelona.\n",
    "\n",
    "- I analyze the data and use serveral models to predict and find out:\n",
    "  1. What moves users to choose from the wide range of rentals in offer?\n",
    "  2. Do they look for the same things in different destinations?\n",
    "  3. What city yields the most revenue?\n",
    "  4. What are their revenue patterns?\n",
    " \n",
    "------------------"
   ]
  },
  {
   "cell_type": "markdown",
   "metadata": {},
   "source": [
    "### Import libraries"
   ]
  },
  {
   "cell_type": "code",
   "execution_count": 1,
   "metadata": {},
   "outputs": [
    {
     "name": "stderr",
     "output_type": "stream",
     "text": [
      "C:\\Users\\danie\\Anaconda3\\lib\\site-packages\\statsmodels\\compat\\pandas.py:56: FutureWarning: The pandas.core.datetools module is deprecated and will be removed in a future version. Please use the pandas.tseries module instead.\n",
      "  from pandas.core import datetools\n"
     ]
    }
   ],
   "source": [
    "import numpy as np\n",
    "import pandas as pd\n",
    "import matplotlib\n",
    "import matplotlib.pyplot as plt\n",
    "import statsmodels.api as sm\n",
    "import statsmodels.formula.api as smf\n",
    "import seaborn as sns\n",
    "matplotlib.style.use('ggplot')\n",
    "%matplotlib inline\n",
    "from sklearn.model_selection import train_test_split\n",
    "from sklearn.linear_model import LinearRegression\n",
    "from sklearn import metrics\n",
    "from sklearn import tree\n",
    "from sklearn.tree import DecisionTreeRegressor\n",
    "from sklearn.feature_selection import RFE\n",
    "from sklearn.linear_model import LogisticRegression"
   ]
  },
  {
   "cell_type": "markdown",
   "metadata": {},
   "source": [
    "### Load Data"
   ]
  },
  {
   "cell_type": "code",
   "execution_count": 2,
   "metadata": {
    "collapsed": true
   },
   "outputs": [],
   "source": [
    "mad_calendar_data = pd.read_csv('data/madrid-airbnb-open-data/calendar.csv', header = 0, low_memory=False)\n",
    "mad_listings_data = pd.read_csv('data/madrid-airbnb-open-data/listings.csv', header = 0, low_memory=False)\n",
    "mad_reviews_data = pd.read_csv('data/madrid-airbnb-open-data/reviews.csv', header = 0, low_memory=False)\n",
    "\n",
    "bar_calendar_data = pd.read_csv('data/barcelona-airbnb-open-data/calendar.csv', header = 0, low_memory=False)\n",
    "bar_listings_data = pd.read_csv('data/barcelona-airbnb-open-data/listings.csv', header = 0, low_memory=False)\n",
    "bar_reviews_data = pd.read_csv('data/barcelona-airbnb-open-data/reviews.csv', header = 0, low_memory=False)"
   ]
  },
  {
   "cell_type": "markdown",
   "metadata": {},
   "source": [
    "### Understanding Data"
   ]
  },
  {
   "cell_type": "code",
   "execution_count": 3,
   "metadata": {},
   "outputs": [
    {
     "name": "stdout",
     "output_type": "stream",
     "text": [
      "<class 'pandas.core.frame.DataFrame'>\n",
      "RangeIndex: 6315595 entries, 0 to 6315594\n",
      "Data columns (total 4 columns):\n",
      "listing_id    int64\n",
      "date          object\n",
      "available     object\n",
      "price         object\n",
      "dtypes: int64(1), object(3)\n",
      "memory usage: 192.7+ MB\n"
     ]
    },
    {
     "data": {
      "text/html": [
       "<div>\n",
       "<style scoped>\n",
       "    .dataframe tbody tr th:only-of-type {\n",
       "        vertical-align: middle;\n",
       "    }\n",
       "\n",
       "    .dataframe tbody tr th {\n",
       "        vertical-align: top;\n",
       "    }\n",
       "\n",
       "    .dataframe thead th {\n",
       "        text-align: right;\n",
       "    }\n",
       "</style>\n",
       "<table border=\"1\" class=\"dataframe\">\n",
       "  <thead>\n",
       "    <tr style=\"text-align: right;\">\n",
       "      <th></th>\n",
       "      <th>listing_id</th>\n",
       "      <th>date</th>\n",
       "      <th>available</th>\n",
       "      <th>price</th>\n",
       "    </tr>\n",
       "  </thead>\n",
       "  <tbody>\n",
       "    <tr>\n",
       "      <th>0</th>\n",
       "      <td>102091</td>\n",
       "      <td>2019-08-13</td>\n",
       "      <td>t</td>\n",
       "      <td>$194.00</td>\n",
       "    </tr>\n",
       "    <tr>\n",
       "      <th>1</th>\n",
       "      <td>102091</td>\n",
       "      <td>2019-08-12</td>\n",
       "      <td>t</td>\n",
       "      <td>$194.00</td>\n",
       "    </tr>\n",
       "    <tr>\n",
       "      <th>2</th>\n",
       "      <td>102091</td>\n",
       "      <td>2019-08-11</td>\n",
       "      <td>t</td>\n",
       "      <td>$194.00</td>\n",
       "    </tr>\n",
       "    <tr>\n",
       "      <th>3</th>\n",
       "      <td>102091</td>\n",
       "      <td>2019-08-10</td>\n",
       "      <td>t</td>\n",
       "      <td>$275.00</td>\n",
       "    </tr>\n",
       "    <tr>\n",
       "      <th>4</th>\n",
       "      <td>102091</td>\n",
       "      <td>2019-08-09</td>\n",
       "      <td>t</td>\n",
       "      <td>$275.00</td>\n",
       "    </tr>\n",
       "  </tbody>\n",
       "</table>\n",
       "</div>"
      ],
      "text/plain": [
       "   listing_id        date available    price\n",
       "0      102091  2019-08-13         t  $194.00\n",
       "1      102091  2019-08-12         t  $194.00\n",
       "2      102091  2019-08-11         t  $194.00\n",
       "3      102091  2019-08-10         t  $275.00\n",
       "4      102091  2019-08-09         t  $275.00"
      ]
     },
     "execution_count": 3,
     "metadata": {},
     "output_type": "execute_result"
    }
   ],
   "source": [
    "mad_calendar_data.info()\n",
    "mad_calendar_data[:5]"
   ]
  },
  {
   "cell_type": "code",
   "execution_count": 4,
   "metadata": {},
   "outputs": [
    {
     "name": "stdout",
     "output_type": "stream",
     "text": [
      "<class 'pandas.core.frame.DataFrame'>\n",
      "RangeIndex: 6315595 entries, 0 to 6315594\n",
      "Data columns (total 4 columns):\n",
      "listing_id    int64\n",
      "date          object\n",
      "available     object\n",
      "price         object\n",
      "dtypes: int64(1), object(3)\n",
      "memory usage: 192.7+ MB\n"
     ]
    },
    {
     "data": {
      "text/html": [
       "<div>\n",
       "<style scoped>\n",
       "    .dataframe tbody tr th:only-of-type {\n",
       "        vertical-align: middle;\n",
       "    }\n",
       "\n",
       "    .dataframe tbody tr th {\n",
       "        vertical-align: top;\n",
       "    }\n",
       "\n",
       "    .dataframe thead th {\n",
       "        text-align: right;\n",
       "    }\n",
       "</style>\n",
       "<table border=\"1\" class=\"dataframe\">\n",
       "  <thead>\n",
       "    <tr style=\"text-align: right;\">\n",
       "      <th></th>\n",
       "      <th>listing_id</th>\n",
       "      <th>date</th>\n",
       "      <th>available</th>\n",
       "      <th>price</th>\n",
       "    </tr>\n",
       "  </thead>\n",
       "  <tbody>\n",
       "    <tr>\n",
       "      <th>0</th>\n",
       "      <td>102091</td>\n",
       "      <td>2019-08-13</td>\n",
       "      <td>t</td>\n",
       "      <td>$194.00</td>\n",
       "    </tr>\n",
       "    <tr>\n",
       "      <th>1</th>\n",
       "      <td>102091</td>\n",
       "      <td>2019-08-12</td>\n",
       "      <td>t</td>\n",
       "      <td>$194.00</td>\n",
       "    </tr>\n",
       "    <tr>\n",
       "      <th>2</th>\n",
       "      <td>102091</td>\n",
       "      <td>2019-08-11</td>\n",
       "      <td>t</td>\n",
       "      <td>$194.00</td>\n",
       "    </tr>\n",
       "    <tr>\n",
       "      <th>3</th>\n",
       "      <td>102091</td>\n",
       "      <td>2019-08-10</td>\n",
       "      <td>t</td>\n",
       "      <td>$275.00</td>\n",
       "    </tr>\n",
       "    <tr>\n",
       "      <th>4</th>\n",
       "      <td>102091</td>\n",
       "      <td>2019-08-09</td>\n",
       "      <td>t</td>\n",
       "      <td>$275.00</td>\n",
       "    </tr>\n",
       "  </tbody>\n",
       "</table>\n",
       "</div>"
      ],
      "text/plain": [
       "   listing_id        date available    price\n",
       "0      102091  2019-08-13         t  $194.00\n",
       "1      102091  2019-08-12         t  $194.00\n",
       "2      102091  2019-08-11         t  $194.00\n",
       "3      102091  2019-08-10         t  $275.00\n",
       "4      102091  2019-08-09         t  $275.00"
      ]
     },
     "execution_count": 4,
     "metadata": {},
     "output_type": "execute_result"
    }
   ],
   "source": [
    "mad_calendar_data.info()\n",
    "mad_calendar_data[:5]"
   ]
  },
  {
   "cell_type": "code",
   "execution_count": 5,
   "metadata": {},
   "outputs": [
    {
     "name": "stdout",
     "output_type": "stream",
     "text": [
      "<class 'pandas.core.frame.DataFrame'>\n",
      "RangeIndex: 18473 entries, 0 to 18472\n",
      "Data columns (total 96 columns):\n",
      "id                                  18473 non-null int64\n",
      "listing_url                         18473 non-null object\n",
      "scrape_id                           18473 non-null int64\n",
      "last_scraped                        18473 non-null object\n",
      "name                                18454 non-null object\n",
      "summary                             17680 non-null object\n",
      "space                               13256 non-null object\n",
      "description                         18277 non-null object\n",
      "experiences_offered                 18473 non-null object\n",
      "neighborhood_overview               11638 non-null object\n",
      "notes                               9045 non-null object\n",
      "transit                             10879 non-null object\n",
      "access                              10448 non-null object\n",
      "interaction                         9932 non-null object\n",
      "house_rules                         12438 non-null object\n",
      "thumbnail_url                       0 non-null float64\n",
      "medium_url                          0 non-null float64\n",
      "picture_url                         18473 non-null object\n",
      "xl_picture_url                      0 non-null float64\n",
      "host_id                             18473 non-null int64\n",
      "host_url                            18473 non-null object\n",
      "host_name                           18468 non-null object\n",
      "host_since                          18468 non-null object\n",
      "host_location                       18444 non-null object\n",
      "host_about                          12160 non-null object\n",
      "host_response_time                  12772 non-null object\n",
      "host_response_rate                  12772 non-null object\n",
      "host_acceptance_rate                0 non-null float64\n",
      "host_is_superhost                   18468 non-null object\n",
      "host_thumbnail_url                  18468 non-null object\n",
      "host_picture_url                    18468 non-null object\n",
      "host_neighbourhood                  14125 non-null object\n",
      "host_listings_count                 18468 non-null float64\n",
      "host_total_listings_count           18468 non-null float64\n",
      "host_verifications                  18473 non-null object\n",
      "host_has_profile_pic                18468 non-null object\n",
      "host_identity_verified              18468 non-null object\n",
      "street                              18473 non-null object\n",
      "neighbourhood                       17280 non-null object\n",
      "neighbourhood_cleansed              18473 non-null object\n",
      "neighbourhood_group_cleansed        18473 non-null object\n",
      "city                                18470 non-null object\n",
      "state                               18125 non-null object\n",
      "zipcode                             17683 non-null object\n",
      "market                              18456 non-null object\n",
      "smart_location                      18473 non-null object\n",
      "country_code                        18473 non-null object\n",
      "country                             18473 non-null object\n",
      "latitude                            18473 non-null float64\n",
      "longitude                           18473 non-null float64\n",
      "is_location_exact                   18473 non-null object\n",
      "property_type                       18473 non-null object\n",
      "room_type                           18473 non-null object\n",
      "accommodates                        18473 non-null int64\n",
      "bathrooms                           18461 non-null float64\n",
      "bedrooms                            18462 non-null float64\n",
      "beds                                18447 non-null float64\n",
      "bed_type                            18473 non-null object\n",
      "amenities                           18473 non-null object\n",
      "square_feet                         566 non-null float64\n",
      "price                               18473 non-null object\n",
      "weekly_price                        1587 non-null object\n",
      "monthly_price                       1792 non-null object\n",
      "security_deposit                    12830 non-null object\n",
      "cleaning_fee                        14076 non-null object\n",
      "guests_included                     18473 non-null int64\n",
      "extra_people                        18473 non-null object\n",
      "minimum_nights                      18473 non-null int64\n",
      "maximum_nights                      18473 non-null int64\n",
      "calendar_updated                    18473 non-null object\n",
      "has_availability                    18473 non-null object\n",
      "availability_30                     18473 non-null int64\n",
      "availability_60                     18473 non-null int64\n",
      "availability_90                     18473 non-null int64\n",
      "availability_365                    18473 non-null int64\n",
      "calendar_last_scraped               18473 non-null object\n",
      "number_of_reviews                   18473 non-null int64\n",
      "first_review                        14921 non-null object\n",
      "last_review                         14921 non-null object\n",
      "review_scores_rating                14711 non-null float64\n",
      "review_scores_accuracy              14700 non-null float64\n",
      "review_scores_cleanliness           14701 non-null float64\n",
      "review_scores_checkin               14692 non-null float64\n",
      "review_scores_communication         14705 non-null float64\n",
      "review_scores_location              14693 non-null float64\n",
      "review_scores_value                 14693 non-null float64\n",
      "requires_license                    18473 non-null object\n",
      "license                             9070 non-null object\n",
      "jurisdiction_names                  0 non-null float64\n",
      "instant_bookable                    18473 non-null object\n",
      "is_business_travel_ready            18473 non-null object\n",
      "cancellation_policy                 18473 non-null object\n",
      "require_guest_profile_picture       18473 non-null object\n",
      "require_guest_phone_verification    18473 non-null object\n",
      "calculated_host_listings_count      18473 non-null int64\n",
      "reviews_per_month                   14921 non-null float64\n",
      "dtypes: float64(21), int64(13), object(62)\n",
      "memory usage: 13.5+ MB\n"
     ]
    },
    {
     "data": {
      "text/html": [
       "<div>\n",
       "<style scoped>\n",
       "    .dataframe tbody tr th:only-of-type {\n",
       "        vertical-align: middle;\n",
       "    }\n",
       "\n",
       "    .dataframe tbody tr th {\n",
       "        vertical-align: top;\n",
       "    }\n",
       "\n",
       "    .dataframe thead th {\n",
       "        text-align: right;\n",
       "    }\n",
       "</style>\n",
       "<table border=\"1\" class=\"dataframe\">\n",
       "  <thead>\n",
       "    <tr style=\"text-align: right;\">\n",
       "      <th></th>\n",
       "      <th>id</th>\n",
       "      <th>listing_url</th>\n",
       "      <th>scrape_id</th>\n",
       "      <th>last_scraped</th>\n",
       "      <th>name</th>\n",
       "      <th>summary</th>\n",
       "      <th>space</th>\n",
       "      <th>description</th>\n",
       "      <th>experiences_offered</th>\n",
       "      <th>neighborhood_overview</th>\n",
       "      <th>...</th>\n",
       "      <th>requires_license</th>\n",
       "      <th>license</th>\n",
       "      <th>jurisdiction_names</th>\n",
       "      <th>instant_bookable</th>\n",
       "      <th>is_business_travel_ready</th>\n",
       "      <th>cancellation_policy</th>\n",
       "      <th>require_guest_profile_picture</th>\n",
       "      <th>require_guest_phone_verification</th>\n",
       "      <th>calculated_host_listings_count</th>\n",
       "      <th>reviews_per_month</th>\n",
       "    </tr>\n",
       "  </thead>\n",
       "  <tbody>\n",
       "    <tr>\n",
       "      <th>0</th>\n",
       "      <td>18666</td>\n",
       "      <td>https://www.airbnb.com/rooms/18666</td>\n",
       "      <td>20181010054630</td>\n",
       "      <td>2018-10-10</td>\n",
       "      <td>Flat with Sunny Terrace</td>\n",
       "      <td>Apartment located near the \"Plaza de las Glori...</td>\n",
       "      <td>Nice apartment situated on the penthouse floor...</td>\n",
       "      <td>Apartment located near the \"Plaza de las Glori...</td>\n",
       "      <td>none</td>\n",
       "      <td>Apartment in Barcelona near to the Plaza de la...</td>\n",
       "      <td>...</td>\n",
       "      <td>t</td>\n",
       "      <td>HUTB-003004</td>\n",
       "      <td>NaN</td>\n",
       "      <td>f</td>\n",
       "      <td>f</td>\n",
       "      <td>flexible</td>\n",
       "      <td>f</td>\n",
       "      <td>f</td>\n",
       "      <td>33</td>\n",
       "      <td>0.03</td>\n",
       "    </tr>\n",
       "    <tr>\n",
       "      <th>1</th>\n",
       "      <td>18674</td>\n",
       "      <td>https://www.airbnb.com/rooms/18674</td>\n",
       "      <td>20181010054630</td>\n",
       "      <td>2018-10-10</td>\n",
       "      <td>Huge flat for 8 people close to Sagrada Familia</td>\n",
       "      <td>110m2 apartment to rent in Barcelona. Located ...</td>\n",
       "      <td>Apartment with 110 m2 located in the 6th floor...</td>\n",
       "      <td>110m2 apartment to rent in Barcelona. Located ...</td>\n",
       "      <td>none</td>\n",
       "      <td>Apartment in Barcelona located in the heart of...</td>\n",
       "      <td>...</td>\n",
       "      <td>t</td>\n",
       "      <td>HUTB-002062</td>\n",
       "      <td>NaN</td>\n",
       "      <td>t</td>\n",
       "      <td>f</td>\n",
       "      <td>strict_14_with_grace_period</td>\n",
       "      <td>f</td>\n",
       "      <td>f</td>\n",
       "      <td>33</td>\n",
       "      <td>0.08</td>\n",
       "    </tr>\n",
       "    <tr>\n",
       "      <th>2</th>\n",
       "      <td>21605</td>\n",
       "      <td>https://www.airbnb.com/rooms/21605</td>\n",
       "      <td>20181010054630</td>\n",
       "      <td>2018-10-10</td>\n",
       "      <td>Nice and sunny duble room</td>\n",
       "      <td>The flat is in Poblenou district, and the room...</td>\n",
       "      <td>L'apartament està al barri de Poblenou, i l'ha...</td>\n",
       "      <td>The flat is in Poblenou district, and the room...</td>\n",
       "      <td>none</td>\n",
       "      <td>Poblenou as one of the few areas that has grow...</td>\n",
       "      <td>...</td>\n",
       "      <td>t</td>\n",
       "      <td>NaN</td>\n",
       "      <td>NaN</td>\n",
       "      <td>f</td>\n",
       "      <td>f</td>\n",
       "      <td>moderate</td>\n",
       "      <td>f</td>\n",
       "      <td>f</td>\n",
       "      <td>3</td>\n",
       "      <td>3.22</td>\n",
       "    </tr>\n",
       "    <tr>\n",
       "      <th>3</th>\n",
       "      <td>25786</td>\n",
       "      <td>https://www.airbnb.com/rooms/25786</td>\n",
       "      <td>20181010054630</td>\n",
       "      <td>2018-10-10</td>\n",
       "      <td>NICE ROOM AVAILABLE IN THE HEART OF GRACIA</td>\n",
       "      <td>JUST GO THROUGH THE MANY REVIEWS I GOT THROUGH...</td>\n",
       "      <td>Room available for rent.-  PEDRO PEREZ.  Share...</td>\n",
       "      <td>JUST GO THROUGH THE MANY REVIEWS I GOT THROUGH...</td>\n",
       "      <td>none</td>\n",
       "      <td>Solo decir que a menudo ni salgo del barrio. M...</td>\n",
       "      <td>...</td>\n",
       "      <td>t</td>\n",
       "      <td>NaN</td>\n",
       "      <td>NaN</td>\n",
       "      <td>t</td>\n",
       "      <td>f</td>\n",
       "      <td>strict_14_with_grace_period</td>\n",
       "      <td>t</td>\n",
       "      <td>t</td>\n",
       "      <td>1</td>\n",
       "      <td>2.13</td>\n",
       "    </tr>\n",
       "    <tr>\n",
       "      <th>4</th>\n",
       "      <td>31377</td>\n",
       "      <td>https://www.airbnb.com/rooms/31377</td>\n",
       "      <td>20181010054630</td>\n",
       "      <td>2018-10-10</td>\n",
       "      <td>Room for 2,  Sagrada Famili</td>\n",
       "      <td>The room in 500 m from Sagrada Familia. 3 bran...</td>\n",
       "      <td>Great location, right next to Sagrada Familia,...</td>\n",
       "      <td>The room in 500 m from Sagrada Familia. 3 bran...</td>\n",
       "      <td>none</td>\n",
       "      <td>NaN</td>\n",
       "      <td>...</td>\n",
       "      <td>t</td>\n",
       "      <td>NaN</td>\n",
       "      <td>NaN</td>\n",
       "      <td>f</td>\n",
       "      <td>f</td>\n",
       "      <td>strict_14_with_grace_period</td>\n",
       "      <td>f</td>\n",
       "      <td>f</td>\n",
       "      <td>3</td>\n",
       "      <td>0.10</td>\n",
       "    </tr>\n",
       "  </tbody>\n",
       "</table>\n",
       "<p>5 rows × 96 columns</p>\n",
       "</div>"
      ],
      "text/plain": [
       "      id                         listing_url       scrape_id last_scraped  \\\n",
       "0  18666  https://www.airbnb.com/rooms/18666  20181010054630   2018-10-10   \n",
       "1  18674  https://www.airbnb.com/rooms/18674  20181010054630   2018-10-10   \n",
       "2  21605  https://www.airbnb.com/rooms/21605  20181010054630   2018-10-10   \n",
       "3  25786  https://www.airbnb.com/rooms/25786  20181010054630   2018-10-10   \n",
       "4  31377  https://www.airbnb.com/rooms/31377  20181010054630   2018-10-10   \n",
       "\n",
       "                                              name  \\\n",
       "0                          Flat with Sunny Terrace   \n",
       "1  Huge flat for 8 people close to Sagrada Familia   \n",
       "2                        Nice and sunny duble room   \n",
       "3       NICE ROOM AVAILABLE IN THE HEART OF GRACIA   \n",
       "4                      Room for 2,  Sagrada Famili   \n",
       "\n",
       "                                             summary  \\\n",
       "0  Apartment located near the \"Plaza de las Glori...   \n",
       "1  110m2 apartment to rent in Barcelona. Located ...   \n",
       "2  The flat is in Poblenou district, and the room...   \n",
       "3  JUST GO THROUGH THE MANY REVIEWS I GOT THROUGH...   \n",
       "4  The room in 500 m from Sagrada Familia. 3 bran...   \n",
       "\n",
       "                                               space  \\\n",
       "0  Nice apartment situated on the penthouse floor...   \n",
       "1  Apartment with 110 m2 located in the 6th floor...   \n",
       "2  L'apartament està al barri de Poblenou, i l'ha...   \n",
       "3  Room available for rent.-  PEDRO PEREZ.  Share...   \n",
       "4  Great location, right next to Sagrada Familia,...   \n",
       "\n",
       "                                         description experiences_offered  \\\n",
       "0  Apartment located near the \"Plaza de las Glori...                none   \n",
       "1  110m2 apartment to rent in Barcelona. Located ...                none   \n",
       "2  The flat is in Poblenou district, and the room...                none   \n",
       "3  JUST GO THROUGH THE MANY REVIEWS I GOT THROUGH...                none   \n",
       "4  The room in 500 m from Sagrada Familia. 3 bran...                none   \n",
       "\n",
       "                               neighborhood_overview        ...          \\\n",
       "0  Apartment in Barcelona near to the Plaza de la...        ...           \n",
       "1  Apartment in Barcelona located in the heart of...        ...           \n",
       "2  Poblenou as one of the few areas that has grow...        ...           \n",
       "3  Solo decir que a menudo ni salgo del barrio. M...        ...           \n",
       "4                                                NaN        ...           \n",
       "\n",
       "  requires_license      license jurisdiction_names instant_bookable  \\\n",
       "0                t  HUTB-003004                NaN                f   \n",
       "1                t  HUTB-002062                NaN                t   \n",
       "2                t          NaN                NaN                f   \n",
       "3                t          NaN                NaN                t   \n",
       "4                t          NaN                NaN                f   \n",
       "\n",
       "  is_business_travel_ready          cancellation_policy  \\\n",
       "0                        f                     flexible   \n",
       "1                        f  strict_14_with_grace_period   \n",
       "2                        f                     moderate   \n",
       "3                        f  strict_14_with_grace_period   \n",
       "4                        f  strict_14_with_grace_period   \n",
       "\n",
       "   require_guest_profile_picture require_guest_phone_verification  \\\n",
       "0                              f                                f   \n",
       "1                              f                                f   \n",
       "2                              f                                f   \n",
       "3                              t                                t   \n",
       "4                              f                                f   \n",
       "\n",
       "   calculated_host_listings_count  reviews_per_month  \n",
       "0                              33               0.03  \n",
       "1                              33               0.08  \n",
       "2                               3               3.22  \n",
       "3                               1               2.13  \n",
       "4                               3               0.10  \n",
       "\n",
       "[5 rows x 96 columns]"
      ]
     },
     "execution_count": 5,
     "metadata": {},
     "output_type": "execute_result"
    }
   ],
   "source": [
    "bar_listings_data.info()\n",
    "bar_listings_data[:5]"
   ]
  },
  {
   "cell_type": "code",
   "execution_count": 6,
   "metadata": {},
   "outputs": [
    {
     "name": "stdout",
     "output_type": "stream",
     "text": [
      "<class 'pandas.core.frame.DataFrame'>\n",
      "RangeIndex: 566108 entries, 0 to 566107\n",
      "Data columns (total 6 columns):\n",
      "listing_id       566108 non-null int64\n",
      "id               566108 non-null int64\n",
      "date             566108 non-null object\n",
      "reviewer_id      566108 non-null int64\n",
      "reviewer_name    566107 non-null object\n",
      "comments         565451 non-null object\n",
      "dtypes: int64(3), object(3)\n",
      "memory usage: 25.9+ MB\n"
     ]
    },
    {
     "data": {
      "text/html": [
       "<div>\n",
       "<style scoped>\n",
       "    .dataframe tbody tr th:only-of-type {\n",
       "        vertical-align: middle;\n",
       "    }\n",
       "\n",
       "    .dataframe tbody tr th {\n",
       "        vertical-align: top;\n",
       "    }\n",
       "\n",
       "    .dataframe thead th {\n",
       "        text-align: right;\n",
       "    }\n",
       "</style>\n",
       "<table border=\"1\" class=\"dataframe\">\n",
       "  <thead>\n",
       "    <tr style=\"text-align: right;\">\n",
       "      <th></th>\n",
       "      <th>listing_id</th>\n",
       "      <th>id</th>\n",
       "      <th>date</th>\n",
       "      <th>reviewer_id</th>\n",
       "      <th>reviewer_name</th>\n",
       "      <th>comments</th>\n",
       "    </tr>\n",
       "  </thead>\n",
       "  <tbody>\n",
       "    <tr>\n",
       "      <th>0</th>\n",
       "      <td>19864</td>\n",
       "      <td>1241716</td>\n",
       "      <td>2012-05-07</td>\n",
       "      <td>746123</td>\n",
       "      <td>Rebecca</td>\n",
       "      <td>I had a really great stay in this apartment.  ...</td>\n",
       "    </tr>\n",
       "    <tr>\n",
       "      <th>1</th>\n",
       "      <td>19864</td>\n",
       "      <td>1261674</td>\n",
       "      <td>2012-05-11</td>\n",
       "      <td>1666398</td>\n",
       "      <td>DeAnna</td>\n",
       "      <td>We had a lovely stay in Madrid at Ismael's pla...</td>\n",
       "    </tr>\n",
       "    <tr>\n",
       "      <th>2</th>\n",
       "      <td>19864</td>\n",
       "      <td>1316109</td>\n",
       "      <td>2012-05-21</td>\n",
       "      <td>1311350</td>\n",
       "      <td>Maud</td>\n",
       "      <td>Very nice studio, at the center of Madrid, eve...</td>\n",
       "    </tr>\n",
       "    <tr>\n",
       "      <th>3</th>\n",
       "      <td>19864</td>\n",
       "      <td>1350402</td>\n",
       "      <td>2012-05-26</td>\n",
       "      <td>2042228</td>\n",
       "      <td>Teresa</td>\n",
       "      <td>nuestra estadia en madrid fue buenisima ! y el...</td>\n",
       "    </tr>\n",
       "    <tr>\n",
       "      <th>4</th>\n",
       "      <td>19864</td>\n",
       "      <td>1496116</td>\n",
       "      <td>2012-06-17</td>\n",
       "      <td>257181</td>\n",
       "      <td>Alana</td>\n",
       "      <td>Ismael was an excellent host--very helpful and...</td>\n",
       "    </tr>\n",
       "  </tbody>\n",
       "</table>\n",
       "</div>"
      ],
      "text/plain": [
       "   listing_id       id        date  reviewer_id reviewer_name  \\\n",
       "0       19864  1241716  2012-05-07       746123       Rebecca   \n",
       "1       19864  1261674  2012-05-11      1666398        DeAnna   \n",
       "2       19864  1316109  2012-05-21      1311350          Maud   \n",
       "3       19864  1350402  2012-05-26      2042228        Teresa   \n",
       "4       19864  1496116  2012-06-17       257181         Alana   \n",
       "\n",
       "                                            comments  \n",
       "0  I had a really great stay in this apartment.  ...  \n",
       "1  We had a lovely stay in Madrid at Ismael's pla...  \n",
       "2  Very nice studio, at the center of Madrid, eve...  \n",
       "3  nuestra estadia en madrid fue buenisima ! y el...  \n",
       "4  Ismael was an excellent host--very helpful and...  "
      ]
     },
     "execution_count": 6,
     "metadata": {},
     "output_type": "execute_result"
    }
   ],
   "source": [
    "mad_reviews_data.info()\n",
    "mad_reviews_data[:5]"
   ]
  },
  {
   "cell_type": "code",
   "execution_count": 7,
   "metadata": {
    "scrolled": true
   },
   "outputs": [
    {
     "name": "stdout",
     "output_type": "stream",
     "text": [
      "<class 'pandas.core.frame.DataFrame'>\n",
      "RangeIndex: 577646 entries, 0 to 577645\n",
      "Data columns (total 6 columns):\n",
      "listing_id       577646 non-null int64\n",
      "id               577646 non-null int64\n",
      "date             577646 non-null object\n",
      "reviewer_id      577646 non-null int64\n",
      "reviewer_name    577646 non-null object\n",
      "comments         576892 non-null object\n",
      "dtypes: int64(3), object(3)\n",
      "memory usage: 26.4+ MB\n"
     ]
    },
    {
     "data": {
      "text/html": [
       "<div>\n",
       "<style scoped>\n",
       "    .dataframe tbody tr th:only-of-type {\n",
       "        vertical-align: middle;\n",
       "    }\n",
       "\n",
       "    .dataframe tbody tr th {\n",
       "        vertical-align: top;\n",
       "    }\n",
       "\n",
       "    .dataframe thead th {\n",
       "        text-align: right;\n",
       "    }\n",
       "</style>\n",
       "<table border=\"1\" class=\"dataframe\">\n",
       "  <thead>\n",
       "    <tr style=\"text-align: right;\">\n",
       "      <th></th>\n",
       "      <th>listing_id</th>\n",
       "      <th>id</th>\n",
       "      <th>date</th>\n",
       "      <th>reviewer_id</th>\n",
       "      <th>reviewer_name</th>\n",
       "      <th>comments</th>\n",
       "    </tr>\n",
       "  </thead>\n",
       "  <tbody>\n",
       "    <tr>\n",
       "      <th>0</th>\n",
       "      <td>18666</td>\n",
       "      <td>50158511</td>\n",
       "      <td>2015-10-10</td>\n",
       "      <td>1559265</td>\n",
       "      <td>Jody</td>\n",
       "      <td>Very nice flat. We had easy transportation to ...</td>\n",
       "    </tr>\n",
       "    <tr>\n",
       "      <th>1</th>\n",
       "      <td>18674</td>\n",
       "      <td>4808211</td>\n",
       "      <td>2013-05-27</td>\n",
       "      <td>4841196</td>\n",
       "      <td>Caron</td>\n",
       "      <td>Great location. Clean, spacious flat. Would re...</td>\n",
       "    </tr>\n",
       "    <tr>\n",
       "      <th>2</th>\n",
       "      <td>18674</td>\n",
       "      <td>10660311</td>\n",
       "      <td>2014-03-02</td>\n",
       "      <td>11600277</td>\n",
       "      <td>Juan Carlos</td>\n",
       "      <td>Mi mejor recomendación para este departamento....</td>\n",
       "    </tr>\n",
       "    <tr>\n",
       "      <th>3</th>\n",
       "      <td>18674</td>\n",
       "      <td>41087522</td>\n",
       "      <td>2015-08-04</td>\n",
       "      <td>35231385</td>\n",
       "      <td>Shlomi</td>\n",
       "      <td>Big apartment, well equipped.\\r\\nVery good ser...</td>\n",
       "    </tr>\n",
       "    <tr>\n",
       "      <th>4</th>\n",
       "      <td>18674</td>\n",
       "      <td>81000756</td>\n",
       "      <td>2016-06-20</td>\n",
       "      <td>23223644</td>\n",
       "      <td>Joost</td>\n",
       "      <td>The Check in was fast and flexible. The price ...</td>\n",
       "    </tr>\n",
       "  </tbody>\n",
       "</table>\n",
       "</div>"
      ],
      "text/plain": [
       "   listing_id        id        date  reviewer_id reviewer_name  \\\n",
       "0       18666  50158511  2015-10-10      1559265          Jody   \n",
       "1       18674   4808211  2013-05-27      4841196         Caron   \n",
       "2       18674  10660311  2014-03-02     11600277   Juan Carlos   \n",
       "3       18674  41087522  2015-08-04     35231385        Shlomi   \n",
       "4       18674  81000756  2016-06-20     23223644         Joost   \n",
       "\n",
       "                                            comments  \n",
       "0  Very nice flat. We had easy transportation to ...  \n",
       "1  Great location. Clean, spacious flat. Would re...  \n",
       "2  Mi mejor recomendación para este departamento....  \n",
       "3  Big apartment, well equipped.\\r\\nVery good ser...  \n",
       "4  The Check in was fast and flexible. The price ...  "
      ]
     },
     "execution_count": 7,
     "metadata": {},
     "output_type": "execute_result"
    }
   ],
   "source": [
    "bar_reviews_data.info()\n",
    "bar_reviews_data[:5]"
   ]
  },
  {
   "cell_type": "markdown",
   "metadata": {},
   "source": [
    "\n",
    "### Assessing the data\n",
    "---------------------------------\n",
    "\n",
    "The collected data can be differenciated in three different groups:\n",
    "\n",
    "- reviews_data:\n",
    "\n",
    "    - Review-specific to be excluded from \"predictive\" model.\n",
    "    \n",
    "\n",
    "- calendar_data:\n",
    "\n",
    "    - Price and room availability seem like potential predictors, although we are only looking for the revenue.\n",
    "    \n",
    "\n",
    "- listings_data:\n",
    "\n",
    "    - Potential predictors: Most of the data.\n",
    "\n",
    "\n",
    "Lest's focus first on the listings' data for the purpose of finding what users look for and I'll end up analyzing the calendar and price data.\n",
    "\n",
    "---------------------------------"
   ]
  },
  {
   "cell_type": "markdown",
   "metadata": {},
   "source": [
    "### Prepare Data\n",
    "---------------------------------\n",
    "\n",
    "\n",
    "Trimming the dataset to ones that are going to be the most valuable. They can be grouped in five groups:\n",
    "\n",
    "   - Descriptive: name, summary, space, description.\n",
    "   \n",
    "    \n",
    "   - Host: host_response_time, host_response_rate, host_acceptance_rate, host_is_superhost.\n",
    "   \n",
    "\n",
    "   - Listing details: property_type, room_type, accomodates, bathrooms, bedrooms, beds, bed_type, amenities.\n",
    "   \n",
    "\n",
    "   - Listing elements: price, cleaning_fee, extra_people, minimum_nights, maximum_nights, instant_bookable, cancellation policy.\n",
    "   \n",
    "\n",
    "   - Experiences: 'review_scores_rating', 'review_scores_accuracy', review_scores_cleanliness', 'review_scores_checkin', 'review_scores_communication', 'review_scores_location', 'review_scores_value'.\n",
    "\n",
    "---------------------------------"
   ]
  },
  {
   "cell_type": "code",
   "execution_count": 8,
   "metadata": {
    "collapsed": true
   },
   "outputs": [],
   "source": [
    "mad_ld = mad_listings_data.loc[:,['name', 'summary', 'space', 'description', 'host_response_time', 'host_response_rate', \n",
    "                          'host_acceptance_rate', 'host_is_superhost', 'neighbourhood_group_cleansed', 'property_type', \n",
    "                          'room_type', 'accommodates', 'bathrooms', 'bedrooms', 'beds', 'bed_type', 'amenities', 'price', \n",
    "                          'cleaning_fee', 'minimum_nights', 'maximum_nights', 'instant_bookable','cancellation_policy',\n",
    "                          'review_scores_rating', 'review_scores_accuracy', 'review_scores_cleanliness', 'review_scores_checkin',\n",
    "                          'review_scores_communication', 'review_scores_location', 'review_scores_value']]"
   ]
  },
  {
   "cell_type": "code",
   "execution_count": 9,
   "metadata": {
    "collapsed": true
   },
   "outputs": [],
   "source": [
    "bar_ld = bar_listings_data.loc[:,['name', 'summary', 'space', 'description', 'host_response_time', 'host_response_rate', \n",
    "                          'host_acceptance_rate', 'host_is_superhost', 'neighbourhood_group_cleansed', 'property_type', \n",
    "                          'room_type', 'accommodates', 'bathrooms', 'bedrooms', 'beds', 'bed_type', 'amenities', 'price', \n",
    "                          'cleaning_fee', 'minimum_nights', 'maximum_nights', 'instant_bookable','cancellation_policy',\n",
    "                          'review_scores_rating', 'review_scores_accuracy', 'review_scores_cleanliness', 'review_scores_checkin',\n",
    "                          'review_scores_communication', 'review_scores_location', 'review_scores_value']]"
   ]
  },
  {
   "cell_type": "code",
   "execution_count": 10,
   "metadata": {},
   "outputs": [
    {
     "name": "stdout",
     "output_type": "stream",
     "text": [
      "<class 'pandas.core.frame.DataFrame'>\n",
      "RangeIndex: 17303 entries, 0 to 17302\n",
      "Data columns (total 30 columns):\n",
      "name                            17298 non-null object\n",
      "summary                         16639 non-null object\n",
      "space                           12578 non-null object\n",
      "description                     17074 non-null object\n",
      "host_response_time              11291 non-null object\n",
      "host_response_rate              11291 non-null object\n",
      "host_acceptance_rate            0 non-null float64\n",
      "host_is_superhost               17299 non-null object\n",
      "neighbourhood_group_cleansed    17303 non-null object\n",
      "property_type                   17303 non-null object\n",
      "room_type                       17303 non-null object\n",
      "accommodates                    17303 non-null int64\n",
      "bathrooms                       17276 non-null float64\n",
      "bedrooms                        17292 non-null float64\n",
      "beds                            17268 non-null float64\n",
      "bed_type                        17303 non-null object\n",
      "amenities                       17303 non-null object\n",
      "price                           17303 non-null object\n",
      "cleaning_fee                    12972 non-null object\n",
      "minimum_nights                  17303 non-null int64\n",
      "maximum_nights                  17303 non-null int64\n",
      "instant_bookable                17303 non-null object\n",
      "cancellation_policy             17303 non-null object\n",
      "review_scores_rating            14187 non-null float64\n",
      "review_scores_accuracy          14178 non-null float64\n",
      "review_scores_cleanliness       14183 non-null float64\n",
      "review_scores_checkin           14171 non-null float64\n",
      "review_scores_communication     14179 non-null float64\n",
      "review_scores_location          14169 non-null float64\n",
      "review_scores_value             14167 non-null float64\n",
      "dtypes: float64(11), int64(3), object(16)\n",
      "memory usage: 4.0+ MB\n"
     ]
    }
   ],
   "source": [
    "mad_ld.info()"
   ]
  },
  {
   "cell_type": "code",
   "execution_count": 11,
   "metadata": {},
   "outputs": [
    {
     "name": "stdout",
     "output_type": "stream",
     "text": [
      "<class 'pandas.core.frame.DataFrame'>\n",
      "RangeIndex: 18473 entries, 0 to 18472\n",
      "Data columns (total 30 columns):\n",
      "name                            18454 non-null object\n",
      "summary                         17680 non-null object\n",
      "space                           13256 non-null object\n",
      "description                     18277 non-null object\n",
      "host_response_time              12772 non-null object\n",
      "host_response_rate              12772 non-null object\n",
      "host_acceptance_rate            0 non-null float64\n",
      "host_is_superhost               18468 non-null object\n",
      "neighbourhood_group_cleansed    18473 non-null object\n",
      "property_type                   18473 non-null object\n",
      "room_type                       18473 non-null object\n",
      "accommodates                    18473 non-null int64\n",
      "bathrooms                       18461 non-null float64\n",
      "bedrooms                        18462 non-null float64\n",
      "beds                            18447 non-null float64\n",
      "bed_type                        18473 non-null object\n",
      "amenities                       18473 non-null object\n",
      "price                           18473 non-null object\n",
      "cleaning_fee                    14076 non-null object\n",
      "minimum_nights                  18473 non-null int64\n",
      "maximum_nights                  18473 non-null int64\n",
      "instant_bookable                18473 non-null object\n",
      "cancellation_policy             18473 non-null object\n",
      "review_scores_rating            14711 non-null float64\n",
      "review_scores_accuracy          14700 non-null float64\n",
      "review_scores_cleanliness       14701 non-null float64\n",
      "review_scores_checkin           14692 non-null float64\n",
      "review_scores_communication     14705 non-null float64\n",
      "review_scores_location          14693 non-null float64\n",
      "review_scores_value             14693 non-null float64\n",
      "dtypes: float64(11), int64(3), object(16)\n",
      "memory usage: 4.2+ MB\n"
     ]
    }
   ],
   "source": [
    "bar_ld.info()"
   ]
  },
  {
   "cell_type": "markdown",
   "metadata": {},
   "source": [
    "### Clean Data and explanation for N/A filling\n",
    "\n",
    "---------------------------------\n",
    "\n",
    "- Get lenghts of descriptive variables and drop original description variables. **N/A values in 'name_length', 'summary_length', 'space_length' and 'description_length' are filledd with 0 since it means there is nothing in them.**\n",
    "\n",
    "- Recode host_response_time to integers since for easy handling and **fill missing values using forward-fill method since they don't seem to be too critic.**\n",
    "\n",
    "- Convert acceptance/response percentages to numbers and **fill missing values using forward-fill method method since they don't seem to be too critic.**\n",
    "\n",
    "- Change boolean to binary.\n",
    "\n",
    "- Trim property_type category to 5 categories.\n",
    "\n",
    "- Change bed_type to binary real bed or other.\n",
    "\n",
    "- Convert cleaning fee and price from strings to float and **fill missing values with 0 for no cleaning fee because, obviously, if there is no cleaning fee it means that there is no cost to it. ie 0.**\n",
    "\n",
    "- bathrooms, bedrooms, beds and host_is_superhost are **filled with na since we cannot be sure what a missing value represents.**\n",
    "\n",
    "---------------------------------"
   ]
  },
  {
   "cell_type": "code",
   "execution_count": 12,
   "metadata": {
    "collapsed": true
   },
   "outputs": [],
   "source": [
    "mad_ld.loc[:,'name_length'] = mad_ld['name'].str.len()\n",
    "mad_ld.loc[:,'summary_length'] = mad_ld['summary'].str.len()\n",
    "mad_ld.loc[:,'space_length'] = mad_ld['space'].str.len()\n",
    "mad_ld.loc[:,'description_length'] = mad_ld['description'].str.len()\n",
    "mad_ld.loc[:,'amenities_length'] = mad_ld['amenities'].str.len()\n",
    "mad_ld.loc[:,'name_length'].fillna(0, inplace=True)\n",
    "mad_ld.loc[:,'summary_length'].fillna(0, inplace=True)\n",
    "mad_ld.loc[:,'space_length'].fillna(0, inplace=True)\n",
    "mad_ld.loc[:,'description_length'].fillna(0, inplace=True)\n",
    "mad_ld.loc[:,'amenities_length'] = mad_ld['amenities'].str.len()\n",
    "mad_ld = mad_ld.drop(['name', 'summary', 'space', 'description', 'amenities'], 1)"
   ]
  },
  {
   "cell_type": "code",
   "execution_count": 13,
   "metadata": {
    "collapsed": true
   },
   "outputs": [],
   "source": [
    "mad_ld['host_response_time'].replace('within an hour', 1, inplace=True)\n",
    "mad_ld['host_response_time'].replace('within a few hours', 2, inplace=True)\n",
    "mad_ld['host_response_time'].replace('within a day', 3, inplace=True)\n",
    "mad_ld['host_response_time'].replace('a few days or more', 4, inplace=True)\n",
    "mad_ld['host_response_time'].fillna(method='ffill', inplace=True)"
   ]
  },
  {
   "cell_type": "code",
   "execution_count": 14,
   "metadata": {
    "collapsed": true
   },
   "outputs": [],
   "source": [
    "mad_ld['host_acceptance_rate'] = mad_ld['host_acceptance_rate'].replace('%','',regex=True).astype('float64')/100.00\n",
    "mad_ld['host_response_rate'] = mad_ld['host_response_rate'].replace('%','',regex=True).astype('float64')/100.00\n",
    "mad_ld['host_response_rate'].fillna(method='ffill', inplace=True)\n",
    "mad_ld['host_acceptance_rate'].fillna(method='ffill', inplace=True)"
   ]
  },
  {
   "cell_type": "code",
   "execution_count": 15,
   "metadata": {
    "collapsed": true
   },
   "outputs": [],
   "source": [
    "mad_ld['host_is_superhost'].replace('t',1, inplace=True)\n",
    "mad_ld['host_is_superhost'].replace('f',0, inplace=True)\n",
    "mad_ld['instant_bookable'].replace('t',1, inplace=True)\n",
    "mad_ld['instant_bookable'].replace('f',0, inplace=True)"
   ]
  },
  {
   "cell_type": "code",
   "execution_count": 16,
   "metadata": {
    "collapsed": true
   },
   "outputs": [],
   "source": [
    "bar_ld.loc[:,'name_length'] = bar_ld['name'].str.len()\n",
    "bar_ld.loc[:,'summary_length'] = bar_ld['summary'].str.len()\n",
    "bar_ld.loc[:,'space_length'] = bar_ld['space'].str.len()\n",
    "bar_ld.loc[:,'description_length'] = bar_ld['description'].str.len()\n",
    "bar_ld.loc[:,'amenities_length'] = bar_ld['amenities'].str.len()\n",
    "bar_ld.loc[:,'name_length'].fillna(0, inplace=True)\n",
    "bar_ld.loc[:,'summary_length'].fillna(0, inplace=True)\n",
    "bar_ld.loc[:,'space_length'].fillna(0, inplace=True)\n",
    "bar_ld.loc[:,'description_length'].fillna(0, inplace=True)\n",
    "bar_ld.loc[:,'amenities_length'] = bar_ld['amenities'].str.len()\n",
    "bar_ld = bar_ld.drop(['name', 'summary', 'space', 'description', 'amenities'], 1)"
   ]
  },
  {
   "cell_type": "code",
   "execution_count": 17,
   "metadata": {
    "collapsed": true
   },
   "outputs": [],
   "source": [
    "bar_ld['host_response_time'].replace('within an hour', 1, inplace=True)\n",
    "bar_ld['host_response_time'].replace('within a few hours', 2, inplace=True)\n",
    "bar_ld['host_response_time'].replace('within a day', 3, inplace=True)\n",
    "bar_ld['host_response_time'].replace('a few days or more', 4, inplace=True)\n",
    "bar_ld['host_response_time'].fillna(method='ffill', inplace=True)"
   ]
  },
  {
   "cell_type": "code",
   "execution_count": 18,
   "metadata": {
    "collapsed": true
   },
   "outputs": [],
   "source": [
    "bar_ld['host_acceptance_rate'] = bar_ld['host_acceptance_rate'].replace('%','',regex=True).astype('float64')/100.00\n",
    "bar_ld['host_response_rate'] = bar_ld['host_response_rate'].replace('%','',regex=True).astype('float64')/100.00\n",
    "bar_ld['host_response_rate'].fillna(method='ffill', inplace=True)\n",
    "bar_ld['host_acceptance_rate'].fillna(method='ffill', inplace=True)"
   ]
  },
  {
   "cell_type": "code",
   "execution_count": 19,
   "metadata": {
    "collapsed": true
   },
   "outputs": [],
   "source": [
    "bar_ld['host_is_superhost'].replace('t',1, inplace=True)\n",
    "bar_ld['host_is_superhost'].replace('f',0, inplace=True)\n",
    "bar_ld['instant_bookable'].replace('t',1, inplace=True)\n",
    "bar_ld['instant_bookable'].replace('f',0, inplace=True)"
   ]
  },
  {
   "cell_type": "code",
   "execution_count": 20,
   "metadata": {
    "collapsed": true
   },
   "outputs": [],
   "source": [
    "#Clean property_type category to 5 categories (this is commented because previous reviewer thought it wasn't clear enough...)\n",
    "\n",
    "def recode(value):\n",
    "    if value not in ['House', 'Apartment', 'Townhouse', 'Condominium']:\n",
    "        return 'Other'\n",
    "    return value"
   ]
  },
  {
   "cell_type": "code",
   "execution_count": 23,
   "metadata": {
    "collapsed": true
   },
   "outputs": [],
   "source": [
    "#Clean bed_type to binary real bed or other (this is commented because previous reviewer thought it wasn't clear enough...)\n",
    "\n",
    "def recode(value):\n",
    "    if value not in ['Real Bed']:\n",
    "        return 'Other'\n",
    "    return value"
   ]
  },
  {
   "cell_type": "code",
   "execution_count": 21,
   "metadata": {
    "collapsed": true
   },
   "outputs": [],
   "source": [
    "mad_ld['property_type'] = mad_ld['property_type'].apply(recode)"
   ]
  },
  {
   "cell_type": "code",
   "execution_count": 22,
   "metadata": {
    "collapsed": true
   },
   "outputs": [],
   "source": [
    "bar_ld['property_type'] = bar_ld['property_type'].apply(recode)"
   ]
  },
  {
   "cell_type": "code",
   "execution_count": 24,
   "metadata": {
    "collapsed": true
   },
   "outputs": [],
   "source": [
    "mad_ld['bed_type'] = mad_ld['bed_type'].apply(recode)"
   ]
  },
  {
   "cell_type": "code",
   "execution_count": 25,
   "metadata": {
    "collapsed": true
   },
   "outputs": [],
   "source": [
    "bar_ld['bed_type'] = bar_ld['bed_type'].apply(recode)"
   ]
  },
  {
   "cell_type": "code",
   "execution_count": 26,
   "metadata": {
    "collapsed": true
   },
   "outputs": [],
   "source": [
    "mad_ld['price'] = mad_ld['price'].str.replace('$', '')\n",
    "mad_ld['price'] = mad_ld['price'].str.replace(',', '').astype('float64')\n",
    "mad_ld['cleaning_fee'] = mad_ld['cleaning_fee'].str.replace('$', '')\n",
    "mad_ld['cleaning_fee'] = mad_ld['cleaning_fee'].str.replace(',', '').astype('float64')"
   ]
  },
  {
   "cell_type": "code",
   "execution_count": 27,
   "metadata": {
    "collapsed": true
   },
   "outputs": [],
   "source": [
    "bar_ld['price'] = bar_ld['price'].str.replace('$', '')\n",
    "bar_ld['price'] = bar_ld['price'].str.replace(',', '').astype('float64')\n",
    "bar_ld['cleaning_fee'] = bar_ld['cleaning_fee'].str.replace('$', '')\n",
    "bar_ld['cleaning_fee'] = bar_ld['cleaning_fee'].str.replace(',', '').astype('float64')"
   ]
  },
  {
   "cell_type": "code",
   "execution_count": 28,
   "metadata": {
    "collapsed": true
   },
   "outputs": [],
   "source": [
    "mad_ld['cleaning_fee'].fillna(0, inplace=True)\n",
    "mad_ld['bathrooms'].fillna(method='ffill', inplace=True)\n",
    "mad_ld['bedrooms'].fillna(method='ffill', inplace=True)\n",
    "mad_ld['beds'].fillna(method='ffill', inplace=True)\n",
    "mad_ld['host_is_superhost'].fillna(method='ffill', inplace=True)"
   ]
  },
  {
   "cell_type": "code",
   "execution_count": 29,
   "metadata": {
    "collapsed": true
   },
   "outputs": [],
   "source": [
    "bar_ld['cleaning_fee'].fillna(0, inplace=True)\n",
    "bar_ld['bathrooms'].fillna(method='ffill', inplace=True)\n",
    "bar_ld['bedrooms'].fillna(method='ffill', inplace=True)\n",
    "bar_ld['beds'].fillna(method='ffill', inplace=True)\n",
    "bar_ld['host_is_superhost'].fillna(method='ffill', inplace=True)"
   ]
  },
  {
   "cell_type": "code",
   "execution_count": 30,
   "metadata": {
    "collapsed": true
   },
   "outputs": [],
   "source": [
    "mad_ld = mad_ld[mad_ld['review_scores_rating'].isnull() == 0]"
   ]
  },
  {
   "cell_type": "code",
   "execution_count": 31,
   "metadata": {
    "collapsed": true
   },
   "outputs": [],
   "source": [
    "bar_ld = bar_ld[bar_ld['review_scores_rating'].isnull() == 0]"
   ]
  },
  {
   "cell_type": "code",
   "execution_count": 32,
   "metadata": {
    "collapsed": true
   },
   "outputs": [],
   "source": [
    "mad_ld = mad_ld.drop(['host_acceptance_rate'], axis=1)"
   ]
  },
  {
   "cell_type": "code",
   "execution_count": 33,
   "metadata": {
    "collapsed": true
   },
   "outputs": [],
   "source": [
    "bar_ld = bar_ld.drop(['host_acceptance_rate'], axis=1)"
   ]
  },
  {
   "cell_type": "code",
   "execution_count": 34,
   "metadata": {},
   "outputs": [
    {
     "name": "stdout",
     "output_type": "stream",
     "text": [
      "<class 'pandas.core.frame.DataFrame'>\n",
      "Int64Index: 14187 entries, 0 to 17201\n",
      "Data columns (total 29 columns):\n",
      "host_response_time              14187 non-null float64\n",
      "host_response_rate              14187 non-null float64\n",
      "host_is_superhost               14187 non-null float64\n",
      "neighbourhood_group_cleansed    14187 non-null object\n",
      "property_type                   14187 non-null object\n",
      "room_type                       14187 non-null object\n",
      "accommodates                    14187 non-null int64\n",
      "bathrooms                       14187 non-null float64\n",
      "bedrooms                        14187 non-null float64\n",
      "beds                            14187 non-null float64\n",
      "bed_type                        14187 non-null object\n",
      "price                           14187 non-null float64\n",
      "cleaning_fee                    14187 non-null float64\n",
      "minimum_nights                  14187 non-null int64\n",
      "maximum_nights                  14187 non-null int64\n",
      "instant_bookable                14187 non-null int64\n",
      "cancellation_policy             14187 non-null object\n",
      "review_scores_rating            14187 non-null float64\n",
      "review_scores_accuracy          14176 non-null float64\n",
      "review_scores_cleanliness       14181 non-null float64\n",
      "review_scores_checkin           14169 non-null float64\n",
      "review_scores_communication     14177 non-null float64\n",
      "review_scores_location          14167 non-null float64\n",
      "review_scores_value             14165 non-null float64\n",
      "name_length                     14187 non-null float64\n",
      "summary_length                  14187 non-null float64\n",
      "space_length                    14187 non-null float64\n",
      "description_length              14187 non-null float64\n",
      "amenities_length                14187 non-null int64\n",
      "dtypes: float64(19), int64(5), object(5)\n",
      "memory usage: 3.2+ MB\n"
     ]
    }
   ],
   "source": [
    "mad_ld.info()"
   ]
  },
  {
   "cell_type": "code",
   "execution_count": 35,
   "metadata": {},
   "outputs": [
    {
     "name": "stdout",
     "output_type": "stream",
     "text": [
      "<class 'pandas.core.frame.DataFrame'>\n",
      "Int64Index: 14711 entries, 0 to 18372\n",
      "Data columns (total 29 columns):\n",
      "host_response_time              14711 non-null float64\n",
      "host_response_rate              14711 non-null float64\n",
      "host_is_superhost               14711 non-null float64\n",
      "neighbourhood_group_cleansed    14711 non-null object\n",
      "property_type                   14711 non-null object\n",
      "room_type                       14711 non-null object\n",
      "accommodates                    14711 non-null int64\n",
      "bathrooms                       14711 non-null float64\n",
      "bedrooms                        14711 non-null float64\n",
      "beds                            14711 non-null float64\n",
      "bed_type                        14711 non-null object\n",
      "price                           14711 non-null float64\n",
      "cleaning_fee                    14711 non-null float64\n",
      "minimum_nights                  14711 non-null int64\n",
      "maximum_nights                  14711 non-null int64\n",
      "instant_bookable                14711 non-null int64\n",
      "cancellation_policy             14711 non-null object\n",
      "review_scores_rating            14711 non-null float64\n",
      "review_scores_accuracy          14699 non-null float64\n",
      "review_scores_cleanliness       14700 non-null float64\n",
      "review_scores_checkin           14691 non-null float64\n",
      "review_scores_communication     14704 non-null float64\n",
      "review_scores_location          14692 non-null float64\n",
      "review_scores_value             14692 non-null float64\n",
      "name_length                     14711 non-null float64\n",
      "summary_length                  14711 non-null float64\n",
      "space_length                    14711 non-null float64\n",
      "description_length              14711 non-null float64\n",
      "amenities_length                14711 non-null int64\n",
      "dtypes: float64(19), int64(5), object(5)\n",
      "memory usage: 3.4+ MB\n"
     ]
    }
   ],
   "source": [
    "bar_ld.info()"
   ]
  },
  {
   "cell_type": "markdown",
   "metadata": {},
   "source": [
    "### Data Modeling"
   ]
  },
  {
   "cell_type": "markdown",
   "metadata": {},
   "source": [
    "##### Distributions"
   ]
  },
  {
   "cell_type": "code",
   "execution_count": 36,
   "metadata": {
    "collapsed": true
   },
   "outputs": [],
   "source": [
    "numerics = ['int16', 'int32', 'int64', 'float16', 'float32', 'float64']"
   ]
  },
  {
   "cell_type": "code",
   "execution_count": 37,
   "metadata": {},
   "outputs": [
    {
     "data": {
      "image/png": "[encoded data removed]",
      "text/plain": [
       "<matplotlib.figure.Figure at 0x2d6058b3b70>"
      ]
     },
     "metadata": {},
     "output_type": "display_data"
    }
   ],
   "source": [
    "mad_numdf = mad_ld.select_dtypes(include=numerics)\n",
    "mad_numdf = mad_numdf.dropna(axis=0, how='any')\n",
    "mad_numdf_variables = list(mad_numdf)\n",
    "\n",
    "mad_graphs = len(mad_numdf_variables)-1\n",
    "\n",
    "# Create a list of positions for the chart (this is commented because previous reviewer thought it wasn't clear enough...)\n",
    "\n",
    "mad_position = []\n",
    "for i in range(8):\n",
    "    for j in range(3):\n",
    "        b = i,j\n",
    "        mad_position.append(b)\n",
    "\n",
    "fig, axes = plt.subplots(nrows=8, ncols=3, sharey=False, sharex=False, figsize=(12,20))\n",
    "fig.subplots_adjust(hspace=.5)\n",
    "\n",
    "# Fill positions in chart with graphs (this is commented because previous reviewer thought it wasn't clear enough...)\n",
    "\n",
    "for i in range(mad_graphs):\n",
    "    sns.distplot(mad_numdf[mad_numdf_variables[i]], ax=axes[mad_position[i]], kde=False)\n",
    "    \n",
    "fig.savefig('images/madrid_ditributions.png')"
   ]
  },
  {
   "cell_type": "code",
   "execution_count": 38,
   "metadata": {},
   "outputs": [
    {
     "data": {
      "image/png": "[encoded data removed]",
      "text/plain": [
       "<matplotlib.figure.Figure at 0x2d61293b7f0>"
      ]
     },
     "metadata": {},
     "output_type": "display_data"
    }
   ],
   "source": [
    "bar_numdf = bar_ld.select_dtypes(include=numerics)\n",
    "bar_numdf = bar_numdf.dropna(axis=0, how='any')\n",
    "bar_numdf_variables = list(bar_numdf)\n",
    "\n",
    "bar_graphs = len(bar_numdf_variables)-1\n",
    "\n",
    "# Create a list of positions for the chart (this is commented because previous reviewer thought it wasn't clear enough...)\n",
    "\n",
    "bar_position = []\n",
    "for i in range(8):\n",
    "    for j in range(3):\n",
    "        b = i,j\n",
    "        bar_position.append(b)\n",
    "\n",
    "fig, axes = plt.subplots(nrows=8, ncols=3, sharey=False, sharex=False, figsize=(12,20))\n",
    "fig.subplots_adjust(hspace=.5)\n",
    "\n",
    "# Fill positions in chart with graphs (this is commented because previous reviewer thought it wasn't clear enough...)\n",
    "\n",
    "for i in range(bar_graphs):\n",
    "    sns.distplot(bar_numdf[bar_numdf_variables[i]], ax=axes[bar_position[i]], kde=False)\n",
    "    \n",
    "fig.savefig('images/barcelona_ditributions.png')"
   ]
  },
  {
   "cell_type": "markdown",
   "metadata": {},
   "source": [
    "##### Correlation matrices"
   ]
  },
  {
   "cell_type": "code",
   "execution_count": 39,
   "metadata": {},
   "outputs": [
    {
     "data": {
      "text/plain": [
       "review_scores_rating           1.000000\n",
       "review_scores_value            0.798566\n",
       "review_scores_accuracy         0.779162\n",
       "review_scores_cleanliness      0.705932\n",
       "review_scores_communication    0.666187\n",
       "review_scores_checkin          0.628580\n",
       "review_scores_location         0.408552\n",
       "host_is_superhost              0.283191\n",
       "amenities_length               0.160993\n",
       "name_length                    0.080125\n",
       "description_length             0.070799\n",
       "host_response_rate             0.036009\n",
       "summary_length                 0.034486\n",
       "bathrooms                      0.025636\n",
       "space_length                   0.025168\n",
       "bedrooms                       0.022531\n",
       "cleaning_fee                   0.018790\n",
       "price                          0.004343\n",
       "host_response_time            -0.000856\n",
       "maximum_nights                -0.001584\n",
       "minimum_nights                -0.003236\n",
       "beds                          -0.037201\n",
       "accommodates                  -0.038836\n",
       "instant_bookable              -0.077400\n",
       "Name: review_scores_rating, dtype: float64"
      ]
     },
     "execution_count": 39,
     "metadata": {},
     "output_type": "execute_result"
    },
    {
     "data": {
      "image/png": "[encoded data removed]",
      "text/plain": [
       "<matplotlib.figure.Figure at 0x2d615200e10>"
      ]
     },
     "metadata": {},
     "output_type": "display_data"
    }
   ],
   "source": [
    "fig, ax = plt.subplots(figsize=(16,10))\n",
    "ax.set_title('Madrid AirBnB Heatmap')\n",
    "mad_corr = mad_ld.corr()\n",
    "mad_corr = (mad_corr)\n",
    "sns.heatmap(mad_corr, \n",
    "            xticklabels=mad_corr.columns.values,\n",
    "            yticklabels=mad_corr.columns.values, linewidths=.5, ax=ax)\n",
    "mad_corr['review_scores_rating'].sort_values(ascending=False)"
   ]
  },
  {
   "cell_type": "code",
   "execution_count": 40,
   "metadata": {
    "collapsed": true
   },
   "outputs": [],
   "source": [
    "fig.savefig('images/madrid_heatmap.png')"
   ]
  },
  {
   "cell_type": "code",
   "execution_count": 41,
   "metadata": {},
   "outputs": [
    {
     "data": {
      "text/plain": [
       "review_scores_rating           1.000000\n",
       "review_scores_value            0.788952\n",
       "review_scores_accuracy         0.775786\n",
       "review_scores_cleanliness      0.714284\n",
       "review_scores_communication    0.685066\n",
       "review_scores_checkin          0.642065\n",
       "review_scores_location         0.478179\n",
       "host_is_superhost              0.293166\n",
       "amenities_length               0.138017\n",
       "name_length                    0.052011\n",
       "description_length             0.049391\n",
       "host_response_rate             0.043921\n",
       "summary_length                 0.017856\n",
       "host_response_time             0.005050\n",
       "space_length                   0.004559\n",
       "maximum_nights                 0.003019\n",
       "minimum_nights                -0.001111\n",
       "price                         -0.018240\n",
       "bathrooms                     -0.038185\n",
       "bedrooms                      -0.050901\n",
       "cleaning_fee                  -0.058208\n",
       "instant_bookable              -0.094834\n",
       "beds                          -0.097826\n",
       "accommodates                  -0.098582\n",
       "Name: review_scores_rating, dtype: float64"
      ]
     },
     "execution_count": 41,
     "metadata": {},
     "output_type": "execute_result"
    },
    {
     "data": {
      "image/png": "[encoded data removed]",
      "text/plain": [
       "<matplotlib.figure.Figure at 0x2d612e73400>"
      ]
     },
     "metadata": {},
     "output_type": "display_data"
    }
   ],
   "source": [
    "fig, ax = plt.subplots(figsize=(16,10))\n",
    "ax.set_title('Barcelona AirBnB Heatmap')\n",
    "bar_corr = bar_ld.corr()\n",
    "bar_corr = (bar_corr)\n",
    "sns.heatmap(bar_corr, \n",
    "            xticklabels=bar_corr.columns.values,\n",
    "            yticklabels=bar_corr.columns.values, linewidths=.5, ax=ax)\n",
    "bar_corr['review_scores_rating'].sort_values(ascending=False)"
   ]
  },
  {
   "cell_type": "code",
   "execution_count": 42,
   "metadata": {
    "collapsed": true
   },
   "outputs": [],
   "source": [
    "fig.savefig('images/barcelona_heatmap.png')"
   ]
  },
  {
   "cell_type": "markdown",
   "metadata": {},
   "source": [
    "### Madrid Prediction Models"
   ]
  },
  {
   "cell_type": "code",
   "execution_count": 43,
   "metadata": {
    "collapsed": true
   },
   "outputs": [],
   "source": [
    "mad_model_data = mad_ld.loc[:,('host_response_time', 'host_response_rate', 'host_is_superhost', 'neighbourhood_group_cleansed',\n",
    "                               'property_type', 'room_type', 'accommodates', 'bathrooms', 'bedrooms', 'beds', 'bed_type', \n",
    "                               'price', 'cleaning_fee', 'minimum_nights', 'maximum_nights', 'instant_bookable', \n",
    "                               'cancellation_policy', 'review_scores_rating', 'name_length', 'summary_length', 'space_length',\n",
    "                               'description_length', 'amenities_length')]"
   ]
  },
  {
   "cell_type": "code",
   "execution_count": 44,
   "metadata": {
    "collapsed": true
   },
   "outputs": [],
   "source": [
    "mad_model_data = pd.get_dummies(mad_model_data, columns=['neighbourhood_group_cleansed', 'property_type', 'room_type', \n",
    "                                                         'bed_type', 'cancellation_policy'])"
   ]
  },
  {
   "cell_type": "code",
   "execution_count": 45,
   "metadata": {
    "collapsed": true
   },
   "outputs": [],
   "source": [
    "target_name = 'review_scores_rating'\n",
    "X = mad_model_data.drop('review_scores_rating', axis=1)\n",
    "y = mad_model_data[target_name]\n",
    "\n",
    "X_train, X_test, y_train, y_test = train_test_split(X,y,test_size=0.15, random_state=243)"
   ]
  },
  {
   "cell_type": "markdown",
   "metadata": {},
   "source": [
    "##### OLS Regression"
   ]
  },
  {
   "cell_type": "code",
   "execution_count": 46,
   "metadata": {},
   "outputs": [
    {
     "data": {
      "text/html": [
       "<table class=\"simpletable\">\n",
       "<caption>OLS Regression Results</caption>\n",
       "<tr>\n",
       "  <th>Dep. Variable:</th>    <td>review_scores_rating</td> <th>  R-squared:         </th> <td>   0.120</td> \n",
       "</tr>\n",
       "<tr>\n",
       "  <th>Model:</th>                     <td>OLS</td>         <th>  Adj. R-squared:    </th> <td>   0.117</td> \n",
       "</tr>\n",
       "<tr>\n",
       "  <th>Method:</th>               <td>Least Squares</td>    <th>  F-statistic:       </th> <td>   34.12</td> \n",
       "</tr>\n",
       "<tr>\n",
       "  <th>Date:</th>               <td>Wed, 14 Nov 2018</td>   <th>  Prob (F-statistic):</th> <td>8.68e-291</td>\n",
       "</tr>\n",
       "<tr>\n",
       "  <th>Time:</th>                   <td>17:16:17</td>       <th>  Log-Likelihood:    </th> <td> -42288.</td> \n",
       "</tr>\n",
       "<tr>\n",
       "  <th>No. Observations:</th>        <td> 12058</td>        <th>  AIC:               </th> <td>8.467e+04</td>\n",
       "</tr>\n",
       "<tr>\n",
       "  <th>Df Residuals:</th>            <td> 12009</td>        <th>  BIC:               </th> <td>8.504e+04</td>\n",
       "</tr>\n",
       "<tr>\n",
       "  <th>Df Model:</th>                <td>    48</td>        <th>                     </th>     <td> </td>    \n",
       "</tr>\n",
       "<tr>\n",
       "  <th>Covariance Type:</th>        <td>nonrobust</td>      <th>                     </th>     <td> </td>    \n",
       "</tr>\n",
       "</table>\n",
       "<table class=\"simpletable\">\n",
       "<tr>\n",
       "                           <td></td>                             <th>coef</th>     <th>std err</th>      <th>t</th>      <th>P>|t|</th>  <th>[0.025</th>    <th>0.975]</th>  \n",
       "</tr>\n",
       "<tr>\n",
       "  <th>const</th>                                              <td>   38.2375</td> <td>    0.545</td> <td>   70.179</td> <td> 0.000</td> <td>   37.170</td> <td>   39.306</td>\n",
       "</tr>\n",
       "<tr>\n",
       "  <th>host_response_time</th>                                 <td>    0.1403</td> <td>    0.142</td> <td>    0.989</td> <td> 0.323</td> <td>   -0.138</td> <td>    0.419</td>\n",
       "</tr>\n",
       "<tr>\n",
       "  <th>host_response_rate</th>                                 <td>    1.3400</td> <td>    0.753</td> <td>    1.780</td> <td> 0.075</td> <td>   -0.135</td> <td>    2.815</td>\n",
       "</tr>\n",
       "<tr>\n",
       "  <th>host_is_superhost</th>                                  <td>    4.7993</td> <td>    0.176</td> <td>   27.215</td> <td> 0.000</td> <td>    4.454</td> <td>    5.145</td>\n",
       "</tr>\n",
       "<tr>\n",
       "  <th>accommodates</th>                                       <td>   -0.3974</td> <td>    0.082</td> <td>   -4.836</td> <td> 0.000</td> <td>   -0.558</td> <td>   -0.236</td>\n",
       "</tr>\n",
       "<tr>\n",
       "  <th>bathrooms</th>                                          <td>    0.3817</td> <td>    0.165</td> <td>    2.317</td> <td> 0.021</td> <td>    0.059</td> <td>    0.705</td>\n",
       "</tr>\n",
       "<tr>\n",
       "  <th>bedrooms</th>                                           <td>    0.8443</td> <td>    0.142</td> <td>    5.932</td> <td> 0.000</td> <td>    0.565</td> <td>    1.123</td>\n",
       "</tr>\n",
       "<tr>\n",
       "  <th>beds</th>                                               <td>   -0.3069</td> <td>    0.099</td> <td>   -3.090</td> <td> 0.002</td> <td>   -0.502</td> <td>   -0.112</td>\n",
       "</tr>\n",
       "<tr>\n",
       "  <th>price</th>                                              <td>    0.0008</td> <td>    0.000</td> <td>    1.573</td> <td> 0.116</td> <td>   -0.000</td> <td>    0.002</td>\n",
       "</tr>\n",
       "<tr>\n",
       "  <th>cleaning_fee</th>                                       <td>    0.0126</td> <td>    0.003</td> <td>    4.141</td> <td> 0.000</td> <td>    0.007</td> <td>    0.019</td>\n",
       "</tr>\n",
       "<tr>\n",
       "  <th>minimum_nights</th>                                     <td>   -0.0016</td> <td>    0.004</td> <td>   -0.372</td> <td> 0.710</td> <td>   -0.010</td> <td>    0.007</td>\n",
       "</tr>\n",
       "<tr>\n",
       "  <th>maximum_nights</th>                                     <td>-6.594e-06</td> <td> 3.18e-05</td> <td>   -0.207</td> <td> 0.836</td> <td>-6.89e-05</td> <td> 5.57e-05</td>\n",
       "</tr>\n",
       "<tr>\n",
       "  <th>instant_bookable</th>                                   <td>   -1.1689</td> <td>    0.161</td> <td>   -7.253</td> <td> 0.000</td> <td>   -1.485</td> <td>   -0.853</td>\n",
       "</tr>\n",
       "<tr>\n",
       "  <th>name_length</th>                                        <td>    0.0274</td> <td>    0.007</td> <td>    3.840</td> <td> 0.000</td> <td>    0.013</td> <td>    0.041</td>\n",
       "</tr>\n",
       "<tr>\n",
       "  <th>summary_length</th>                                     <td>    0.0007</td> <td>    0.001</td> <td>    1.330</td> <td> 0.184</td> <td>   -0.000</td> <td>    0.002</td>\n",
       "</tr>\n",
       "<tr>\n",
       "  <th>space_length</th>                                       <td>-9.946e-05</td> <td>    0.000</td> <td>   -0.371</td> <td> 0.710</td> <td>   -0.001</td> <td>    0.000</td>\n",
       "</tr>\n",
       "<tr>\n",
       "  <th>description_length</th>                                 <td>    0.0005</td> <td>    0.000</td> <td>    1.469</td> <td> 0.142</td> <td>   -0.000</td> <td>    0.001</td>\n",
       "</tr>\n",
       "<tr>\n",
       "  <th>amenities_length</th>                                   <td>    0.0051</td> <td>    0.000</td> <td>   11.763</td> <td> 0.000</td> <td>    0.004</td> <td>    0.006</td>\n",
       "</tr>\n",
       "<tr>\n",
       "  <th>neighbourhood_group_cleansed_Arganzuela</th>            <td>    1.6125</td> <td>    0.338</td> <td>    4.777</td> <td> 0.000</td> <td>    0.951</td> <td>    2.274</td>\n",
       "</tr>\n",
       "<tr>\n",
       "  <th>neighbourhood_group_cleansed_Barajas</th>               <td>    2.1010</td> <td>    0.885</td> <td>    2.374</td> <td> 0.018</td> <td>    0.367</td> <td>    3.835</td>\n",
       "</tr>\n",
       "<tr>\n",
       "  <th>neighbourhood_group_cleansed_Carabanchel</th>           <td>    1.1321</td> <td>    0.453</td> <td>    2.502</td> <td> 0.012</td> <td>    0.245</td> <td>    2.019</td>\n",
       "</tr>\n",
       "<tr>\n",
       "  <th>neighbourhood_group_cleansed_Centro</th>                <td>    1.5690</td> <td>    0.198</td> <td>    7.912</td> <td> 0.000</td> <td>    1.180</td> <td>    1.958</td>\n",
       "</tr>\n",
       "<tr>\n",
       "  <th>neighbourhood_group_cleansed_Chamartín</th>             <td>    1.7057</td> <td>    0.465</td> <td>    3.664</td> <td> 0.000</td> <td>    0.793</td> <td>    2.618</td>\n",
       "</tr>\n",
       "<tr>\n",
       "  <th>neighbourhood_group_cleansed_Chamberí</th>              <td>    0.8352</td> <td>    0.351</td> <td>    2.379</td> <td> 0.017</td> <td>    0.147</td> <td>    1.523</td>\n",
       "</tr>\n",
       "<tr>\n",
       "  <th>neighbourhood_group_cleansed_Ciudad Lineal</th>         <td>    2.1603</td> <td>    0.469</td> <td>    4.605</td> <td> 0.000</td> <td>    1.241</td> <td>    3.080</td>\n",
       "</tr>\n",
       "<tr>\n",
       "  <th>neighbourhood_group_cleansed_Fuencarral - El Pardo</th> <td>    1.7511</td> <td>    0.702</td> <td>    2.494</td> <td> 0.013</td> <td>    0.375</td> <td>    3.128</td>\n",
       "</tr>\n",
       "<tr>\n",
       "  <th>neighbourhood_group_cleansed_Hortaleza</th>             <td>    3.3028</td> <td>    0.647</td> <td>    5.102</td> <td> 0.000</td> <td>    2.034</td> <td>    4.572</td>\n",
       "</tr>\n",
       "<tr>\n",
       "  <th>neighbourhood_group_cleansed_Latina</th>                <td>    0.7672</td> <td>    0.456</td> <td>    1.681</td> <td> 0.093</td> <td>   -0.127</td> <td>    1.662</td>\n",
       "</tr>\n",
       "<tr>\n",
       "  <th>neighbourhood_group_cleansed_Moncloa - Aravaca</th>     <td>    2.1990</td> <td>    0.461</td> <td>    4.769</td> <td> 0.000</td> <td>    1.295</td> <td>    3.103</td>\n",
       "</tr>\n",
       "<tr>\n",
       "  <th>neighbourhood_group_cleansed_Moratalaz</th>             <td>    4.0494</td> <td>    1.001</td> <td>    4.046</td> <td> 0.000</td> <td>    2.088</td> <td>    6.011</td>\n",
       "</tr>\n",
       "<tr>\n",
       "  <th>neighbourhood_group_cleansed_Puente de Vallecas</th>    <td>    1.2996</td> <td>    0.510</td> <td>    2.546</td> <td> 0.011</td> <td>    0.299</td> <td>    2.300</td>\n",
       "</tr>\n",
       "<tr>\n",
       "  <th>neighbourhood_group_cleansed_Retiro</th>                <td>    1.0671</td> <td>    0.412</td> <td>    2.593</td> <td> 0.010</td> <td>    0.260</td> <td>    1.874</td>\n",
       "</tr>\n",
       "<tr>\n",
       "  <th>neighbourhood_group_cleansed_Salamanca</th>             <td>    1.6536</td> <td>    0.327</td> <td>    5.064</td> <td> 0.000</td> <td>    1.014</td> <td>    2.294</td>\n",
       "</tr>\n",
       "<tr>\n",
       "  <th>neighbourhood_group_cleansed_San Blas - Canillejas</th> <td>    1.6168</td> <td>    0.713</td> <td>    2.267</td> <td> 0.023</td> <td>    0.219</td> <td>    3.014</td>\n",
       "</tr>\n",
       "<tr>\n",
       "  <th>neighbourhood_group_cleansed_Tetuán</th>                <td>    0.9060</td> <td>    0.412</td> <td>    2.200</td> <td> 0.028</td> <td>    0.099</td> <td>    1.713</td>\n",
       "</tr>\n",
       "<tr>\n",
       "  <th>neighbourhood_group_cleansed_Usera</th>                 <td>    1.2536</td> <td>    0.658</td> <td>    1.905</td> <td> 0.057</td> <td>   -0.036</td> <td>    2.543</td>\n",
       "</tr>\n",
       "<tr>\n",
       "  <th>neighbourhood_group_cleansed_Vicálvaro</th>             <td>    5.1531</td> <td>    1.652</td> <td>    3.120</td> <td> 0.002</td> <td>    1.915</td> <td>    8.391</td>\n",
       "</tr>\n",
       "<tr>\n",
       "  <th>neighbourhood_group_cleansed_Villa de Vallecas</th>     <td>    3.0543</td> <td>    1.245</td> <td>    2.453</td> <td> 0.014</td> <td>    0.614</td> <td>    5.494</td>\n",
       "</tr>\n",
       "<tr>\n",
       "  <th>neighbourhood_group_cleansed_Villaverde</th>            <td>   -0.9519</td> <td>    0.884</td> <td>   -1.077</td> <td> 0.282</td> <td>   -2.685</td> <td>    0.781</td>\n",
       "</tr>\n",
       "<tr>\n",
       "  <th>property_type_Apartment</th>                            <td>    8.2366</td> <td>    0.334</td> <td>   24.691</td> <td> 0.000</td> <td>    7.583</td> <td>    8.890</td>\n",
       "</tr>\n",
       "<tr>\n",
       "  <th>property_type_Condominium</th>                          <td>    7.9050</td> <td>    0.517</td> <td>   15.289</td> <td> 0.000</td> <td>    6.892</td> <td>    8.919</td>\n",
       "</tr>\n",
       "<tr>\n",
       "  <th>property_type_House</th>                                <td>    7.6623</td> <td>    0.439</td> <td>   17.468</td> <td> 0.000</td> <td>    6.802</td> <td>    8.522</td>\n",
       "</tr>\n",
       "<tr>\n",
       "  <th>property_type_Other</th>                                <td>    7.5882</td> <td>    0.375</td> <td>   20.254</td> <td> 0.000</td> <td>    6.854</td> <td>    8.323</td>\n",
       "</tr>\n",
       "<tr>\n",
       "  <th>property_type_Townhouse</th>                            <td>    6.8455</td> <td>    1.252</td> <td>    5.465</td> <td> 0.000</td> <td>    4.390</td> <td>    9.301</td>\n",
       "</tr>\n",
       "<tr>\n",
       "  <th>room_type_Entire home/apt</th>                          <td>   13.5359</td> <td>    0.303</td> <td>   44.740</td> <td> 0.000</td> <td>   12.943</td> <td>   14.129</td>\n",
       "</tr>\n",
       "<tr>\n",
       "  <th>room_type_Private room</th>                             <td>   13.8442</td> <td>    0.293</td> <td>   47.188</td> <td> 0.000</td> <td>   13.269</td> <td>   14.419</td>\n",
       "</tr>\n",
       "<tr>\n",
       "  <th>room_type_Shared room</th>                              <td>   10.8575</td> <td>    0.558</td> <td>   19.464</td> <td> 0.000</td> <td>    9.764</td> <td>   11.951</td>\n",
       "</tr>\n",
       "<tr>\n",
       "  <th>bed_type_Other</th>                                     <td>   18.9423</td> <td>    0.453</td> <td>   41.785</td> <td> 0.000</td> <td>   18.054</td> <td>   19.831</td>\n",
       "</tr>\n",
       "<tr>\n",
       "  <th>bed_type_Real Bed</th>                                  <td>   19.2952</td> <td>    0.359</td> <td>   53.684</td> <td> 0.000</td> <td>   18.591</td> <td>   20.000</td>\n",
       "</tr>\n",
       "<tr>\n",
       "  <th>cancellation_policy_flexible</th>                       <td>    7.2933</td> <td>    0.605</td> <td>   12.045</td> <td> 0.000</td> <td>    6.106</td> <td>    8.480</td>\n",
       "</tr>\n",
       "<tr>\n",
       "  <th>cancellation_policy_moderate</th>                       <td>    7.3147</td> <td>    0.602</td> <td>   12.144</td> <td> 0.000</td> <td>    6.134</td> <td>    8.495</td>\n",
       "</tr>\n",
       "<tr>\n",
       "  <th>cancellation_policy_strict_14_with_grace_period</th>    <td>    5.9265</td> <td>    0.600</td> <td>    9.878</td> <td> 0.000</td> <td>    4.751</td> <td>    7.103</td>\n",
       "</tr>\n",
       "<tr>\n",
       "  <th>cancellation_policy_super_strict_30</th>                <td>    7.1509</td> <td>    1.272</td> <td>    5.622</td> <td> 0.000</td> <td>    4.658</td> <td>    9.644</td>\n",
       "</tr>\n",
       "<tr>\n",
       "  <th>cancellation_policy_super_strict_60</th>                <td>   10.5521</td> <td>    2.359</td> <td>    4.473</td> <td> 0.000</td> <td>    5.928</td> <td>   15.177</td>\n",
       "</tr>\n",
       "</table>\n",
       "<table class=\"simpletable\">\n",
       "<tr>\n",
       "  <th>Omnibus:</th>       <td>9018.108</td> <th>  Durbin-Watson:     </th>  <td>   1.989</td> \n",
       "</tr>\n",
       "<tr>\n",
       "  <th>Prob(Omnibus):</th>  <td> 0.000</td>  <th>  Jarque-Bera (JB):  </th> <td>234635.726</td>\n",
       "</tr>\n",
       "<tr>\n",
       "  <th>Skew:</th>           <td>-3.357</td>  <th>  Prob(JB):          </th>  <td>    0.00</td> \n",
       "</tr>\n",
       "<tr>\n",
       "  <th>Kurtosis:</th>       <td>23.541</td>  <th>  Cond. No.          </th>  <td>2.64e+16</td> \n",
       "</tr>\n",
       "</table>"
      ],
      "text/plain": [
       "<class 'statsmodels.iolib.summary.Summary'>\n",
       "\"\"\"\n",
       "                             OLS Regression Results                             \n",
       "================================================================================\n",
       "Dep. Variable:     review_scores_rating   R-squared:                       0.120\n",
       "Model:                              OLS   Adj. R-squared:                  0.117\n",
       "Method:                   Least Squares   F-statistic:                     34.12\n",
       "Date:                  Wed, 14 Nov 2018   Prob (F-statistic):          8.68e-291\n",
       "Time:                          17:16:17   Log-Likelihood:                -42288.\n",
       "No. Observations:                 12058   AIC:                         8.467e+04\n",
       "Df Residuals:                     12009   BIC:                         8.504e+04\n",
       "Df Model:                            48                                         \n",
       "Covariance Type:              nonrobust                                         \n",
       "======================================================================================================================\n",
       "                                                         coef    std err          t      P>|t|      [0.025      0.975]\n",
       "----------------------------------------------------------------------------------------------------------------------\n",
       "const                                                 38.2375      0.545     70.179      0.000      37.170      39.306\n",
       "host_response_time                                     0.1403      0.142      0.989      0.323      -0.138       0.419\n",
       "host_response_rate                                     1.3400      0.753      1.780      0.075      -0.135       2.815\n",
       "host_is_superhost                                      4.7993      0.176     27.215      0.000       4.454       5.145\n",
       "accommodates                                          -0.3974      0.082     -4.836      0.000      -0.558      -0.236\n",
       "bathrooms                                              0.3817      0.165      2.317      0.021       0.059       0.705\n",
       "bedrooms                                               0.8443      0.142      5.932      0.000       0.565       1.123\n",
       "beds                                                  -0.3069      0.099     -3.090      0.002      -0.502      -0.112\n",
       "price                                                  0.0008      0.000      1.573      0.116      -0.000       0.002\n",
       "cleaning_fee                                           0.0126      0.003      4.141      0.000       0.007       0.019\n",
       "minimum_nights                                        -0.0016      0.004     -0.372      0.710      -0.010       0.007\n",
       "maximum_nights                                     -6.594e-06   3.18e-05     -0.207      0.836   -6.89e-05    5.57e-05\n",
       "instant_bookable                                      -1.1689      0.161     -7.253      0.000      -1.485      -0.853\n",
       "name_length                                            0.0274      0.007      3.840      0.000       0.013       0.041\n",
       "summary_length                                         0.0007      0.001      1.330      0.184      -0.000       0.002\n",
       "space_length                                       -9.946e-05      0.000     -0.371      0.710      -0.001       0.000\n",
       "description_length                                     0.0005      0.000      1.469      0.142      -0.000       0.001\n",
       "amenities_length                                       0.0051      0.000     11.763      0.000       0.004       0.006\n",
       "neighbourhood_group_cleansed_Arganzuela                1.6125      0.338      4.777      0.000       0.951       2.274\n",
       "neighbourhood_group_cleansed_Barajas                   2.1010      0.885      2.374      0.018       0.367       3.835\n",
       "neighbourhood_group_cleansed_Carabanchel               1.1321      0.453      2.502      0.012       0.245       2.019\n",
       "neighbourhood_group_cleansed_Centro                    1.5690      0.198      7.912      0.000       1.180       1.958\n",
       "neighbourhood_group_cleansed_Chamartín                 1.7057      0.465      3.664      0.000       0.793       2.618\n",
       "neighbourhood_group_cleansed_Chamberí                  0.8352      0.351      2.379      0.017       0.147       1.523\n",
       "neighbourhood_group_cleansed_Ciudad Lineal             2.1603      0.469      4.605      0.000       1.241       3.080\n",
       "neighbourhood_group_cleansed_Fuencarral - El Pardo     1.7511      0.702      2.494      0.013       0.375       3.128\n",
       "neighbourhood_group_cleansed_Hortaleza                 3.3028      0.647      5.102      0.000       2.034       4.572\n",
       "neighbourhood_group_cleansed_Latina                    0.7672      0.456      1.681      0.093      -0.127       1.662\n",
       "neighbourhood_group_cleansed_Moncloa - Aravaca         2.1990      0.461      4.769      0.000       1.295       3.103\n",
       "neighbourhood_group_cleansed_Moratalaz                 4.0494      1.001      4.046      0.000       2.088       6.011\n",
       "neighbourhood_group_cleansed_Puente de Vallecas        1.2996      0.510      2.546      0.011       0.299       2.300\n",
       "neighbourhood_group_cleansed_Retiro                    1.0671      0.412      2.593      0.010       0.260       1.874\n",
       "neighbourhood_group_cleansed_Salamanca                 1.6536      0.327      5.064      0.000       1.014       2.294\n",
       "neighbourhood_group_cleansed_San Blas - Canillejas     1.6168      0.713      2.267      0.023       0.219       3.014\n",
       "neighbourhood_group_cleansed_Tetuán                    0.9060      0.412      2.200      0.028       0.099       1.713\n",
       "neighbourhood_group_cleansed_Usera                     1.2536      0.658      1.905      0.057      -0.036       2.543\n",
       "neighbourhood_group_cleansed_Vicálvaro                 5.1531      1.652      3.120      0.002       1.915       8.391\n",
       "neighbourhood_group_cleansed_Villa de Vallecas         3.0543      1.245      2.453      0.014       0.614       5.494\n",
       "neighbourhood_group_cleansed_Villaverde               -0.9519      0.884     -1.077      0.282      -2.685       0.781\n",
       "property_type_Apartment                                8.2366      0.334     24.691      0.000       7.583       8.890\n",
       "property_type_Condominium                              7.9050      0.517     15.289      0.000       6.892       8.919\n",
       "property_type_House                                    7.6623      0.439     17.468      0.000       6.802       8.522\n",
       "property_type_Other                                    7.5882      0.375     20.254      0.000       6.854       8.323\n",
       "property_type_Townhouse                                6.8455      1.252      5.465      0.000       4.390       9.301\n",
       "room_type_Entire home/apt                             13.5359      0.303     44.740      0.000      12.943      14.129\n",
       "room_type_Private room                                13.8442      0.293     47.188      0.000      13.269      14.419\n",
       "room_type_Shared room                                 10.8575      0.558     19.464      0.000       9.764      11.951\n",
       "bed_type_Other                                        18.9423      0.453     41.785      0.000      18.054      19.831\n",
       "bed_type_Real Bed                                     19.2952      0.359     53.684      0.000      18.591      20.000\n",
       "cancellation_policy_flexible                           7.2933      0.605     12.045      0.000       6.106       8.480\n",
       "cancellation_policy_moderate                           7.3147      0.602     12.144      0.000       6.134       8.495\n",
       "cancellation_policy_strict_14_with_grace_period        5.9265      0.600      9.878      0.000       4.751       7.103\n",
       "cancellation_policy_super_strict_30                    7.1509      1.272      5.622      0.000       4.658       9.644\n",
       "cancellation_policy_super_strict_60                   10.5521      2.359      4.473      0.000       5.928      15.177\n",
       "==============================================================================\n",
       "Omnibus:                     9018.108   Durbin-Watson:                   1.989\n",
       "Prob(Omnibus):                  0.000   Jarque-Bera (JB):           234635.726\n",
       "Skew:                          -3.357   Prob(JB):                         0.00\n",
       "Kurtosis:                      23.541   Cond. No.                     2.64e+16\n",
       "==============================================================================\n",
       "\n",
       "Warnings:\n",
       "[1] Standard Errors assume that the covariance matrix of the errors is correctly specified.\n",
       "[2] The smallest eigenvalue is 1.07e-22. This might indicate that there are\n",
       "strong multicollinearity problems or that the design matrix is singular.\n",
       "\"\"\""
      ]
     },
     "execution_count": 46,
     "metadata": {},
     "output_type": "execute_result"
    }
   ],
   "source": [
    "Xr = X_train\n",
    "yr = y_train\n",
    "Xr = sm.add_constant(Xr)\n",
    "ols_model = sm.OLS(yr, Xr).fit()\n",
    "\n",
    "ols_model.summary()"
   ]
  },
  {
   "cell_type": "code",
   "execution_count": 47,
   "metadata": {},
   "outputs": [
    {
     "data": {
      "text/plain": [
       "LinearRegression(copy_X=True, fit_intercept=True, n_jobs=1, normalize=False)"
      ]
     },
     "execution_count": 47,
     "metadata": {},
     "output_type": "execute_result"
    }
   ],
   "source": [
    "lm = LinearRegression()\n",
    "lm.fit(X_train, y_train)"
   ]
  },
  {
   "cell_type": "code",
   "execution_count": 48,
   "metadata": {},
   "outputs": [
    {
     "data": {
      "text/html": [
       "<div>\n",
       "<style scoped>\n",
       "    .dataframe tbody tr th:only-of-type {\n",
       "        vertical-align: middle;\n",
       "    }\n",
       "\n",
       "    .dataframe tbody tr th {\n",
       "        vertical-align: top;\n",
       "    }\n",
       "\n",
       "    .dataframe thead th {\n",
       "        text-align: right;\n",
       "    }\n",
       "</style>\n",
       "<table border=\"1\" class=\"dataframe\">\n",
       "  <thead>\n",
       "    <tr style=\"text-align: right;\">\n",
       "      <th></th>\n",
       "      <th>feature</th>\n",
       "      <th>importance</th>\n",
       "    </tr>\n",
       "  </thead>\n",
       "  <tbody>\n",
       "    <tr>\n",
       "      <th>2</th>\n",
       "      <td>host_is_superhost</td>\n",
       "      <td>4.799301</td>\n",
       "    </tr>\n",
       "    <tr>\n",
       "      <th>35</th>\n",
       "      <td>neighbourhood_group_cleansed_Vicálvaro</td>\n",
       "      <td>3.332252</td>\n",
       "    </tr>\n",
       "    <tr>\n",
       "      <th>52</th>\n",
       "      <td>cancellation_policy_super_strict_60</td>\n",
       "      <td>2.904600</td>\n",
       "    </tr>\n",
       "    <tr>\n",
       "      <th>28</th>\n",
       "      <td>neighbourhood_group_cleansed_Moratalaz</td>\n",
       "      <td>2.228608</td>\n",
       "    </tr>\n",
       "    <tr>\n",
       "      <th>25</th>\n",
       "      <td>neighbourhood_group_cleansed_Hortaleza</td>\n",
       "      <td>1.482006</td>\n",
       "    </tr>\n",
       "    <tr>\n",
       "      <th>1</th>\n",
       "      <td>host_response_rate</td>\n",
       "      <td>1.339951</td>\n",
       "    </tr>\n",
       "    <tr>\n",
       "      <th>36</th>\n",
       "      <td>neighbourhood_group_cleansed_Villa de Vallecas</td>\n",
       "      <td>1.233453</td>\n",
       "    </tr>\n",
       "    <tr>\n",
       "      <th>44</th>\n",
       "      <td>room_type_Private room</td>\n",
       "      <td>1.098334</td>\n",
       "    </tr>\n",
       "    <tr>\n",
       "      <th>5</th>\n",
       "      <td>bedrooms</td>\n",
       "      <td>0.844319</td>\n",
       "    </tr>\n",
       "    <tr>\n",
       "      <th>43</th>\n",
       "      <td>room_type_Entire home/apt</td>\n",
       "      <td>0.790052</td>\n",
       "    </tr>\n",
       "  </tbody>\n",
       "</table>\n",
       "</div>"
      ],
      "text/plain": [
       "                                           feature  importance\n",
       "2                                host_is_superhost    4.799301\n",
       "35          neighbourhood_group_cleansed_Vicálvaro    3.332252\n",
       "52             cancellation_policy_super_strict_60    2.904600\n",
       "28          neighbourhood_group_cleansed_Moratalaz    2.228608\n",
       "25          neighbourhood_group_cleansed_Hortaleza    1.482006\n",
       "1                               host_response_rate    1.339951\n",
       "36  neighbourhood_group_cleansed_Villa de Vallecas    1.233453\n",
       "44                          room_type_Private room    1.098334\n",
       "5                                         bedrooms    0.844319\n",
       "43                       room_type_Entire home/apt    0.790052"
      ]
     },
     "execution_count": 48,
     "metadata": {},
     "output_type": "execute_result"
    }
   ],
   "source": [
    "ols_coefficients = pd.DataFrame({'feature': X_train.columns, 'importance': lm.coef_})\n",
    "ols_coefficients.sort_values('importance', ascending=False)[:10]"
   ]
  },
  {
   "cell_type": "code",
   "execution_count": 49,
   "metadata": {},
   "outputs": [
    {
     "data": {
      "text/plain": [
       "8.214905461126328"
      ]
     },
     "execution_count": 49,
     "metadata": {},
     "output_type": "execute_result"
    }
   ],
   "source": [
    "ols_y_predict = lm.predict(X_test)\n",
    "ols_mse = np.sqrt(metrics.mean_squared_error(y_test, ols_y_predict))\n",
    "ols_mse"
   ]
  },
  {
   "cell_type": "markdown",
   "metadata": {},
   "source": [
    "##### Decision Tree"
   ]
  },
  {
   "cell_type": "code",
   "execution_count": 50,
   "metadata": {},
   "outputs": [
    {
     "data": {
      "text/plain": [
       "<matplotlib.axes._subplots.AxesSubplot at 0x2d611b979e8>"
      ]
     },
     "execution_count": 50,
     "metadata": {},
     "output_type": "execute_result"
    },
    {
     "data": {
      "image/png": "[encoded data removed]",
      "text/plain": [
       "<matplotlib.figure.Figure at 0x2d61480cdd8>"
      ]
     },
     "metadata": {},
     "output_type": "display_data"
    }
   ],
   "source": [
    "dtree = tree.DecisionTreeClassifier(\n",
    "    class_weight=\"balanced\",\n",
    "    min_weight_fraction_leaf=0.01,)\n",
    "dtree = dtree.fit(X_train,y_train)\n",
    "\n",
    "importances = dtree.feature_importances_\n",
    "feat_names = X_train.columns\n",
    "tree_result = pd.DataFrame({'feature': feat_names, 'importance': importances})\n",
    "tree_result.sort_values(by='importance',ascending=False)[:10].plot(x='feature', y='importance', kind='bar',\n",
    "                                                                   title='Madrid Decision Tree features importance')"
   ]
  },
  {
   "cell_type": "code",
   "execution_count": 51,
   "metadata": {},
   "outputs": [
    {
     "data": {
      "text/plain": [
       "24.67569835371993"
      ]
     },
     "execution_count": 51,
     "metadata": {},
     "output_type": "execute_result"
    }
   ],
   "source": [
    "dtree_y_predict = dtree.predict(X_test)\n",
    "dtree_mse = np.sqrt(metrics.mean_squared_error(y_test, dtree_y_predict))\n",
    "dtree_mse"
   ]
  },
  {
   "cell_type": "markdown",
   "metadata": {},
   "source": [
    "##### Random Forest"
   ]
  },
  {
   "cell_type": "code",
   "execution_count": 52,
   "metadata": {},
   "outputs": [
    {
     "data": {
      "text/plain": [
       "<matplotlib.axes._subplots.AxesSubplot at 0x2d611ac3eb8>"
      ]
     },
     "execution_count": 52,
     "metadata": {},
     "output_type": "execute_result"
    },
    {
     "data": {
      "image/png": "[encoded data removed]",
      "text/plain": [
       "<matplotlib.figure.Figure at 0x2d611ac36a0>"
      ]
     },
     "metadata": {},
     "output_type": "display_data"
    }
   ],
   "source": [
    "from sklearn.ensemble import RandomForestRegressor\n",
    "rf = RandomForestRegressor(max_depth=3, random_state=0)\n",
    "rf.fit(X_train, y_train)\n",
    "rf_importances = rf.feature_importances_\n",
    "rf_result = pd.DataFrame({'feature': feat_names, 'importance': rf_importances})\n",
    "rf_result.sort_values(by='importance',ascending=False)[:10].plot(x='feature', y='importance', kind='bar',\n",
    "                                                                 title='Madrid Random Forest features importance')"
   ]
  },
  {
   "cell_type": "code",
   "execution_count": 53,
   "metadata": {},
   "outputs": [
    {
     "data": {
      "text/plain": [
       "8.25706733965487"
      ]
     },
     "execution_count": 53,
     "metadata": {},
     "output_type": "execute_result"
    }
   ],
   "source": [
    "rf_y_predict = rf.predict(X_test)\n",
    "rf_mse = np.sqrt(metrics.mean_squared_error(y_test, rf_y_predict))\n",
    "rf_mse"
   ]
  },
  {
   "cell_type": "code",
   "execution_count": 54,
   "metadata": {
    "collapsed": true
   },
   "outputs": [],
   "source": [
    "mean_array = [y_train.mean()] * len(X_test)\n",
    "mean_mse = np.sqrt(metrics.mean_squared_error(y_test, mean_array))\n",
    "median_array = [y_train.median()] * len(X_test)\n",
    "median_mse = np.sqrt(metrics.mean_squared_error(y_test, mean_array))"
   ]
  },
  {
   "cell_type": "code",
   "execution_count": 55,
   "metadata": {},
   "outputs": [
    {
     "name": "stdout",
     "output_type": "stream",
     "text": [
      "Random Forest MSE: 8.25706733965487\n",
      "Decision Tree MSE: 24.67569835371993\n",
      "OLS MSE 8.214905461126328\n",
      "Median MSE 8.73601319649228\n",
      "Mean MSE 8.73601319649228\n"
     ]
    }
   ],
   "source": [
    "print(\"Random Forest MSE:\", rf_mse)\n",
    "print(\"Decision Tree MSE:\", dtree_mse)\n",
    "print(\"OLS MSE\",ols_mse)\n",
    "print(\"Median MSE\",median_mse)\n",
    "print(\"Mean MSE\",mean_mse)"
   ]
  },
  {
   "cell_type": "markdown",
   "metadata": {},
   "source": [
    "-----------------------\n",
    "It seems that in order to have a good rating you should be a supehost and have many ammenities in your listing, but what happens if I restrict the Random Forest model to the top 10 predictors?\n",
    "\n",
    "-----------------------"
   ]
  },
  {
   "cell_type": "code",
   "execution_count": 56,
   "metadata": {},
   "outputs": [
    {
     "name": "stdout",
     "output_type": "stream",
     "text": [
      "8.25563741691751\n"
     ]
    }
   ],
   "source": [
    "rf_10_features = rf_result.sort_values(by='importance', ascending=False)['feature'][:10].tolist()\n",
    "rf_10_features_model = rf.fit(X_train[rf_10_features], y_train)\n",
    "rf_10_features_model_predict=rf_10_features_model.predict(X_test[rf_10_features])\n",
    "rf_10_features_model_mse = np.sqrt(metrics.mean_squared_error(y_test, rf_10_features_model_predict))\n",
    "print(rf_10_features_model_mse)"
   ]
  },
  {
   "cell_type": "code",
   "execution_count": 57,
   "metadata": {},
   "outputs": [
    {
     "data": {
      "text/html": [
       "<div>\n",
       "<style scoped>\n",
       "    .dataframe tbody tr th:only-of-type {\n",
       "        vertical-align: middle;\n",
       "    }\n",
       "\n",
       "    .dataframe tbody tr th {\n",
       "        vertical-align: top;\n",
       "    }\n",
       "\n",
       "    .dataframe thead th {\n",
       "        text-align: right;\n",
       "    }\n",
       "</style>\n",
       "<table border=\"1\" class=\"dataframe\">\n",
       "  <thead>\n",
       "    <tr style=\"text-align: right;\">\n",
       "      <th></th>\n",
       "      <th>feature</th>\n",
       "      <th>ranking</th>\n",
       "      <th>selection</th>\n",
       "    </tr>\n",
       "  </thead>\n",
       "  <tbody>\n",
       "    <tr>\n",
       "      <th>0</th>\n",
       "      <td>host_response_time</td>\n",
       "      <td>1</td>\n",
       "      <td>True</td>\n",
       "    </tr>\n",
       "    <tr>\n",
       "      <th>43</th>\n",
       "      <td>room_type_Entire home/apt</td>\n",
       "      <td>1</td>\n",
       "      <td>True</td>\n",
       "    </tr>\n",
       "    <tr>\n",
       "      <th>44</th>\n",
       "      <td>room_type_Private room</td>\n",
       "      <td>1</td>\n",
       "      <td>True</td>\n",
       "    </tr>\n",
       "    <tr>\n",
       "      <th>9</th>\n",
       "      <td>minimum_nights</td>\n",
       "      <td>1</td>\n",
       "      <td>True</td>\n",
       "    </tr>\n",
       "    <tr>\n",
       "      <th>47</th>\n",
       "      <td>bed_type_Real Bed</td>\n",
       "      <td>1</td>\n",
       "      <td>True</td>\n",
       "    </tr>\n",
       "    <tr>\n",
       "      <th>49</th>\n",
       "      <td>cancellation_policy_moderate</td>\n",
       "      <td>1</td>\n",
       "      <td>True</td>\n",
       "    </tr>\n",
       "    <tr>\n",
       "      <th>46</th>\n",
       "      <td>bed_type_Other</td>\n",
       "      <td>1</td>\n",
       "      <td>True</td>\n",
       "    </tr>\n",
       "    <tr>\n",
       "      <th>4</th>\n",
       "      <td>bathrooms</td>\n",
       "      <td>1</td>\n",
       "      <td>True</td>\n",
       "    </tr>\n",
       "    <tr>\n",
       "      <th>2</th>\n",
       "      <td>host_is_superhost</td>\n",
       "      <td>1</td>\n",
       "      <td>True</td>\n",
       "    </tr>\n",
       "    <tr>\n",
       "      <th>1</th>\n",
       "      <td>host_response_rate</td>\n",
       "      <td>1</td>\n",
       "      <td>True</td>\n",
       "    </tr>\n",
       "  </tbody>\n",
       "</table>\n",
       "</div>"
      ],
      "text/plain": [
       "                         feature  ranking  selection\n",
       "0             host_response_time        1       True\n",
       "43     room_type_Entire home/apt        1       True\n",
       "44        room_type_Private room        1       True\n",
       "9                 minimum_nights        1       True\n",
       "47             bed_type_Real Bed        1       True\n",
       "49  cancellation_policy_moderate        1       True\n",
       "46                bed_type_Other        1       True\n",
       "4                      bathrooms        1       True\n",
       "2              host_is_superhost        1       True\n",
       "1             host_response_rate        1       True"
      ]
     },
     "execution_count": 57,
     "metadata": {},
     "output_type": "execute_result"
    }
   ],
   "source": [
    "model = LogisticRegression()\n",
    "rfe = RFE(model, 10)\n",
    "rfe = rfe.fit(X_train, y_train)\n",
    "rfe_result = pd.DataFrame({'feature': feat_names, 'ranking': rfe.ranking_, 'selection': rfe.support_})\n",
    "rfe_result.sort_values(by='ranking')[:10]"
   ]
  },
  {
   "cell_type": "code",
   "execution_count": 58,
   "metadata": {},
   "outputs": [
    {
     "name": "stdout",
     "output_type": "stream",
     "text": [
      "8.340059096446387\n"
     ]
    }
   ],
   "source": [
    "rf_10_features = rfe_result.sort_values(by='ranking')['feature'][:10].tolist()\n",
    "rf_10_features_model = rf.fit(X_train[rf_10_features], y_train)\n",
    "rf_10_features_model_predict=rf_10_features_model.predict(X_test[rf_10_features])\n",
    "rf_10_features_model_mse = np.sqrt(metrics.mean_squared_error(y_test, rf_10_features_model_predict))\n",
    "print(rf_10_features_model_mse)"
   ]
  },
  {
   "cell_type": "code",
   "execution_count": 59,
   "metadata": {},
   "outputs": [
    {
     "data": {
      "text/html": [
       "<div>\n",
       "<style scoped>\n",
       "    .dataframe tbody tr th:only-of-type {\n",
       "        vertical-align: middle;\n",
       "    }\n",
       "\n",
       "    .dataframe tbody tr th {\n",
       "        vertical-align: top;\n",
       "    }\n",
       "\n",
       "    .dataframe thead th {\n",
       "        text-align: right;\n",
       "    }\n",
       "</style>\n",
       "<table border=\"1\" class=\"dataframe\">\n",
       "  <thead>\n",
       "    <tr style=\"text-align: right;\">\n",
       "      <th></th>\n",
       "      <th>feature</th>\n",
       "      <th>ranking</th>\n",
       "      <th>selection</th>\n",
       "    </tr>\n",
       "  </thead>\n",
       "  <tbody>\n",
       "    <tr>\n",
       "      <th>52</th>\n",
       "      <td>cancellation_policy_super_strict_60</td>\n",
       "      <td>1</td>\n",
       "      <td>True</td>\n",
       "    </tr>\n",
       "    <tr>\n",
       "      <th>2</th>\n",
       "      <td>host_is_superhost</td>\n",
       "      <td>1</td>\n",
       "      <td>True</td>\n",
       "    </tr>\n",
       "    <tr>\n",
       "      <th>50</th>\n",
       "      <td>cancellation_policy_strict_14_with_grace_period</td>\n",
       "      <td>1</td>\n",
       "      <td>True</td>\n",
       "    </tr>\n",
       "    <tr>\n",
       "      <th>45</th>\n",
       "      <td>room_type_Shared room</td>\n",
       "      <td>1</td>\n",
       "      <td>True</td>\n",
       "    </tr>\n",
       "    <tr>\n",
       "      <th>44</th>\n",
       "      <td>room_type_Private room</td>\n",
       "      <td>1</td>\n",
       "      <td>True</td>\n",
       "    </tr>\n",
       "    <tr>\n",
       "      <th>43</th>\n",
       "      <td>room_type_Entire home/apt</td>\n",
       "      <td>1</td>\n",
       "      <td>True</td>\n",
       "    </tr>\n",
       "    <tr>\n",
       "      <th>37</th>\n",
       "      <td>neighbourhood_group_cleansed_Villaverde</td>\n",
       "      <td>1</td>\n",
       "      <td>True</td>\n",
       "    </tr>\n",
       "    <tr>\n",
       "      <th>35</th>\n",
       "      <td>neighbourhood_group_cleansed_Vicálvaro</td>\n",
       "      <td>1</td>\n",
       "      <td>True</td>\n",
       "    </tr>\n",
       "    <tr>\n",
       "      <th>28</th>\n",
       "      <td>neighbourhood_group_cleansed_Moratalaz</td>\n",
       "      <td>1</td>\n",
       "      <td>True</td>\n",
       "    </tr>\n",
       "    <tr>\n",
       "      <th>25</th>\n",
       "      <td>neighbourhood_group_cleansed_Hortaleza</td>\n",
       "      <td>1</td>\n",
       "      <td>True</td>\n",
       "    </tr>\n",
       "  </tbody>\n",
       "</table>\n",
       "</div>"
      ],
      "text/plain": [
       "                                            feature  ranking  selection\n",
       "52              cancellation_policy_super_strict_60        1       True\n",
       "2                                 host_is_superhost        1       True\n",
       "50  cancellation_policy_strict_14_with_grace_period        1       True\n",
       "45                            room_type_Shared room        1       True\n",
       "44                           room_type_Private room        1       True\n",
       "43                        room_type_Entire home/apt        1       True\n",
       "37          neighbourhood_group_cleansed_Villaverde        1       True\n",
       "35           neighbourhood_group_cleansed_Vicálvaro        1       True\n",
       "28           neighbourhood_group_cleansed_Moratalaz        1       True\n",
       "25           neighbourhood_group_cleansed_Hortaleza        1       True"
      ]
     },
     "execution_count": 59,
     "metadata": {},
     "output_type": "execute_result"
    }
   ],
   "source": [
    "model = LinearRegression()\n",
    "rfe = RFE(model, 10)\n",
    "rfe = rfe.fit(X_train, y_train)\n",
    "rfe_result = pd.DataFrame({'feature': feat_names, 'ranking': rfe.ranking_, 'selection': rfe.support_})\n",
    "rfe_result.sort_values(by='ranking')[:10]"
   ]
  },
  {
   "cell_type": "code",
   "execution_count": 60,
   "metadata": {},
   "outputs": [
    {
     "name": "stdout",
     "output_type": "stream",
     "text": [
      "8.354686568794106\n"
     ]
    }
   ],
   "source": [
    "rf_10_features = rfe_result.sort_values(by='ranking')['feature'][:10].tolist()\n",
    "rf_10_features_model = rf.fit(X_train[rf_10_features], y_train)\n",
    "rf_10_features_model_predict=rf_10_features_model.predict(X_test[rf_10_features])\n",
    "rf_10_features_model_mse = np.sqrt(metrics.mean_squared_error(y_test, rf_10_features_model_predict))\n",
    "print(rf_10_features_model_mse)"
   ]
  },
  {
   "cell_type": "markdown",
   "metadata": {},
   "source": [
    "-----------------\n",
    "\n",
    "Short anwer is... nothing new.\n",
    "\n",
    "-----------------"
   ]
  },
  {
   "cell_type": "markdown",
   "metadata": {},
   "source": [
    "### Barcelona Prediction Models"
   ]
  },
  {
   "cell_type": "code",
   "execution_count": 61,
   "metadata": {
    "collapsed": true
   },
   "outputs": [],
   "source": [
    "bar_model_data = bar_ld.loc[:,('host_response_time', 'host_response_rate', 'host_is_superhost', 'neighbourhood_group_cleansed',\n",
    "                               'property_type', 'room_type', 'accommodates', 'bathrooms', 'bedrooms', 'beds', 'bed_type', \n",
    "                               'price', 'cleaning_fee', 'minimum_nights', 'maximum_nights', 'instant_bookable', \n",
    "                               'cancellation_policy', 'review_scores_rating', 'name_length', 'summary_length', 'space_length',\n",
    "                               'description_length', 'amenities_length')]"
   ]
  },
  {
   "cell_type": "code",
   "execution_count": 62,
   "metadata": {
    "collapsed": true
   },
   "outputs": [],
   "source": [
    "bar_model_data = pd.get_dummies(bar_model_data, columns=['neighbourhood_group_cleansed', 'property_type', 'room_type', \n",
    "                                                         'bed_type', 'cancellation_policy'])"
   ]
  },
  {
   "cell_type": "markdown",
   "metadata": {},
   "source": [
    "##### OLS Regression"
   ]
  },
  {
   "cell_type": "code",
   "execution_count": 63,
   "metadata": {
    "collapsed": true
   },
   "outputs": [],
   "source": [
    "target_name = 'review_scores_rating'\n",
    "X = bar_model_data.drop('review_scores_rating', axis=1)\n",
    "y = bar_model_data[target_name]\n",
    "\n",
    "X_train, X_test, y_train, y_test = train_test_split(X,y,test_size=0.15, random_state=243)"
   ]
  },
  {
   "cell_type": "code",
   "execution_count": 64,
   "metadata": {},
   "outputs": [
    {
     "data": {
      "text/html": [
       "<table class=\"simpletable\">\n",
       "<caption>OLS Regression Results</caption>\n",
       "<tr>\n",
       "  <th>Dep. Variable:</th>    <td>review_scores_rating</td> <th>  R-squared:         </th> <td>   0.121</td> \n",
       "</tr>\n",
       "<tr>\n",
       "  <th>Model:</th>                     <td>OLS</td>         <th>  Adj. R-squared:    </th> <td>   0.119</td> \n",
       "</tr>\n",
       "<tr>\n",
       "  <th>Method:</th>               <td>Least Squares</td>    <th>  F-statistic:       </th> <td>   45.28</td> \n",
       "</tr>\n",
       "<tr>\n",
       "  <th>Date:</th>               <td>Wed, 14 Nov 2018</td>   <th>  Prob (F-statistic):</th> <td>1.06e-314</td>\n",
       "</tr>\n",
       "<tr>\n",
       "  <th>Time:</th>                   <td>17:29:22</td>       <th>  Log-Likelihood:    </th> <td> -44663.</td> \n",
       "</tr>\n",
       "<tr>\n",
       "  <th>No. Observations:</th>        <td> 12504</td>        <th>  AIC:               </th> <td>8.940e+04</td>\n",
       "</tr>\n",
       "<tr>\n",
       "  <th>Df Residuals:</th>            <td> 12465</td>        <th>  BIC:               </th> <td>8.969e+04</td>\n",
       "</tr>\n",
       "<tr>\n",
       "  <th>Df Model:</th>                <td>    38</td>        <th>                     </th>     <td> </td>    \n",
       "</tr>\n",
       "<tr>\n",
       "  <th>Covariance Type:</th>        <td>nonrobust</td>      <th>                     </th>     <td> </td>    \n",
       "</tr>\n",
       "</table>\n",
       "<table class=\"simpletable\">\n",
       "<tr>\n",
       "                          <td></td>                            <th>coef</th>     <th>std err</th>      <th>t</th>      <th>P>|t|</th>  <th>[0.025</th>    <th>0.975]</th>  \n",
       "</tr>\n",
       "<tr>\n",
       "  <th>const</th>                                            <td>   37.0220</td> <td>    0.877</td> <td>   42.229</td> <td> 0.000</td> <td>   35.304</td> <td>   38.740</td>\n",
       "</tr>\n",
       "<tr>\n",
       "  <th>host_response_time</th>                               <td>    0.3535</td> <td>    0.141</td> <td>    2.502</td> <td> 0.012</td> <td>    0.077</td> <td>    0.630</td>\n",
       "</tr>\n",
       "<tr>\n",
       "  <th>host_response_rate</th>                               <td>    1.9423</td> <td>    0.770</td> <td>    2.521</td> <td> 0.012</td> <td>    0.432</td> <td>    3.452</td>\n",
       "</tr>\n",
       "<tr>\n",
       "  <th>host_is_superhost</th>                                <td>    6.0739</td> <td>    0.202</td> <td>   30.044</td> <td> 0.000</td> <td>    5.678</td> <td>    6.470</td>\n",
       "</tr>\n",
       "<tr>\n",
       "  <th>accommodates</th>                                     <td>   -0.2480</td> <td>    0.089</td> <td>   -2.771</td> <td> 0.006</td> <td>   -0.423</td> <td>   -0.073</td>\n",
       "</tr>\n",
       "<tr>\n",
       "  <th>bathrooms</th>                                        <td>    0.0121</td> <td>    0.157</td> <td>    0.077</td> <td> 0.939</td> <td>   -0.296</td> <td>    0.320</td>\n",
       "</tr>\n",
       "<tr>\n",
       "  <th>bedrooms</th>                                         <td>    0.7191</td> <td>    0.149</td> <td>    4.840</td> <td> 0.000</td> <td>    0.428</td> <td>    1.010</td>\n",
       "</tr>\n",
       "<tr>\n",
       "  <th>beds</th>                                             <td>   -0.4507</td> <td>    0.084</td> <td>   -5.393</td> <td> 0.000</td> <td>   -0.615</td> <td>   -0.287</td>\n",
       "</tr>\n",
       "<tr>\n",
       "  <th>price</th>                                            <td>    0.0006</td> <td>    0.000</td> <td>    1.656</td> <td> 0.098</td> <td>   -0.000</td> <td>    0.001</td>\n",
       "</tr>\n",
       "<tr>\n",
       "  <th>cleaning_fee</th>                                     <td>    0.0006</td> <td>    0.003</td> <td>    0.191</td> <td> 0.849</td> <td>   -0.005</td> <td>    0.007</td>\n",
       "</tr>\n",
       "<tr>\n",
       "  <th>minimum_nights</th>                                   <td>    0.0102</td> <td>    0.005</td> <td>    2.216</td> <td> 0.027</td> <td>    0.001</td> <td>    0.019</td>\n",
       "</tr>\n",
       "<tr>\n",
       "  <th>maximum_nights</th>                                   <td>-4.658e-10</td> <td> 2.37e-09</td> <td>   -0.196</td> <td> 0.844</td> <td>-5.12e-09</td> <td> 4.19e-09</td>\n",
       "</tr>\n",
       "<tr>\n",
       "  <th>instant_bookable</th>                                 <td>   -1.3462</td> <td>    0.166</td> <td>   -8.088</td> <td> 0.000</td> <td>   -1.672</td> <td>   -1.020</td>\n",
       "</tr>\n",
       "<tr>\n",
       "  <th>name_length</th>                                      <td>    0.0234</td> <td>    0.007</td> <td>    3.407</td> <td> 0.001</td> <td>    0.010</td> <td>    0.037</td>\n",
       "</tr>\n",
       "<tr>\n",
       "  <th>summary_length</th>                                   <td>   -0.0001</td> <td>    0.001</td> <td>   -0.289</td> <td> 0.773</td> <td>   -0.001</td> <td>    0.001</td>\n",
       "</tr>\n",
       "<tr>\n",
       "  <th>space_length</th>                                     <td>   -0.0006</td> <td>    0.000</td> <td>   -2.290</td> <td> 0.022</td> <td>   -0.001</td> <td>-9.18e-05</td>\n",
       "</tr>\n",
       "<tr>\n",
       "  <th>description_length</th>                               <td>    0.0013</td> <td>    0.000</td> <td>    3.719</td> <td> 0.000</td> <td>    0.001</td> <td>    0.002</td>\n",
       "</tr>\n",
       "<tr>\n",
       "  <th>amenities_length</th>                                 <td>    0.0040</td> <td>    0.000</td> <td>    8.796</td> <td> 0.000</td> <td>    0.003</td> <td>    0.005</td>\n",
       "</tr>\n",
       "<tr>\n",
       "  <th>neighbourhood_group_cleansed_Ciutat Vella</th>        <td>    3.4493</td> <td>    0.220</td> <td>   15.691</td> <td> 0.000</td> <td>    3.018</td> <td>    3.880</td>\n",
       "</tr>\n",
       "<tr>\n",
       "  <th>neighbourhood_group_cleansed_Eixample</th>            <td>    3.8189</td> <td>    0.201</td> <td>   18.963</td> <td> 0.000</td> <td>    3.424</td> <td>    4.214</td>\n",
       "</tr>\n",
       "<tr>\n",
       "  <th>neighbourhood_group_cleansed_Gràcia</th>              <td>    3.8690</td> <td>    0.279</td> <td>   13.873</td> <td> 0.000</td> <td>    3.322</td> <td>    4.416</td>\n",
       "</tr>\n",
       "<tr>\n",
       "  <th>neighbourhood_group_cleansed_Horta-Guinardó</th>      <td>    3.6864</td> <td>    0.415</td> <td>    8.872</td> <td> 0.000</td> <td>    2.872</td> <td>    4.501</td>\n",
       "</tr>\n",
       "<tr>\n",
       "  <th>neighbourhood_group_cleansed_Les Corts</th>           <td>    3.4440</td> <td>    0.505</td> <td>    6.820</td> <td> 0.000</td> <td>    2.454</td> <td>    4.434</td>\n",
       "</tr>\n",
       "<tr>\n",
       "  <th>neighbourhood_group_cleansed_Nou Barris</th>          <td>    4.1433</td> <td>    0.651</td> <td>    6.364</td> <td> 0.000</td> <td>    2.867</td> <td>    5.420</td>\n",
       "</tr>\n",
       "<tr>\n",
       "  <th>neighbourhood_group_cleansed_Sant Andreu</th>         <td>    4.0506</td> <td>    0.585</td> <td>    6.929</td> <td> 0.000</td> <td>    2.905</td> <td>    5.197</td>\n",
       "</tr>\n",
       "<tr>\n",
       "  <th>neighbourhood_group_cleansed_Sant Martí</th>          <td>    3.5260</td> <td>    0.254</td> <td>   13.904</td> <td> 0.000</td> <td>    3.029</td> <td>    4.023</td>\n",
       "</tr>\n",
       "<tr>\n",
       "  <th>neighbourhood_group_cleansed_Sants-Montjuïc</th>      <td>    3.6529</td> <td>    0.255</td> <td>   14.312</td> <td> 0.000</td> <td>    3.153</td> <td>    4.153</td>\n",
       "</tr>\n",
       "<tr>\n",
       "  <th>neighbourhood_group_cleansed_Sarrià-Sant Gervasi</th> <td>    3.3816</td> <td>    0.411</td> <td>    8.220</td> <td> 0.000</td> <td>    2.575</td> <td>    4.188</td>\n",
       "</tr>\n",
       "<tr>\n",
       "  <th>property_type_Apartment</th>                          <td>    7.5282</td> <td>    0.383</td> <td>   19.657</td> <td> 0.000</td> <td>    6.778</td> <td>    8.279</td>\n",
       "</tr>\n",
       "<tr>\n",
       "  <th>property_type_Condominium</th>                        <td>    7.3729</td> <td>    0.600</td> <td>   12.297</td> <td> 0.000</td> <td>    6.198</td> <td>    8.548</td>\n",
       "</tr>\n",
       "<tr>\n",
       "  <th>property_type_House</th>                              <td>    7.6664</td> <td>    0.597</td> <td>   12.834</td> <td> 0.000</td> <td>    6.495</td> <td>    8.837</td>\n",
       "</tr>\n",
       "<tr>\n",
       "  <th>property_type_Other</th>                              <td>    7.5679</td> <td>    0.423</td> <td>   17.905</td> <td> 0.000</td> <td>    6.739</td> <td>    8.396</td>\n",
       "</tr>\n",
       "<tr>\n",
       "  <th>property_type_Townhouse</th>                          <td>    6.8866</td> <td>    1.336</td> <td>    5.155</td> <td> 0.000</td> <td>    4.268</td> <td>    9.505</td>\n",
       "</tr>\n",
       "<tr>\n",
       "  <th>room_type_Entire home/apt</th>                        <td>   12.5740</td> <td>    0.426</td> <td>   29.484</td> <td> 0.000</td> <td>   11.738</td> <td>   13.410</td>\n",
       "</tr>\n",
       "<tr>\n",
       "  <th>room_type_Private room</th>                           <td>   13.2653</td> <td>    0.404</td> <td>   32.840</td> <td> 0.000</td> <td>   12.473</td> <td>   14.057</td>\n",
       "</tr>\n",
       "<tr>\n",
       "  <th>room_type_Shared room</th>                            <td>   11.1827</td> <td>    0.726</td> <td>   15.397</td> <td> 0.000</td> <td>    9.759</td> <td>   12.606</td>\n",
       "</tr>\n",
       "<tr>\n",
       "  <th>bed_type_Other</th>                                   <td>   18.5216</td> <td>    0.632</td> <td>   29.295</td> <td> 0.000</td> <td>   17.282</td> <td>   19.761</td>\n",
       "</tr>\n",
       "<tr>\n",
       "  <th>bed_type_Real Bed</th>                                <td>   18.5003</td> <td>    0.526</td> <td>   35.178</td> <td> 0.000</td> <td>   17.469</td> <td>   19.531</td>\n",
       "</tr>\n",
       "<tr>\n",
       "  <th>cancellation_policy_flexible</th>                     <td>    6.5019</td> <td>    1.559</td> <td>    4.171</td> <td> 0.000</td> <td>    3.447</td> <td>    9.557</td>\n",
       "</tr>\n",
       "<tr>\n",
       "  <th>cancellation_policy_moderate</th>                     <td>    6.8229</td> <td>    1.557</td> <td>    4.382</td> <td> 0.000</td> <td>    3.771</td> <td>    9.875</td>\n",
       "</tr>\n",
       "<tr>\n",
       "  <th>cancellation_policy_strict</th>                       <td>    8.4612</td> <td>    7.340</td> <td>    1.153</td> <td> 0.249</td> <td>   -5.927</td> <td>   22.849</td>\n",
       "</tr>\n",
       "<tr>\n",
       "  <th>cancellation_policy_strict_14_with_grace_period</th>  <td>    5.8853</td> <td>    1.554</td> <td>    3.788</td> <td> 0.000</td> <td>    2.840</td> <td>    8.931</td>\n",
       "</tr>\n",
       "<tr>\n",
       "  <th>cancellation_policy_super_strict_30</th>              <td>    9.7099</td> <td>    1.765</td> <td>    5.503</td> <td> 0.000</td> <td>    6.251</td> <td>   13.169</td>\n",
       "</tr>\n",
       "<tr>\n",
       "  <th>cancellation_policy_super_strict_60</th>              <td>   -0.3592</td> <td>    4.427</td> <td>   -0.081</td> <td> 0.935</td> <td>   -9.037</td> <td>    8.318</td>\n",
       "</tr>\n",
       "</table>\n",
       "<table class=\"simpletable\">\n",
       "<tr>\n",
       "  <th>Omnibus:</th>       <td>7935.766</td> <th>  Durbin-Watson:     </th>  <td>   2.013</td> \n",
       "</tr>\n",
       "<tr>\n",
       "  <th>Prob(Omnibus):</th>  <td> 0.000</td>  <th>  Jarque-Bera (JB):  </th> <td>137829.454</td>\n",
       "</tr>\n",
       "<tr>\n",
       "  <th>Skew:</th>           <td>-2.773</td>  <th>  Prob(JB):          </th>  <td>    0.00</td> \n",
       "</tr>\n",
       "<tr>\n",
       "  <th>Kurtosis:</th>       <td>18.290</td>  <th>  Cond. No.          </th>  <td>1.18e+16</td> \n",
       "</tr>\n",
       "</table>"
      ],
      "text/plain": [
       "<class 'statsmodels.iolib.summary.Summary'>\n",
       "\"\"\"\n",
       "                             OLS Regression Results                             \n",
       "================================================================================\n",
       "Dep. Variable:     review_scores_rating   R-squared:                       0.121\n",
       "Model:                              OLS   Adj. R-squared:                  0.119\n",
       "Method:                   Least Squares   F-statistic:                     45.28\n",
       "Date:                  Wed, 14 Nov 2018   Prob (F-statistic):          1.06e-314\n",
       "Time:                          17:29:22   Log-Likelihood:                -44663.\n",
       "No. Observations:                 12504   AIC:                         8.940e+04\n",
       "Df Residuals:                     12465   BIC:                         8.969e+04\n",
       "Df Model:                            38                                         \n",
       "Covariance Type:              nonrobust                                         \n",
       "====================================================================================================================\n",
       "                                                       coef    std err          t      P>|t|      [0.025      0.975]\n",
       "--------------------------------------------------------------------------------------------------------------------\n",
       "const                                               37.0220      0.877     42.229      0.000      35.304      38.740\n",
       "host_response_time                                   0.3535      0.141      2.502      0.012       0.077       0.630\n",
       "host_response_rate                                   1.9423      0.770      2.521      0.012       0.432       3.452\n",
       "host_is_superhost                                    6.0739      0.202     30.044      0.000       5.678       6.470\n",
       "accommodates                                        -0.2480      0.089     -2.771      0.006      -0.423      -0.073\n",
       "bathrooms                                            0.0121      0.157      0.077      0.939      -0.296       0.320\n",
       "bedrooms                                             0.7191      0.149      4.840      0.000       0.428       1.010\n",
       "beds                                                -0.4507      0.084     -5.393      0.000      -0.615      -0.287\n",
       "price                                                0.0006      0.000      1.656      0.098      -0.000       0.001\n",
       "cleaning_fee                                         0.0006      0.003      0.191      0.849      -0.005       0.007\n",
       "minimum_nights                                       0.0102      0.005      2.216      0.027       0.001       0.019\n",
       "maximum_nights                                   -4.658e-10   2.37e-09     -0.196      0.844   -5.12e-09    4.19e-09\n",
       "instant_bookable                                    -1.3462      0.166     -8.088      0.000      -1.672      -1.020\n",
       "name_length                                          0.0234      0.007      3.407      0.001       0.010       0.037\n",
       "summary_length                                      -0.0001      0.001     -0.289      0.773      -0.001       0.001\n",
       "space_length                                        -0.0006      0.000     -2.290      0.022      -0.001   -9.18e-05\n",
       "description_length                                   0.0013      0.000      3.719      0.000       0.001       0.002\n",
       "amenities_length                                     0.0040      0.000      8.796      0.000       0.003       0.005\n",
       "neighbourhood_group_cleansed_Ciutat Vella            3.4493      0.220     15.691      0.000       3.018       3.880\n",
       "neighbourhood_group_cleansed_Eixample                3.8189      0.201     18.963      0.000       3.424       4.214\n",
       "neighbourhood_group_cleansed_Gràcia                  3.8690      0.279     13.873      0.000       3.322       4.416\n",
       "neighbourhood_group_cleansed_Horta-Guinardó          3.6864      0.415      8.872      0.000       2.872       4.501\n",
       "neighbourhood_group_cleansed_Les Corts               3.4440      0.505      6.820      0.000       2.454       4.434\n",
       "neighbourhood_group_cleansed_Nou Barris              4.1433      0.651      6.364      0.000       2.867       5.420\n",
       "neighbourhood_group_cleansed_Sant Andreu             4.0506      0.585      6.929      0.000       2.905       5.197\n",
       "neighbourhood_group_cleansed_Sant Martí              3.5260      0.254     13.904      0.000       3.029       4.023\n",
       "neighbourhood_group_cleansed_Sants-Montjuïc          3.6529      0.255     14.312      0.000       3.153       4.153\n",
       "neighbourhood_group_cleansed_Sarrià-Sant Gervasi     3.3816      0.411      8.220      0.000       2.575       4.188\n",
       "property_type_Apartment                              7.5282      0.383     19.657      0.000       6.778       8.279\n",
       "property_type_Condominium                            7.3729      0.600     12.297      0.000       6.198       8.548\n",
       "property_type_House                                  7.6664      0.597     12.834      0.000       6.495       8.837\n",
       "property_type_Other                                  7.5679      0.423     17.905      0.000       6.739       8.396\n",
       "property_type_Townhouse                              6.8866      1.336      5.155      0.000       4.268       9.505\n",
       "room_type_Entire home/apt                           12.5740      0.426     29.484      0.000      11.738      13.410\n",
       "room_type_Private room                              13.2653      0.404     32.840      0.000      12.473      14.057\n",
       "room_type_Shared room                               11.1827      0.726     15.397      0.000       9.759      12.606\n",
       "bed_type_Other                                      18.5216      0.632     29.295      0.000      17.282      19.761\n",
       "bed_type_Real Bed                                   18.5003      0.526     35.178      0.000      17.469      19.531\n",
       "cancellation_policy_flexible                         6.5019      1.559      4.171      0.000       3.447       9.557\n",
       "cancellation_policy_moderate                         6.8229      1.557      4.382      0.000       3.771       9.875\n",
       "cancellation_policy_strict                           8.4612      7.340      1.153      0.249      -5.927      22.849\n",
       "cancellation_policy_strict_14_with_grace_period      5.8853      1.554      3.788      0.000       2.840       8.931\n",
       "cancellation_policy_super_strict_30                  9.7099      1.765      5.503      0.000       6.251      13.169\n",
       "cancellation_policy_super_strict_60                 -0.3592      4.427     -0.081      0.935      -9.037       8.318\n",
       "==============================================================================\n",
       "Omnibus:                     7935.766   Durbin-Watson:                   2.013\n",
       "Prob(Omnibus):                  0.000   Jarque-Bera (JB):           137829.454\n",
       "Skew:                          -2.773   Prob(JB):                         0.00\n",
       "Kurtosis:                      18.290   Cond. No.                     1.18e+16\n",
       "==============================================================================\n",
       "\n",
       "Warnings:\n",
       "[1] Standard Errors assume that the covariance matrix of the errors is correctly specified.\n",
       "[2] The smallest eigenvalue is  1e-13. This might indicate that there are\n",
       "strong multicollinearity problems or that the design matrix is singular.\n",
       "\"\"\""
      ]
     },
     "execution_count": 64,
     "metadata": {},
     "output_type": "execute_result"
    }
   ],
   "source": [
    "Xr = X_train\n",
    "yr = y_train\n",
    "Xr = sm.add_constant(Xr)\n",
    "ols_model = sm.OLS(yr, Xr).fit()\n",
    "\n",
    "ols_model.summary()"
   ]
  },
  {
   "cell_type": "code",
   "execution_count": 65,
   "metadata": {},
   "outputs": [
    {
     "data": {
      "text/plain": [
       "LinearRegression(copy_X=True, fit_intercept=True, n_jobs=1, normalize=False)"
      ]
     },
     "execution_count": 65,
     "metadata": {},
     "output_type": "execute_result"
    }
   ],
   "source": [
    "lm = LinearRegression()\n",
    "lm.fit(X_train, y_train)"
   ]
  },
  {
   "cell_type": "code",
   "execution_count": 66,
   "metadata": {},
   "outputs": [
    {
     "data": {
      "text/html": [
       "<div>\n",
       "<style scoped>\n",
       "    .dataframe tbody tr th:only-of-type {\n",
       "        vertical-align: middle;\n",
       "    }\n",
       "\n",
       "    .dataframe tbody tr th {\n",
       "        vertical-align: top;\n",
       "    }\n",
       "\n",
       "    .dataframe thead th {\n",
       "        text-align: right;\n",
       "    }\n",
       "</style>\n",
       "<table border=\"1\" class=\"dataframe\">\n",
       "  <thead>\n",
       "    <tr style=\"text-align: right;\">\n",
       "      <th></th>\n",
       "      <th>feature</th>\n",
       "      <th>importance</th>\n",
       "    </tr>\n",
       "  </thead>\n",
       "  <tbody>\n",
       "    <tr>\n",
       "      <th>2</th>\n",
       "      <td>host_is_superhost</td>\n",
       "      <td>6.073885</td>\n",
       "    </tr>\n",
       "    <tr>\n",
       "      <th>41</th>\n",
       "      <td>cancellation_policy_super_strict_30</td>\n",
       "      <td>3.539538</td>\n",
       "    </tr>\n",
       "    <tr>\n",
       "      <th>39</th>\n",
       "      <td>cancellation_policy_strict</td>\n",
       "      <td>2.290832</td>\n",
       "    </tr>\n",
       "    <tr>\n",
       "      <th>1</th>\n",
       "      <td>host_response_rate</td>\n",
       "      <td>1.942303</td>\n",
       "    </tr>\n",
       "    <tr>\n",
       "      <th>33</th>\n",
       "      <td>room_type_Private room</td>\n",
       "      <td>0.924594</td>\n",
       "    </tr>\n",
       "    <tr>\n",
       "      <th>5</th>\n",
       "      <td>bedrooms</td>\n",
       "      <td>0.719064</td>\n",
       "    </tr>\n",
       "    <tr>\n",
       "      <th>38</th>\n",
       "      <td>cancellation_policy_moderate</td>\n",
       "      <td>0.652592</td>\n",
       "    </tr>\n",
       "    <tr>\n",
       "      <th>22</th>\n",
       "      <td>neighbourhood_group_cleansed_Nou Barris</td>\n",
       "      <td>0.441099</td>\n",
       "    </tr>\n",
       "    <tr>\n",
       "      <th>0</th>\n",
       "      <td>host_response_time</td>\n",
       "      <td>0.353480</td>\n",
       "    </tr>\n",
       "    <tr>\n",
       "      <th>23</th>\n",
       "      <td>neighbourhood_group_cleansed_Sant Andreu</td>\n",
       "      <td>0.348430</td>\n",
       "    </tr>\n",
       "  </tbody>\n",
       "</table>\n",
       "</div>"
      ],
      "text/plain": [
       "                                     feature  importance\n",
       "2                          host_is_superhost    6.073885\n",
       "41       cancellation_policy_super_strict_30    3.539538\n",
       "39                cancellation_policy_strict    2.290832\n",
       "1                         host_response_rate    1.942303\n",
       "33                    room_type_Private room    0.924594\n",
       "5                                   bedrooms    0.719064\n",
       "38              cancellation_policy_moderate    0.652592\n",
       "22   neighbourhood_group_cleansed_Nou Barris    0.441099\n",
       "0                         host_response_time    0.353480\n",
       "23  neighbourhood_group_cleansed_Sant Andreu    0.348430"
      ]
     },
     "execution_count": 66,
     "metadata": {},
     "output_type": "execute_result"
    }
   ],
   "source": [
    "ols_coefficients = pd.DataFrame({'feature': X_train.columns, 'importance': lm.coef_})\n",
    "ols_coefficients.sort_values('importance', ascending=False)[:10]"
   ]
  },
  {
   "cell_type": "code",
   "execution_count": 67,
   "metadata": {},
   "outputs": [
    {
     "data": {
      "text/plain": [
       "9.47074308380423"
      ]
     },
     "execution_count": 67,
     "metadata": {},
     "output_type": "execute_result"
    }
   ],
   "source": [
    "ols_y_predict = lm.predict(X_test)\n",
    "ols_mse = np.sqrt(metrics.mean_squared_error(y_test, ols_y_predict))\n",
    "ols_mse"
   ]
  },
  {
   "cell_type": "markdown",
   "metadata": {},
   "source": [
    "##### Decision Tree"
   ]
  },
  {
   "cell_type": "code",
   "execution_count": 68,
   "metadata": {},
   "outputs": [
    {
     "data": {
      "text/plain": [
       "<matplotlib.axes._subplots.AxesSubplot at 0x2d612db1710>"
      ]
     },
     "execution_count": 68,
     "metadata": {},
     "output_type": "execute_result"
    },
    {
     "data": {
      "image/png": "[encoded data removed]",
      "text/plain": [
       "<matplotlib.figure.Figure at 0x2d611d6c1d0>"
      ]
     },
     "metadata": {},
     "output_type": "display_data"
    }
   ],
   "source": [
    "dtree = tree.DecisionTreeClassifier(\n",
    "    class_weight=\"balanced\",\n",
    "    min_weight_fraction_leaf=0.01,)\n",
    "dtree = dtree.fit(X_train,y_train)\n",
    "\n",
    "importances = dtree.feature_importances_\n",
    "feat_names = X_train.columns\n",
    "tree_result = pd.DataFrame({'feature': feat_names, 'importance': importances})\n",
    "tree_result.sort_values(by='importance',ascending=False)[:10].plot(x='feature', y='importance', kind='bar',\n",
    "                                                                   title='Madrid Decision Tree features importance')"
   ]
  },
  {
   "cell_type": "code",
   "execution_count": 69,
   "metadata": {},
   "outputs": [
    {
     "data": {
      "text/plain": [
       "29.337481342283553"
      ]
     },
     "execution_count": 69,
     "metadata": {},
     "output_type": "execute_result"
    }
   ],
   "source": [
    "dtree_y_predict = dtree.predict(X_test)\n",
    "dtree_mse = np.sqrt(metrics.mean_squared_error(y_test, dtree_y_predict))\n",
    "dtree_mse"
   ]
  },
  {
   "cell_type": "markdown",
   "metadata": {},
   "source": [
    "##### Random Forest"
   ]
  },
  {
   "cell_type": "code",
   "execution_count": 70,
   "metadata": {},
   "outputs": [
    {
     "data": {
      "text/plain": [
       "<matplotlib.axes._subplots.AxesSubplot at 0x2d612d382b0>"
      ]
     },
     "execution_count": 70,
     "metadata": {},
     "output_type": "execute_result"
    },
    {
     "data": {
      "image/png": "[encoded data removed]",
      "text/plain": [
       "<matplotlib.figure.Figure at 0x2d612d2ee10>"
      ]
     },
     "metadata": {},
     "output_type": "display_data"
    }
   ],
   "source": [
    "rf = RandomForestRegressor(max_depth=3, random_state=0)\n",
    "rf.fit(X_train, y_train)\n",
    "rf_importances = rf.feature_importances_\n",
    "rf_result = pd.DataFrame({'feature': feat_names, 'importance': rf_importances})\n",
    "rf_result.sort_values(by='importance',ascending=False)[:10].plot(x='feature', y='importance', kind='bar',\n",
    "                                                                 title='Madrid Random Forest features importance')"
   ]
  },
  {
   "cell_type": "code",
   "execution_count": 71,
   "metadata": {},
   "outputs": [
    {
     "data": {
      "text/plain": [
       "9.536085299859783"
      ]
     },
     "execution_count": 71,
     "metadata": {},
     "output_type": "execute_result"
    }
   ],
   "source": [
    "rf_y_predict = rf.predict(X_test)\n",
    "rf_mse = np.sqrt(metrics.mean_squared_error(y_test, rf_y_predict))\n",
    "rf_mse"
   ]
  },
  {
   "cell_type": "code",
   "execution_count": 72,
   "metadata": {
    "collapsed": true
   },
   "outputs": [],
   "source": [
    "mean_array = [y_train.mean()] * len(X_test)\n",
    "mean_mse = np.sqrt(metrics.mean_squared_error(y_test, mean_array))\n",
    "median_array = [y_train.median()] * len(X_test)\n",
    "median_mse = np.sqrt(metrics.mean_squared_error(y_test, mean_array))"
   ]
  },
  {
   "cell_type": "code",
   "execution_count": 73,
   "metadata": {},
   "outputs": [
    {
     "name": "stdout",
     "output_type": "stream",
     "text": [
      "Random Forest MSE: 9.536085299859783\n",
      "Decision Tree MSE: 29.337481342283553\n",
      "OLS MSE 9.47074308380423\n",
      "Median MSE 9.99677641707666\n",
      "Mean MSE 9.99677641707666\n"
     ]
    }
   ],
   "source": [
    "print(\"Random Forest MSE:\", rf_mse)\n",
    "print(\"Decision Tree MSE:\", dtree_mse)\n",
    "print(\"OLS MSE\",ols_mse)\n",
    "print(\"Median MSE\",median_mse)\n",
    "print(\"Mean MSE\",mean_mse)"
   ]
  },
  {
   "cell_type": "markdown",
   "metadata": {},
   "source": [
    "--------------------\n",
    "\n",
    "Same conclusion as with Madrid. Let's see if triming the predictors gives something new.\n",
    "\n",
    "--------------------"
   ]
  },
  {
   "cell_type": "code",
   "execution_count": 74,
   "metadata": {},
   "outputs": [
    {
     "name": "stdout",
     "output_type": "stream",
     "text": [
      "9.538555395470079\n"
     ]
    }
   ],
   "source": [
    "rf_10_features = rf_result.sort_values(by='importance', ascending=False)['feature'][:10].tolist()\n",
    "rf_10_features_model = rf.fit(X_train[rf_10_features], y_train)\n",
    "rf_10_features_model_predict=rf_10_features_model.predict(X_test[rf_10_features])\n",
    "rf_10_features_model_mse = np.sqrt(metrics.mean_squared_error(y_test, rf_10_features_model_predict))\n",
    "print(rf_10_features_model_mse)"
   ]
  },
  {
   "cell_type": "code",
   "execution_count": 75,
   "metadata": {},
   "outputs": [
    {
     "data": {
      "text/html": [
       "<div>\n",
       "<style scoped>\n",
       "    .dataframe tbody tr th:only-of-type {\n",
       "        vertical-align: middle;\n",
       "    }\n",
       "\n",
       "    .dataframe tbody tr th {\n",
       "        vertical-align: top;\n",
       "    }\n",
       "\n",
       "    .dataframe thead th {\n",
       "        text-align: right;\n",
       "    }\n",
       "</style>\n",
       "<table border=\"1\" class=\"dataframe\">\n",
       "  <thead>\n",
       "    <tr style=\"text-align: right;\">\n",
       "      <th></th>\n",
       "      <th>feature</th>\n",
       "      <th>ranking</th>\n",
       "      <th>selection</th>\n",
       "    </tr>\n",
       "  </thead>\n",
       "  <tbody>\n",
       "    <tr>\n",
       "      <th>0</th>\n",
       "      <td>host_response_time</td>\n",
       "      <td>1</td>\n",
       "      <td>True</td>\n",
       "    </tr>\n",
       "    <tr>\n",
       "      <th>36</th>\n",
       "      <td>bed_type_Real Bed</td>\n",
       "      <td>1</td>\n",
       "      <td>True</td>\n",
       "    </tr>\n",
       "    <tr>\n",
       "      <th>27</th>\n",
       "      <td>property_type_Apartment</td>\n",
       "      <td>1</td>\n",
       "      <td>True</td>\n",
       "    </tr>\n",
       "    <tr>\n",
       "      <th>17</th>\n",
       "      <td>neighbourhood_group_cleansed_Ciutat Vella</td>\n",
       "      <td>1</td>\n",
       "      <td>True</td>\n",
       "    </tr>\n",
       "    <tr>\n",
       "      <th>9</th>\n",
       "      <td>minimum_nights</td>\n",
       "      <td>1</td>\n",
       "      <td>True</td>\n",
       "    </tr>\n",
       "    <tr>\n",
       "      <th>37</th>\n",
       "      <td>cancellation_policy_flexible</td>\n",
       "      <td>1</td>\n",
       "      <td>True</td>\n",
       "    </tr>\n",
       "    <tr>\n",
       "      <th>4</th>\n",
       "      <td>bathrooms</td>\n",
       "      <td>1</td>\n",
       "      <td>True</td>\n",
       "    </tr>\n",
       "    <tr>\n",
       "      <th>1</th>\n",
       "      <td>host_response_rate</td>\n",
       "      <td>1</td>\n",
       "      <td>True</td>\n",
       "    </tr>\n",
       "    <tr>\n",
       "      <th>33</th>\n",
       "      <td>room_type_Private room</td>\n",
       "      <td>1</td>\n",
       "      <td>True</td>\n",
       "    </tr>\n",
       "    <tr>\n",
       "      <th>5</th>\n",
       "      <td>bedrooms</td>\n",
       "      <td>1</td>\n",
       "      <td>True</td>\n",
       "    </tr>\n",
       "  </tbody>\n",
       "</table>\n",
       "</div>"
      ],
      "text/plain": [
       "                                      feature  ranking  selection\n",
       "0                          host_response_time        1       True\n",
       "36                          bed_type_Real Bed        1       True\n",
       "27                    property_type_Apartment        1       True\n",
       "17  neighbourhood_group_cleansed_Ciutat Vella        1       True\n",
       "9                              minimum_nights        1       True\n",
       "37               cancellation_policy_flexible        1       True\n",
       "4                                   bathrooms        1       True\n",
       "1                          host_response_rate        1       True\n",
       "33                     room_type_Private room        1       True\n",
       "5                                    bedrooms        1       True"
      ]
     },
     "execution_count": 75,
     "metadata": {},
     "output_type": "execute_result"
    }
   ],
   "source": [
    "model = LogisticRegression()\n",
    "rfe = RFE(model, 10)\n",
    "rfe = rfe.fit(X_train, y_train)\n",
    "rfe_result = pd.DataFrame({'feature': feat_names, 'ranking': rfe.ranking_, 'selection': rfe.support_})\n",
    "rfe_result.sort_values(by='ranking')[:10]"
   ]
  },
  {
   "cell_type": "code",
   "execution_count": 76,
   "metadata": {},
   "outputs": [
    {
     "name": "stdout",
     "output_type": "stream",
     "text": [
      "9.881967205040052\n"
     ]
    }
   ],
   "source": [
    "rf_10_features = rfe_result.sort_values(by='ranking')['feature'][:10].tolist()\n",
    "rf_10_features_model = rf.fit(X_train[rf_10_features], y_train)\n",
    "rf_10_features_model_predict=rf_10_features_model.predict(X_test[rf_10_features])\n",
    "rf_10_features_model_mse = np.sqrt(metrics.mean_squared_error(y_test, rf_10_features_model_predict))\n",
    "print(rf_10_features_model_mse)"
   ]
  },
  {
   "cell_type": "code",
   "execution_count": 77,
   "metadata": {},
   "outputs": [
    {
     "data": {
      "text/html": [
       "<div>\n",
       "<style scoped>\n",
       "    .dataframe tbody tr th:only-of-type {\n",
       "        vertical-align: middle;\n",
       "    }\n",
       "\n",
       "    .dataframe tbody tr th {\n",
       "        vertical-align: top;\n",
       "    }\n",
       "\n",
       "    .dataframe thead th {\n",
       "        text-align: right;\n",
       "    }\n",
       "</style>\n",
       "<table border=\"1\" class=\"dataframe\">\n",
       "  <thead>\n",
       "    <tr style=\"text-align: right;\">\n",
       "      <th></th>\n",
       "      <th>feature</th>\n",
       "      <th>ranking</th>\n",
       "      <th>selection</th>\n",
       "    </tr>\n",
       "  </thead>\n",
       "  <tbody>\n",
       "    <tr>\n",
       "      <th>42</th>\n",
       "      <td>cancellation_policy_super_strict_60</td>\n",
       "      <td>1</td>\n",
       "      <td>True</td>\n",
       "    </tr>\n",
       "    <tr>\n",
       "      <th>1</th>\n",
       "      <td>host_response_rate</td>\n",
       "      <td>1</td>\n",
       "      <td>True</td>\n",
       "    </tr>\n",
       "    <tr>\n",
       "      <th>2</th>\n",
       "      <td>host_is_superhost</td>\n",
       "      <td>1</td>\n",
       "      <td>True</td>\n",
       "    </tr>\n",
       "    <tr>\n",
       "      <th>38</th>\n",
       "      <td>cancellation_policy_moderate</td>\n",
       "      <td>1</td>\n",
       "      <td>True</td>\n",
       "    </tr>\n",
       "    <tr>\n",
       "      <th>34</th>\n",
       "      <td>room_type_Shared room</td>\n",
       "      <td>1</td>\n",
       "      <td>True</td>\n",
       "    </tr>\n",
       "    <tr>\n",
       "      <th>5</th>\n",
       "      <td>bedrooms</td>\n",
       "      <td>1</td>\n",
       "      <td>True</td>\n",
       "    </tr>\n",
       "    <tr>\n",
       "      <th>33</th>\n",
       "      <td>room_type_Private room</td>\n",
       "      <td>1</td>\n",
       "      <td>True</td>\n",
       "    </tr>\n",
       "    <tr>\n",
       "      <th>22</th>\n",
       "      <td>neighbourhood_group_cleansed_Nou Barris</td>\n",
       "      <td>1</td>\n",
       "      <td>True</td>\n",
       "    </tr>\n",
       "    <tr>\n",
       "      <th>41</th>\n",
       "      <td>cancellation_policy_super_strict_30</td>\n",
       "      <td>1</td>\n",
       "      <td>True</td>\n",
       "    </tr>\n",
       "    <tr>\n",
       "      <th>11</th>\n",
       "      <td>instant_bookable</td>\n",
       "      <td>1</td>\n",
       "      <td>True</td>\n",
       "    </tr>\n",
       "  </tbody>\n",
       "</table>\n",
       "</div>"
      ],
      "text/plain": [
       "                                    feature  ranking  selection\n",
       "42      cancellation_policy_super_strict_60        1       True\n",
       "1                        host_response_rate        1       True\n",
       "2                         host_is_superhost        1       True\n",
       "38             cancellation_policy_moderate        1       True\n",
       "34                    room_type_Shared room        1       True\n",
       "5                                  bedrooms        1       True\n",
       "33                   room_type_Private room        1       True\n",
       "22  neighbourhood_group_cleansed_Nou Barris        1       True\n",
       "41      cancellation_policy_super_strict_30        1       True\n",
       "11                         instant_bookable        1       True"
      ]
     },
     "execution_count": 77,
     "metadata": {},
     "output_type": "execute_result"
    }
   ],
   "source": [
    "model = LinearRegression()\n",
    "rfe = RFE(model, 10)\n",
    "rfe = rfe.fit(X_train, y_train)\n",
    "rfe_result = pd.DataFrame({'feature': feat_names, 'ranking': rfe.ranking_, 'selection': rfe.support_})\n",
    "rfe_result.sort_values(by='ranking')[:10]"
   ]
  },
  {
   "cell_type": "code",
   "execution_count": 78,
   "metadata": {},
   "outputs": [
    {
     "name": "stdout",
     "output_type": "stream",
     "text": [
      "9.538918918714689\n"
     ]
    }
   ],
   "source": [
    "rf_10_features = rfe_result.sort_values(by='ranking')['feature'][:10].tolist()\n",
    "rf_10_features_model = rf.fit(X_train[rf_10_features], y_train)\n",
    "rf_10_features_model_predict=rf_10_features_model.predict(X_test[rf_10_features])\n",
    "rf_10_features_model_mse = np.sqrt(metrics.mean_squared_error(y_test, rf_10_features_model_predict))\n",
    "print(rf_10_features_model_mse)"
   ]
  },
  {
   "cell_type": "markdown",
   "metadata": {},
   "source": [
    "-------------------\n",
    "\n",
    "Again, no.\n",
    "\n",
    "-------------------"
   ]
  },
  {
   "cell_type": "markdown",
   "metadata": {},
   "source": [
    "### Madrid Price Evaluation"
   ]
  },
  {
   "cell_type": "markdown",
   "metadata": {},
   "source": [
    "--------------------\n",
    "Let's start by merging the listing and review data.\n",
    "\n",
    "--------------------"
   ]
  },
  {
   "cell_type": "code",
   "execution_count": 79,
   "metadata": {},
   "outputs": [
    {
     "name": "stderr",
     "output_type": "stream",
     "text": [
      "C:\\Users\\danie\\Anaconda3\\lib\\site-packages\\pandas\\core\\frame.py:3781: SettingWithCopyWarning: \n",
      "A value is trying to be set on a copy of a slice from a DataFrame\n",
      "\n",
      "See the caveats in the documentation: http://pandas.pydata.org/pandas-docs/stable/indexing.html#indexing-view-versus-copy\n",
      "  return super(DataFrame, self).rename(**kwargs)\n"
     ]
    },
    {
     "data": {
      "text/html": [
       "<div>\n",
       "<style scoped>\n",
       "    .dataframe tbody tr th:only-of-type {\n",
       "        vertical-align: middle;\n",
       "    }\n",
       "\n",
       "    .dataframe tbody tr th {\n",
       "        vertical-align: top;\n",
       "    }\n",
       "\n",
       "    .dataframe thead th {\n",
       "        text-align: right;\n",
       "    }\n",
       "</style>\n",
       "<table border=\"1\" class=\"dataframe\">\n",
       "  <thead>\n",
       "    <tr style=\"text-align: right;\">\n",
       "      <th></th>\n",
       "      <th>listing_id</th>\n",
       "      <th>price</th>\n",
       "      <th>minimum_nights</th>\n",
       "    </tr>\n",
       "  </thead>\n",
       "  <tbody>\n",
       "    <tr>\n",
       "      <th>0</th>\n",
       "      <td>19864</td>\n",
       "      <td>$64.00</td>\n",
       "      <td>2</td>\n",
       "    </tr>\n",
       "    <tr>\n",
       "      <th>1</th>\n",
       "      <td>21853</td>\n",
       "      <td>$17.00</td>\n",
       "      <td>4</td>\n",
       "    </tr>\n",
       "    <tr>\n",
       "      <th>2</th>\n",
       "      <td>24805</td>\n",
       "      <td>$60.00</td>\n",
       "      <td>5</td>\n",
       "    </tr>\n",
       "    <tr>\n",
       "      <th>3</th>\n",
       "      <td>24836</td>\n",
       "      <td>$115.00</td>\n",
       "      <td>3</td>\n",
       "    </tr>\n",
       "    <tr>\n",
       "      <th>4</th>\n",
       "      <td>26823</td>\n",
       "      <td>$45.00</td>\n",
       "      <td>2</td>\n",
       "    </tr>\n",
       "  </tbody>\n",
       "</table>\n",
       "</div>"
      ],
      "text/plain": [
       "   listing_id    price  minimum_nights\n",
       "0       19864   $64.00               2\n",
       "1       21853   $17.00               4\n",
       "2       24805   $60.00               5\n",
       "3       24836  $115.00               3\n",
       "4       26823   $45.00               2"
      ]
     },
     "execution_count": 79,
     "metadata": {},
     "output_type": "execute_result"
    }
   ],
   "source": [
    "mad_list_price = mad_listings_data[['id', 'price', 'minimum_nights']]\n",
    "mad_list_price.rename(index=str, columns={\"id\": \"listing_id\"},inplace=True)\n",
    "mad_list_price.head()"
   ]
  },
  {
   "cell_type": "code",
   "execution_count": 80,
   "metadata": {
    "scrolled": true
   },
   "outputs": [
    {
     "data": {
      "text/html": [
       "<div>\n",
       "<style scoped>\n",
       "    .dataframe tbody tr th:only-of-type {\n",
       "        vertical-align: middle;\n",
       "    }\n",
       "\n",
       "    .dataframe tbody tr th {\n",
       "        vertical-align: top;\n",
       "    }\n",
       "\n",
       "    .dataframe thead th {\n",
       "        text-align: right;\n",
       "    }\n",
       "</style>\n",
       "<table border=\"1\" class=\"dataframe\">\n",
       "  <thead>\n",
       "    <tr style=\"text-align: right;\">\n",
       "      <th></th>\n",
       "      <th>listing_id</th>\n",
       "      <th>id</th>\n",
       "      <th>date</th>\n",
       "    </tr>\n",
       "  </thead>\n",
       "  <tbody>\n",
       "    <tr>\n",
       "      <th>0</th>\n",
       "      <td>19864</td>\n",
       "      <td>1241716</td>\n",
       "      <td>2012-05-07</td>\n",
       "    </tr>\n",
       "    <tr>\n",
       "      <th>1</th>\n",
       "      <td>19864</td>\n",
       "      <td>1261674</td>\n",
       "      <td>2012-05-11</td>\n",
       "    </tr>\n",
       "    <tr>\n",
       "      <th>2</th>\n",
       "      <td>19864</td>\n",
       "      <td>1316109</td>\n",
       "      <td>2012-05-21</td>\n",
       "    </tr>\n",
       "    <tr>\n",
       "      <th>3</th>\n",
       "      <td>19864</td>\n",
       "      <td>1350402</td>\n",
       "      <td>2012-05-26</td>\n",
       "    </tr>\n",
       "    <tr>\n",
       "      <th>4</th>\n",
       "      <td>19864</td>\n",
       "      <td>1496116</td>\n",
       "      <td>2012-06-17</td>\n",
       "    </tr>\n",
       "  </tbody>\n",
       "</table>\n",
       "</div>"
      ],
      "text/plain": [
       "   listing_id       id        date\n",
       "0       19864  1241716  2012-05-07\n",
       "1       19864  1261674  2012-05-11\n",
       "2       19864  1316109  2012-05-21\n",
       "3       19864  1350402  2012-05-26\n",
       "4       19864  1496116  2012-06-17"
      ]
     },
     "execution_count": 80,
     "metadata": {},
     "output_type": "execute_result"
    }
   ],
   "source": [
    "mad_rev_subset = mad_reviews_data[['listing_id','id','date']]\n",
    "mad_rev_subset.head()"
   ]
  },
  {
   "cell_type": "code",
   "execution_count": 81,
   "metadata": {},
   "outputs": [
    {
     "data": {
      "text/html": [
       "<div>\n",
       "<style scoped>\n",
       "    .dataframe tbody tr th:only-of-type {\n",
       "        vertical-align: middle;\n",
       "    }\n",
       "\n",
       "    .dataframe tbody tr th {\n",
       "        vertical-align: top;\n",
       "    }\n",
       "\n",
       "    .dataframe thead th {\n",
       "        text-align: right;\n",
       "    }\n",
       "</style>\n",
       "<table border=\"1\" class=\"dataframe\">\n",
       "  <thead>\n",
       "    <tr style=\"text-align: right;\">\n",
       "      <th></th>\n",
       "      <th>listing_id</th>\n",
       "      <th>id</th>\n",
       "      <th>date</th>\n",
       "      <th>price</th>\n",
       "      <th>minimum_nights</th>\n",
       "    </tr>\n",
       "  </thead>\n",
       "  <tbody>\n",
       "    <tr>\n",
       "      <th>0</th>\n",
       "      <td>19864</td>\n",
       "      <td>1241716</td>\n",
       "      <td>2012-05-07</td>\n",
       "      <td>$64.00</td>\n",
       "      <td>2</td>\n",
       "    </tr>\n",
       "    <tr>\n",
       "      <th>1</th>\n",
       "      <td>19864</td>\n",
       "      <td>1261674</td>\n",
       "      <td>2012-05-11</td>\n",
       "      <td>$64.00</td>\n",
       "      <td>2</td>\n",
       "    </tr>\n",
       "    <tr>\n",
       "      <th>2</th>\n",
       "      <td>19864</td>\n",
       "      <td>1316109</td>\n",
       "      <td>2012-05-21</td>\n",
       "      <td>$64.00</td>\n",
       "      <td>2</td>\n",
       "    </tr>\n",
       "    <tr>\n",
       "      <th>3</th>\n",
       "      <td>19864</td>\n",
       "      <td>1350402</td>\n",
       "      <td>2012-05-26</td>\n",
       "      <td>$64.00</td>\n",
       "      <td>2</td>\n",
       "    </tr>\n",
       "    <tr>\n",
       "      <th>4</th>\n",
       "      <td>19864</td>\n",
       "      <td>1496116</td>\n",
       "      <td>2012-06-17</td>\n",
       "      <td>$64.00</td>\n",
       "      <td>2</td>\n",
       "    </tr>\n",
       "  </tbody>\n",
       "</table>\n",
       "</div>"
      ],
      "text/plain": [
       "   listing_id       id        date   price  minimum_nights\n",
       "0       19864  1241716  2012-05-07  $64.00               2\n",
       "1       19864  1261674  2012-05-11  $64.00               2\n",
       "2       19864  1316109  2012-05-21  $64.00               2\n",
       "3       19864  1350402  2012-05-26  $64.00               2\n",
       "4       19864  1496116  2012-06-17  $64.00               2"
      ]
     },
     "execution_count": 81,
     "metadata": {},
     "output_type": "execute_result"
    }
   ],
   "source": [
    "mad_rev_subset = pd.merge(mad_rev_subset, mad_list_price, how='left', on='listing_id')\n",
    "mad_rev_subset.head()"
   ]
  },
  {
   "cell_type": "markdown",
   "metadata": {},
   "source": [
    "--------------------\n",
    "\n",
    "Let's now clean and price variable and set the create a estimated revenue for each reviewed stay.\n",
    "\n",
    "--------------------"
   ]
  },
  {
   "cell_type": "code",
   "execution_count": 82,
   "metadata": {
    "collapsed": true
   },
   "outputs": [],
   "source": [
    "mad_rev_subset['price'] = mad_rev_subset['price'].astype(str)\n",
    "mad_rev_subset['price'] = mad_rev_subset['price'].str.replace('$','')\n",
    "mad_rev_subset['price'] = mad_rev_subset['price'].str.replace(',','').astype(float)"
   ]
  },
  {
   "cell_type": "code",
   "execution_count": 83,
   "metadata": {},
   "outputs": [
    {
     "data": {
      "text/html": [
       "<div>\n",
       "<style scoped>\n",
       "    .dataframe tbody tr th:only-of-type {\n",
       "        vertical-align: middle;\n",
       "    }\n",
       "\n",
       "    .dataframe tbody tr th {\n",
       "        vertical-align: top;\n",
       "    }\n",
       "\n",
       "    .dataframe thead th {\n",
       "        text-align: right;\n",
       "    }\n",
       "</style>\n",
       "<table border=\"1\" class=\"dataframe\">\n",
       "  <thead>\n",
       "    <tr style=\"text-align: right;\">\n",
       "      <th></th>\n",
       "      <th>listing_id</th>\n",
       "      <th>id</th>\n",
       "      <th>date</th>\n",
       "      <th>price</th>\n",
       "      <th>minimum_nights</th>\n",
       "      <th>max_estimated_revenue</th>\n",
       "    </tr>\n",
       "  </thead>\n",
       "  <tbody>\n",
       "    <tr>\n",
       "      <th>0</th>\n",
       "      <td>19864</td>\n",
       "      <td>1241716</td>\n",
       "      <td>2012-05-07</td>\n",
       "      <td>64.0</td>\n",
       "      <td>2</td>\n",
       "      <td>128.0</td>\n",
       "    </tr>\n",
       "    <tr>\n",
       "      <th>1</th>\n",
       "      <td>19864</td>\n",
       "      <td>1261674</td>\n",
       "      <td>2012-05-11</td>\n",
       "      <td>64.0</td>\n",
       "      <td>2</td>\n",
       "      <td>128.0</td>\n",
       "    </tr>\n",
       "    <tr>\n",
       "      <th>2</th>\n",
       "      <td>19864</td>\n",
       "      <td>1316109</td>\n",
       "      <td>2012-05-21</td>\n",
       "      <td>64.0</td>\n",
       "      <td>2</td>\n",
       "      <td>128.0</td>\n",
       "    </tr>\n",
       "    <tr>\n",
       "      <th>3</th>\n",
       "      <td>19864</td>\n",
       "      <td>1350402</td>\n",
       "      <td>2012-05-26</td>\n",
       "      <td>64.0</td>\n",
       "      <td>2</td>\n",
       "      <td>128.0</td>\n",
       "    </tr>\n",
       "    <tr>\n",
       "      <th>4</th>\n",
       "      <td>19864</td>\n",
       "      <td>1496116</td>\n",
       "      <td>2012-06-17</td>\n",
       "      <td>64.0</td>\n",
       "      <td>2</td>\n",
       "      <td>128.0</td>\n",
       "    </tr>\n",
       "  </tbody>\n",
       "</table>\n",
       "</div>"
      ],
      "text/plain": [
       "   listing_id       id        date  price  minimum_nights  \\\n",
       "0       19864  1241716  2012-05-07   64.0               2   \n",
       "1       19864  1261674  2012-05-11   64.0               2   \n",
       "2       19864  1316109  2012-05-21   64.0               2   \n",
       "3       19864  1350402  2012-05-26   64.0               2   \n",
       "4       19864  1496116  2012-06-17   64.0               2   \n",
       "\n",
       "   max_estimated_revenue  \n",
       "0                  128.0  \n",
       "1                  128.0  \n",
       "2                  128.0  \n",
       "3                  128.0  \n",
       "4                  128.0  "
      ]
     },
     "execution_count": 83,
     "metadata": {},
     "output_type": "execute_result"
    }
   ],
   "source": [
    "mad_rev_subset['max_estimated_revenue'] = mad_rev_subset['price'] * mad_rev_subset['minimum_nights']\n",
    "mad_rev_subset.head()"
   ]
  },
  {
   "cell_type": "code",
   "execution_count": 84,
   "metadata": {
    "collapsed": true
   },
   "outputs": [],
   "source": [
    "mad_rev_subset['date'] = pd.to_datetime(mad_rev_subset.date, format='%Y-%m-%d')\n",
    "mad_rev_subset['year'] = mad_rev_subset['date'].dt.year\n",
    "mad_rev_subset['month'] = mad_rev_subset['date'].dt.month"
   ]
  },
  {
   "cell_type": "markdown",
   "metadata": {},
   "source": [
    "--------------------\n",
    "\n",
    "Now, let's add up the revenues from each stay by month and year.\n",
    "\n",
    "--------------------"
   ]
  },
  {
   "cell_type": "code",
   "execution_count": 85,
   "metadata": {
    "collapsed": true
   },
   "outputs": [],
   "source": [
    "mad_monthly_rev = mad_rev_subset.groupby(['year','month']).agg({'id':'count', 'max_estimated_revenue':'sum', 'price':'mean'})\n",
    "mad_monthly_rev.rename(index=str, columns={\"id\": \"num_properties\", \"price\": \"average_price\"},inplace=True)"
   ]
  },
  {
   "cell_type": "code",
   "execution_count": 86,
   "metadata": {},
   "outputs": [
    {
     "data": {
      "text/html": [
       "<div>\n",
       "<style scoped>\n",
       "    .dataframe tbody tr th:only-of-type {\n",
       "        vertical-align: middle;\n",
       "    }\n",
       "\n",
       "    .dataframe tbody tr th {\n",
       "        vertical-align: top;\n",
       "    }\n",
       "\n",
       "    .dataframe thead th {\n",
       "        text-align: right;\n",
       "    }\n",
       "</style>\n",
       "<table border=\"1\" class=\"dataframe\">\n",
       "  <thead>\n",
       "    <tr style=\"text-align: right;\">\n",
       "      <th></th>\n",
       "      <th></th>\n",
       "      <th>num_properties</th>\n",
       "      <th>max_estimated_revenue</th>\n",
       "      <th>average_price</th>\n",
       "    </tr>\n",
       "    <tr>\n",
       "      <th>year</th>\n",
       "      <th>month</th>\n",
       "      <th></th>\n",
       "      <th></th>\n",
       "      <th></th>\n",
       "    </tr>\n",
       "  </thead>\n",
       "  <tbody>\n",
       "    <tr>\n",
       "      <th rowspan=\"5\" valign=\"top\">2010</th>\n",
       "      <th>5</th>\n",
       "      <td>1</td>\n",
       "      <td>50.0</td>\n",
       "      <td>25.0</td>\n",
       "    </tr>\n",
       "    <tr>\n",
       "      <th>6</th>\n",
       "      <td>1</td>\n",
       "      <td>50.0</td>\n",
       "      <td>25.0</td>\n",
       "    </tr>\n",
       "    <tr>\n",
       "      <th>7</th>\n",
       "      <td>1</td>\n",
       "      <td>195.0</td>\n",
       "      <td>65.0</td>\n",
       "    </tr>\n",
       "    <tr>\n",
       "      <th>8</th>\n",
       "      <td>1</td>\n",
       "      <td>165.0</td>\n",
       "      <td>55.0</td>\n",
       "    </tr>\n",
       "    <tr>\n",
       "      <th>9</th>\n",
       "      <td>2</td>\n",
       "      <td>140.0</td>\n",
       "      <td>35.0</td>\n",
       "    </tr>\n",
       "  </tbody>\n",
       "</table>\n",
       "</div>"
      ],
      "text/plain": [
       "            num_properties  max_estimated_revenue  average_price\n",
       "year month                                                      \n",
       "2010 5                   1                   50.0           25.0\n",
       "     6                   1                   50.0           25.0\n",
       "     7                   1                  195.0           65.0\n",
       "     8                   1                  165.0           55.0\n",
       "     9                   2                  140.0           35.0"
      ]
     },
     "execution_count": 86,
     "metadata": {},
     "output_type": "execute_result"
    }
   ],
   "source": [
    "mad_monthly_rev.head()"
   ]
  },
  {
   "cell_type": "code",
   "execution_count": 87,
   "metadata": {},
   "outputs": [
    {
     "data": {
      "text/html": [
       "<div>\n",
       "<style scoped>\n",
       "    .dataframe tbody tr th:only-of-type {\n",
       "        vertical-align: middle;\n",
       "    }\n",
       "\n",
       "    .dataframe tbody tr th {\n",
       "        vertical-align: top;\n",
       "    }\n",
       "\n",
       "    .dataframe thead th {\n",
       "        text-align: right;\n",
       "    }\n",
       "</style>\n",
       "<table border=\"1\" class=\"dataframe\">\n",
       "  <thead>\n",
       "    <tr style=\"text-align: right;\">\n",
       "      <th></th>\n",
       "      <th>year</th>\n",
       "      <th>month</th>\n",
       "      <th>num_properties</th>\n",
       "      <th>max_estimated_revenue</th>\n",
       "      <th>average_price</th>\n",
       "      <th>date</th>\n",
       "    </tr>\n",
       "  </thead>\n",
       "  <tbody>\n",
       "    <tr>\n",
       "      <th>0</th>\n",
       "      <td>2010</td>\n",
       "      <td>5</td>\n",
       "      <td>1</td>\n",
       "      <td>50.0</td>\n",
       "      <td>25.0</td>\n",
       "      <td>2010-5</td>\n",
       "    </tr>\n",
       "    <tr>\n",
       "      <th>1</th>\n",
       "      <td>2010</td>\n",
       "      <td>6</td>\n",
       "      <td>1</td>\n",
       "      <td>50.0</td>\n",
       "      <td>25.0</td>\n",
       "      <td>2010-6</td>\n",
       "    </tr>\n",
       "    <tr>\n",
       "      <th>2</th>\n",
       "      <td>2010</td>\n",
       "      <td>7</td>\n",
       "      <td>1</td>\n",
       "      <td>195.0</td>\n",
       "      <td>65.0</td>\n",
       "      <td>2010-7</td>\n",
       "    </tr>\n",
       "    <tr>\n",
       "      <th>3</th>\n",
       "      <td>2010</td>\n",
       "      <td>8</td>\n",
       "      <td>1</td>\n",
       "      <td>165.0</td>\n",
       "      <td>55.0</td>\n",
       "      <td>2010-8</td>\n",
       "    </tr>\n",
       "    <tr>\n",
       "      <th>4</th>\n",
       "      <td>2010</td>\n",
       "      <td>9</td>\n",
       "      <td>2</td>\n",
       "      <td>140.0</td>\n",
       "      <td>35.0</td>\n",
       "      <td>2010-9</td>\n",
       "    </tr>\n",
       "  </tbody>\n",
       "</table>\n",
       "</div>"
      ],
      "text/plain": [
       "   year month  num_properties  max_estimated_revenue  average_price    date\n",
       "0  2010     5               1                   50.0           25.0  2010-5\n",
       "1  2010     6               1                   50.0           25.0  2010-6\n",
       "2  2010     7               1                  195.0           65.0  2010-7\n",
       "3  2010     8               1                  165.0           55.0  2010-8\n",
       "4  2010     9               2                  140.0           35.0  2010-9"
      ]
     },
     "execution_count": 87,
     "metadata": {},
     "output_type": "execute_result"
    }
   ],
   "source": [
    "mad_monthly_rev = mad_monthly_rev.reset_index()\n",
    "mad_monthly_rev['date'] = mad_monthly_rev[\"year\"].map(str) + '-' + mad_monthly_rev[\"month\"]\n",
    "mad_monthly_rev.head()"
   ]
  },
  {
   "cell_type": "markdown",
   "metadata": {},
   "source": [
    "--------------------\n",
    "\n",
    "Let's see what we have:\n",
    "\n",
    "--------------------"
   ]
  },
  {
   "cell_type": "code",
   "execution_count": 88,
   "metadata": {},
   "outputs": [
    {
     "data": {
      "image/png": "[encoded data removed]",
      "text/plain": [
       "<matplotlib.figure.Figure at 0x2d615cbb7b8>"
      ]
     },
     "metadata": {},
     "output_type": "display_data"
    }
   ],
   "source": [
    "mad_monthly_rev.plot(kind='bar', x='date', y='max_estimated_revenue', figsize=(20,10), color='#51b2e8', fontsize=13, \n",
    "                     title=\"Maximum Monthly Revenue in Madrid\", legend=False);"
   ]
  },
  {
   "cell_type": "markdown",
   "metadata": {},
   "source": [
    "Show only the last five years."
   ]
  },
  {
   "cell_type": "code",
   "execution_count": 89,
   "metadata": {},
   "outputs": [
    {
     "data": {
      "text/html": [
       "<div>\n",
       "<style scoped>\n",
       "    .dataframe tbody tr th:only-of-type {\n",
       "        vertical-align: middle;\n",
       "    }\n",
       "\n",
       "    .dataframe tbody tr th {\n",
       "        vertical-align: top;\n",
       "    }\n",
       "\n",
       "    .dataframe thead th {\n",
       "        text-align: right;\n",
       "    }\n",
       "</style>\n",
       "<table border=\"1\" class=\"dataframe\">\n",
       "  <thead>\n",
       "    <tr style=\"text-align: right;\">\n",
       "      <th></th>\n",
       "      <th>year</th>\n",
       "      <th>month</th>\n",
       "      <th>num_properties</th>\n",
       "      <th>max_estimated_revenue</th>\n",
       "      <th>average_price</th>\n",
       "      <th>date</th>\n",
       "    </tr>\n",
       "  </thead>\n",
       "  <tbody>\n",
       "    <tr>\n",
       "      <th>32</th>\n",
       "      <td>2013</td>\n",
       "      <td>1</td>\n",
       "      <td>239</td>\n",
       "      <td>75180.0</td>\n",
       "      <td>65.866109</td>\n",
       "      <td>2013-1</td>\n",
       "    </tr>\n",
       "    <tr>\n",
       "      <th>33</th>\n",
       "      <td>2013</td>\n",
       "      <td>2</td>\n",
       "      <td>246</td>\n",
       "      <td>55502.0</td>\n",
       "      <td>62.178862</td>\n",
       "      <td>2013-2</td>\n",
       "    </tr>\n",
       "    <tr>\n",
       "      <th>34</th>\n",
       "      <td>2013</td>\n",
       "      <td>3</td>\n",
       "      <td>354</td>\n",
       "      <td>119682.0</td>\n",
       "      <td>64.912429</td>\n",
       "      <td>2013-3</td>\n",
       "    </tr>\n",
       "    <tr>\n",
       "      <th>35</th>\n",
       "      <td>2013</td>\n",
       "      <td>4</td>\n",
       "      <td>491</td>\n",
       "      <td>142563.0</td>\n",
       "      <td>69.853360</td>\n",
       "      <td>2013-4</td>\n",
       "    </tr>\n",
       "    <tr>\n",
       "      <th>36</th>\n",
       "      <td>2013</td>\n",
       "      <td>5</td>\n",
       "      <td>627</td>\n",
       "      <td>162270.0</td>\n",
       "      <td>67.838915</td>\n",
       "      <td>2013-5</td>\n",
       "    </tr>\n",
       "  </tbody>\n",
       "</table>\n",
       "</div>"
      ],
      "text/plain": [
       "    year month  num_properties  max_estimated_revenue  average_price    date\n",
       "32  2013     1             239                75180.0      65.866109  2013-1\n",
       "33  2013     2             246                55502.0      62.178862  2013-2\n",
       "34  2013     3             354               119682.0      64.912429  2013-3\n",
       "35  2013     4             491               142563.0      69.853360  2013-4\n",
       "36  2013     5             627               162270.0      67.838915  2013-5"
      ]
     },
     "execution_count": 89,
     "metadata": {},
     "output_type": "execute_result"
    }
   ],
   "source": [
    "mad_monthly_rev_2013_2018 = mad_monthly_rev[mad_monthly_rev['year'] >= '2013']\n",
    "mad_monthly_rev_2013_2018.head()"
   ]
  },
  {
   "cell_type": "code",
   "execution_count": 90,
   "metadata": {},
   "outputs": [
    {
     "data": {
      "image/png": "[encoded data removed]",
      "text/plain": [
       "<matplotlib.figure.Figure at 0x2d61499ab00>"
      ]
     },
     "metadata": {},
     "output_type": "display_data"
    }
   ],
   "source": [
    "fig, ax = plt.subplots(figsize=(15,10)) \n",
    "mad_monthly_rev_2013_2018.plot(kind='bar', x='date', y='max_estimated_revenue',\n",
    "                               color='#51b2e8', fontsize=13, title=\"Maximum Monthly Revenue in Madrid 2013-2018\", legend=False,\n",
    "                               ax=ax);\n",
    "ax.set_ylabel(\"Estimated Revenue\", fontsize=15)\n",
    "ax.set_xlabel(\"date\", fontsize=15)\n",
    "ax.title.set_size(25)\n",
    "fig.savefig('images/max_madrid_revenue.jpg', bbox_inches='tight')"
   ]
  },
  {
   "cell_type": "markdown",
   "metadata": {},
   "source": [
    "--------------------\n",
    "Finally, let's calculate the average daily price year to date and the occupancy of the next 6 months.\n",
    "\n",
    "--------------------"
   ]
  },
  {
   "cell_type": "code",
   "execution_count": 91,
   "metadata": {},
   "outputs": [
    {
     "name": "stdout",
     "output_type": "stream",
     "text": [
      "The average daily price this year in Madrid is $68.06\n"
     ]
    }
   ],
   "source": [
    "print('The average daily price this year in Madrid is '  + '$' + \n",
    "      str(round(mad_monthly_rev_2013_2018['average_price'][-10:].mean(),2)))"
   ]
  },
  {
   "cell_type": "code",
   "execution_count": 92,
   "metadata": {
    "collapsed": true
   },
   "outputs": [],
   "source": [
    "mad_availability_next_6_months = mad_calendar_data['available'].value_counts(dropna=False)"
   ]
  },
  {
   "cell_type": "code",
   "execution_count": 93,
   "metadata": {},
   "outputs": [
    {
     "name": "stdout",
     "output_type": "stream",
     "text": [
      "Currently, the occupancy for next 6 months in Madrid is 55.64%\n"
     ]
    }
   ],
   "source": [
    "mad_current_occupancy_6_months = mad_availability_next_6_months['f']/(mad_availability_next_6_months['f']+\n",
    "                                                                     mad_availability_next_6_months['t'])\n",
    "print('Currently, the occupancy for next 6 months in Madrid is ' + (round(mad_current_occupancy_6_months*100,2)).astype(str)+\n",
    "      '%')"
   ]
  },
  {
   "cell_type": "markdown",
   "metadata": {},
   "source": [
    "### Barcelona Price Evaluation"
   ]
  },
  {
   "cell_type": "markdown",
   "metadata": {},
   "source": [
    "--------------------\n",
    "Again, let's start by merging the listing and review data.\n",
    "\n",
    "--------------------"
   ]
  },
  {
   "cell_type": "code",
   "execution_count": 94,
   "metadata": {},
   "outputs": [
    {
     "name": "stderr",
     "output_type": "stream",
     "text": [
      "C:\\Users\\danie\\Anaconda3\\lib\\site-packages\\pandas\\core\\frame.py:3781: SettingWithCopyWarning: \n",
      "A value is trying to be set on a copy of a slice from a DataFrame\n",
      "\n",
      "See the caveats in the documentation: http://pandas.pydata.org/pandas-docs/stable/indexing.html#indexing-view-versus-copy\n",
      "  return super(DataFrame, self).rename(**kwargs)\n"
     ]
    },
    {
     "data": {
      "text/html": [
       "<div>\n",
       "<style scoped>\n",
       "    .dataframe tbody tr th:only-of-type {\n",
       "        vertical-align: middle;\n",
       "    }\n",
       "\n",
       "    .dataframe tbody tr th {\n",
       "        vertical-align: top;\n",
       "    }\n",
       "\n",
       "    .dataframe thead th {\n",
       "        text-align: right;\n",
       "    }\n",
       "</style>\n",
       "<table border=\"1\" class=\"dataframe\">\n",
       "  <thead>\n",
       "    <tr style=\"text-align: right;\">\n",
       "      <th></th>\n",
       "      <th>listing_id</th>\n",
       "      <th>price</th>\n",
       "      <th>minimum_nights</th>\n",
       "    </tr>\n",
       "  </thead>\n",
       "  <tbody>\n",
       "    <tr>\n",
       "      <th>0</th>\n",
       "      <td>18666</td>\n",
       "      <td>$130.00</td>\n",
       "      <td>3</td>\n",
       "    </tr>\n",
       "    <tr>\n",
       "      <th>1</th>\n",
       "      <td>18674</td>\n",
       "      <td>$320.00</td>\n",
       "      <td>1</td>\n",
       "    </tr>\n",
       "    <tr>\n",
       "      <th>2</th>\n",
       "      <td>21605</td>\n",
       "      <td>$33.00</td>\n",
       "      <td>2</td>\n",
       "    </tr>\n",
       "    <tr>\n",
       "      <th>3</th>\n",
       "      <td>25786</td>\n",
       "      <td>$31.00</td>\n",
       "      <td>1</td>\n",
       "    </tr>\n",
       "    <tr>\n",
       "      <th>4</th>\n",
       "      <td>31377</td>\n",
       "      <td>$42.00</td>\n",
       "      <td>3</td>\n",
       "    </tr>\n",
       "  </tbody>\n",
       "</table>\n",
       "</div>"
      ],
      "text/plain": [
       "   listing_id    price  minimum_nights\n",
       "0       18666  $130.00               3\n",
       "1       18674  $320.00               1\n",
       "2       21605   $33.00               2\n",
       "3       25786   $31.00               1\n",
       "4       31377   $42.00               3"
      ]
     },
     "execution_count": 94,
     "metadata": {},
     "output_type": "execute_result"
    }
   ],
   "source": [
    "bar_list_price = bar_listings_data[['id', 'price', 'minimum_nights']]\n",
    "bar_list_price.rename(index=str, columns={\"id\": \"listing_id\"},inplace=True)\n",
    "bar_list_price.head()"
   ]
  },
  {
   "cell_type": "code",
   "execution_count": 95,
   "metadata": {
    "scrolled": true
   },
   "outputs": [
    {
     "data": {
      "text/html": [
       "<div>\n",
       "<style scoped>\n",
       "    .dataframe tbody tr th:only-of-type {\n",
       "        vertical-align: middle;\n",
       "    }\n",
       "\n",
       "    .dataframe tbody tr th {\n",
       "        vertical-align: top;\n",
       "    }\n",
       "\n",
       "    .dataframe thead th {\n",
       "        text-align: right;\n",
       "    }\n",
       "</style>\n",
       "<table border=\"1\" class=\"dataframe\">\n",
       "  <thead>\n",
       "    <tr style=\"text-align: right;\">\n",
       "      <th></th>\n",
       "      <th>listing_id</th>\n",
       "      <th>id</th>\n",
       "      <th>date</th>\n",
       "    </tr>\n",
       "  </thead>\n",
       "  <tbody>\n",
       "    <tr>\n",
       "      <th>0</th>\n",
       "      <td>18666</td>\n",
       "      <td>50158511</td>\n",
       "      <td>2015-10-10</td>\n",
       "    </tr>\n",
       "    <tr>\n",
       "      <th>1</th>\n",
       "      <td>18674</td>\n",
       "      <td>4808211</td>\n",
       "      <td>2013-05-27</td>\n",
       "    </tr>\n",
       "    <tr>\n",
       "      <th>2</th>\n",
       "      <td>18674</td>\n",
       "      <td>10660311</td>\n",
       "      <td>2014-03-02</td>\n",
       "    </tr>\n",
       "    <tr>\n",
       "      <th>3</th>\n",
       "      <td>18674</td>\n",
       "      <td>41087522</td>\n",
       "      <td>2015-08-04</td>\n",
       "    </tr>\n",
       "    <tr>\n",
       "      <th>4</th>\n",
       "      <td>18674</td>\n",
       "      <td>81000756</td>\n",
       "      <td>2016-06-20</td>\n",
       "    </tr>\n",
       "  </tbody>\n",
       "</table>\n",
       "</div>"
      ],
      "text/plain": [
       "   listing_id        id        date\n",
       "0       18666  50158511  2015-10-10\n",
       "1       18674   4808211  2013-05-27\n",
       "2       18674  10660311  2014-03-02\n",
       "3       18674  41087522  2015-08-04\n",
       "4       18674  81000756  2016-06-20"
      ]
     },
     "execution_count": 95,
     "metadata": {},
     "output_type": "execute_result"
    }
   ],
   "source": [
    "bar_rev_subset = bar_reviews_data[['listing_id','id','date']]\n",
    "bar_rev_subset.head()"
   ]
  },
  {
   "cell_type": "code",
   "execution_count": 96,
   "metadata": {},
   "outputs": [
    {
     "data": {
      "text/html": [
       "<div>\n",
       "<style scoped>\n",
       "    .dataframe tbody tr th:only-of-type {\n",
       "        vertical-align: middle;\n",
       "    }\n",
       "\n",
       "    .dataframe tbody tr th {\n",
       "        vertical-align: top;\n",
       "    }\n",
       "\n",
       "    .dataframe thead th {\n",
       "        text-align: right;\n",
       "    }\n",
       "</style>\n",
       "<table border=\"1\" class=\"dataframe\">\n",
       "  <thead>\n",
       "    <tr style=\"text-align: right;\">\n",
       "      <th></th>\n",
       "      <th>listing_id</th>\n",
       "      <th>id</th>\n",
       "      <th>date</th>\n",
       "      <th>price</th>\n",
       "      <th>minimum_nights</th>\n",
       "    </tr>\n",
       "  </thead>\n",
       "  <tbody>\n",
       "    <tr>\n",
       "      <th>0</th>\n",
       "      <td>18666</td>\n",
       "      <td>50158511</td>\n",
       "      <td>2015-10-10</td>\n",
       "      <td>$130.00</td>\n",
       "      <td>3</td>\n",
       "    </tr>\n",
       "    <tr>\n",
       "      <th>1</th>\n",
       "      <td>18674</td>\n",
       "      <td>4808211</td>\n",
       "      <td>2013-05-27</td>\n",
       "      <td>$320.00</td>\n",
       "      <td>1</td>\n",
       "    </tr>\n",
       "    <tr>\n",
       "      <th>2</th>\n",
       "      <td>18674</td>\n",
       "      <td>10660311</td>\n",
       "      <td>2014-03-02</td>\n",
       "      <td>$320.00</td>\n",
       "      <td>1</td>\n",
       "    </tr>\n",
       "    <tr>\n",
       "      <th>3</th>\n",
       "      <td>18674</td>\n",
       "      <td>41087522</td>\n",
       "      <td>2015-08-04</td>\n",
       "      <td>$320.00</td>\n",
       "      <td>1</td>\n",
       "    </tr>\n",
       "    <tr>\n",
       "      <th>4</th>\n",
       "      <td>18674</td>\n",
       "      <td>81000756</td>\n",
       "      <td>2016-06-20</td>\n",
       "      <td>$320.00</td>\n",
       "      <td>1</td>\n",
       "    </tr>\n",
       "  </tbody>\n",
       "</table>\n",
       "</div>"
      ],
      "text/plain": [
       "   listing_id        id        date    price  minimum_nights\n",
       "0       18666  50158511  2015-10-10  $130.00               3\n",
       "1       18674   4808211  2013-05-27  $320.00               1\n",
       "2       18674  10660311  2014-03-02  $320.00               1\n",
       "3       18674  41087522  2015-08-04  $320.00               1\n",
       "4       18674  81000756  2016-06-20  $320.00               1"
      ]
     },
     "execution_count": 96,
     "metadata": {},
     "output_type": "execute_result"
    }
   ],
   "source": [
    "bar_rev_subset = pd.merge(bar_rev_subset, bar_list_price, how='left', on='listing_id')\n",
    "bar_rev_subset.head()"
   ]
  },
  {
   "cell_type": "markdown",
   "metadata": {},
   "source": [
    "--------------------\n",
    "\n",
    "As before, clean and price variable and set the create a estimated revenue for each reviewed stay.\n",
    "\n",
    "--------------------"
   ]
  },
  {
   "cell_type": "code",
   "execution_count": 97,
   "metadata": {
    "collapsed": true
   },
   "outputs": [],
   "source": [
    "bar_rev_subset['price'] = bar_rev_subset['price'].astype(str)\n",
    "bar_rev_subset['price'] = bar_rev_subset['price'].str.replace('$','')\n",
    "bar_rev_subset['price'] = bar_rev_subset['price'].str.replace(',','').astype(float)"
   ]
  },
  {
   "cell_type": "code",
   "execution_count": 98,
   "metadata": {},
   "outputs": [
    {
     "data": {
      "text/html": [
       "<div>\n",
       "<style scoped>\n",
       "    .dataframe tbody tr th:only-of-type {\n",
       "        vertical-align: middle;\n",
       "    }\n",
       "\n",
       "    .dataframe tbody tr th {\n",
       "        vertical-align: top;\n",
       "    }\n",
       "\n",
       "    .dataframe thead th {\n",
       "        text-align: right;\n",
       "    }\n",
       "</style>\n",
       "<table border=\"1\" class=\"dataframe\">\n",
       "  <thead>\n",
       "    <tr style=\"text-align: right;\">\n",
       "      <th></th>\n",
       "      <th>listing_id</th>\n",
       "      <th>id</th>\n",
       "      <th>date</th>\n",
       "      <th>price</th>\n",
       "      <th>minimum_nights</th>\n",
       "      <th>max_estimated_revenue</th>\n",
       "    </tr>\n",
       "  </thead>\n",
       "  <tbody>\n",
       "    <tr>\n",
       "      <th>0</th>\n",
       "      <td>18666</td>\n",
       "      <td>50158511</td>\n",
       "      <td>2015-10-10</td>\n",
       "      <td>130.0</td>\n",
       "      <td>3</td>\n",
       "      <td>390.0</td>\n",
       "    </tr>\n",
       "    <tr>\n",
       "      <th>1</th>\n",
       "      <td>18674</td>\n",
       "      <td>4808211</td>\n",
       "      <td>2013-05-27</td>\n",
       "      <td>320.0</td>\n",
       "      <td>1</td>\n",
       "      <td>320.0</td>\n",
       "    </tr>\n",
       "    <tr>\n",
       "      <th>2</th>\n",
       "      <td>18674</td>\n",
       "      <td>10660311</td>\n",
       "      <td>2014-03-02</td>\n",
       "      <td>320.0</td>\n",
       "      <td>1</td>\n",
       "      <td>320.0</td>\n",
       "    </tr>\n",
       "    <tr>\n",
       "      <th>3</th>\n",
       "      <td>18674</td>\n",
       "      <td>41087522</td>\n",
       "      <td>2015-08-04</td>\n",
       "      <td>320.0</td>\n",
       "      <td>1</td>\n",
       "      <td>320.0</td>\n",
       "    </tr>\n",
       "    <tr>\n",
       "      <th>4</th>\n",
       "      <td>18674</td>\n",
       "      <td>81000756</td>\n",
       "      <td>2016-06-20</td>\n",
       "      <td>320.0</td>\n",
       "      <td>1</td>\n",
       "      <td>320.0</td>\n",
       "    </tr>\n",
       "  </tbody>\n",
       "</table>\n",
       "</div>"
      ],
      "text/plain": [
       "   listing_id        id        date  price  minimum_nights  \\\n",
       "0       18666  50158511  2015-10-10  130.0               3   \n",
       "1       18674   4808211  2013-05-27  320.0               1   \n",
       "2       18674  10660311  2014-03-02  320.0               1   \n",
       "3       18674  41087522  2015-08-04  320.0               1   \n",
       "4       18674  81000756  2016-06-20  320.0               1   \n",
       "\n",
       "   max_estimated_revenue  \n",
       "0                  390.0  \n",
       "1                  320.0  \n",
       "2                  320.0  \n",
       "3                  320.0  \n",
       "4                  320.0  "
      ]
     },
     "execution_count": 98,
     "metadata": {},
     "output_type": "execute_result"
    }
   ],
   "source": [
    "bar_rev_subset['max_estimated_revenue'] = bar_rev_subset['price'] * bar_rev_subset['minimum_nights']\n",
    "bar_rev_subset.head()"
   ]
  },
  {
   "cell_type": "code",
   "execution_count": 99,
   "metadata": {
    "collapsed": true
   },
   "outputs": [],
   "source": [
    "bar_rev_subset['date'] = pd.to_datetime(bar_rev_subset.date, format='%Y-%m-%d')\n",
    "bar_rev_subset['year'] = bar_rev_subset['date'].dt.year\n",
    "bar_rev_subset['month'] = bar_rev_subset['date'].dt.month"
   ]
  },
  {
   "cell_type": "markdown",
   "metadata": {},
   "source": [
    "--------------------\n",
    "\n",
    "Again, add up the revenues from each stay by month and year.\n",
    "\n",
    "--------------------"
   ]
  },
  {
   "cell_type": "code",
   "execution_count": 100,
   "metadata": {
    "collapsed": true
   },
   "outputs": [],
   "source": [
    "bar_monthly_rev = bar_rev_subset.groupby(['year','month']).agg({'id':'count', 'max_estimated_revenue':'sum', 'price':'mean'})\n",
    "bar_monthly_rev.rename(index=str, columns={\"id\": \"num_properties\", \"price\": \"average_price\"},inplace=True)"
   ]
  },
  {
   "cell_type": "code",
   "execution_count": 101,
   "metadata": {},
   "outputs": [
    {
     "data": {
      "text/html": [
       "<div>\n",
       "<style scoped>\n",
       "    .dataframe tbody tr th:only-of-type {\n",
       "        vertical-align: middle;\n",
       "    }\n",
       "\n",
       "    .dataframe tbody tr th {\n",
       "        vertical-align: top;\n",
       "    }\n",
       "\n",
       "    .dataframe thead th {\n",
       "        text-align: right;\n",
       "    }\n",
       "</style>\n",
       "<table border=\"1\" class=\"dataframe\">\n",
       "  <thead>\n",
       "    <tr style=\"text-align: right;\">\n",
       "      <th></th>\n",
       "      <th></th>\n",
       "      <th>num_properties</th>\n",
       "      <th>max_estimated_revenue</th>\n",
       "      <th>average_price</th>\n",
       "    </tr>\n",
       "    <tr>\n",
       "      <th>year</th>\n",
       "      <th>month</th>\n",
       "      <th></th>\n",
       "      <th></th>\n",
       "      <th></th>\n",
       "    </tr>\n",
       "  </thead>\n",
       "  <tbody>\n",
       "    <tr>\n",
       "      <th rowspan=\"3\" valign=\"top\">2010</th>\n",
       "      <th>8</th>\n",
       "      <td>2</td>\n",
       "      <td>101.0</td>\n",
       "      <td>50.500000</td>\n",
       "    </tr>\n",
       "    <tr>\n",
       "      <th>9</th>\n",
       "      <td>3</td>\n",
       "      <td>162.0</td>\n",
       "      <td>54.000000</td>\n",
       "    </tr>\n",
       "    <tr>\n",
       "      <th>10</th>\n",
       "      <td>3</td>\n",
       "      <td>4100.0</td>\n",
       "      <td>366.666667</td>\n",
       "    </tr>\n",
       "    <tr>\n",
       "      <th rowspan=\"2\" valign=\"top\">2011</th>\n",
       "      <th>1</th>\n",
       "      <td>5</td>\n",
       "      <td>11930.0</td>\n",
       "      <td>246.600000</td>\n",
       "    </tr>\n",
       "    <tr>\n",
       "      <th>2</th>\n",
       "      <td>5</td>\n",
       "      <td>2119.0</td>\n",
       "      <td>207.800000</td>\n",
       "    </tr>\n",
       "  </tbody>\n",
       "</table>\n",
       "</div>"
      ],
      "text/plain": [
       "            num_properties  max_estimated_revenue  average_price\n",
       "year month                                                      \n",
       "2010 8                   2                  101.0      50.500000\n",
       "     9                   3                  162.0      54.000000\n",
       "     10                  3                 4100.0     366.666667\n",
       "2011 1                   5                11930.0     246.600000\n",
       "     2                   5                 2119.0     207.800000"
      ]
     },
     "execution_count": 101,
     "metadata": {},
     "output_type": "execute_result"
    }
   ],
   "source": [
    "bar_monthly_rev.head()"
   ]
  },
  {
   "cell_type": "code",
   "execution_count": 102,
   "metadata": {},
   "outputs": [
    {
     "data": {
      "text/html": [
       "<div>\n",
       "<style scoped>\n",
       "    .dataframe tbody tr th:only-of-type {\n",
       "        vertical-align: middle;\n",
       "    }\n",
       "\n",
       "    .dataframe tbody tr th {\n",
       "        vertical-align: top;\n",
       "    }\n",
       "\n",
       "    .dataframe thead th {\n",
       "        text-align: right;\n",
       "    }\n",
       "</style>\n",
       "<table border=\"1\" class=\"dataframe\">\n",
       "  <thead>\n",
       "    <tr style=\"text-align: right;\">\n",
       "      <th></th>\n",
       "      <th>year</th>\n",
       "      <th>month</th>\n",
       "      <th>num_properties</th>\n",
       "      <th>max_estimated_revenue</th>\n",
       "      <th>average_price</th>\n",
       "      <th>date</th>\n",
       "    </tr>\n",
       "  </thead>\n",
       "  <tbody>\n",
       "    <tr>\n",
       "      <th>0</th>\n",
       "      <td>2010</td>\n",
       "      <td>8</td>\n",
       "      <td>2</td>\n",
       "      <td>101.0</td>\n",
       "      <td>50.500000</td>\n",
       "      <td>2010-8</td>\n",
       "    </tr>\n",
       "    <tr>\n",
       "      <th>1</th>\n",
       "      <td>2010</td>\n",
       "      <td>9</td>\n",
       "      <td>3</td>\n",
       "      <td>162.0</td>\n",
       "      <td>54.000000</td>\n",
       "      <td>2010-9</td>\n",
       "    </tr>\n",
       "    <tr>\n",
       "      <th>2</th>\n",
       "      <td>2010</td>\n",
       "      <td>10</td>\n",
       "      <td>3</td>\n",
       "      <td>4100.0</td>\n",
       "      <td>366.666667</td>\n",
       "      <td>2010-10</td>\n",
       "    </tr>\n",
       "    <tr>\n",
       "      <th>3</th>\n",
       "      <td>2011</td>\n",
       "      <td>1</td>\n",
       "      <td>5</td>\n",
       "      <td>11930.0</td>\n",
       "      <td>246.600000</td>\n",
       "      <td>2011-1</td>\n",
       "    </tr>\n",
       "    <tr>\n",
       "      <th>4</th>\n",
       "      <td>2011</td>\n",
       "      <td>2</td>\n",
       "      <td>5</td>\n",
       "      <td>2119.0</td>\n",
       "      <td>207.800000</td>\n",
       "      <td>2011-2</td>\n",
       "    </tr>\n",
       "  </tbody>\n",
       "</table>\n",
       "</div>"
      ],
      "text/plain": [
       "   year month  num_properties  max_estimated_revenue  average_price     date\n",
       "0  2010     8               2                  101.0      50.500000   2010-8\n",
       "1  2010     9               3                  162.0      54.000000   2010-9\n",
       "2  2010    10               3                 4100.0     366.666667  2010-10\n",
       "3  2011     1               5                11930.0     246.600000   2011-1\n",
       "4  2011     2               5                 2119.0     207.800000   2011-2"
      ]
     },
     "execution_count": 102,
     "metadata": {},
     "output_type": "execute_result"
    }
   ],
   "source": [
    "bar_monthly_rev = bar_monthly_rev.reset_index()\n",
    "bar_monthly_rev['date'] = bar_monthly_rev[\"year\"].map(str) + '-' + bar_monthly_rev[\"month\"]\n",
    "bar_monthly_rev.head()"
   ]
  },
  {
   "cell_type": "code",
   "execution_count": 103,
   "metadata": {},
   "outputs": [
    {
     "data": {
      "image/png": "[encoded data removed]",
      "text/plain": [
       "<matplotlib.figure.Figure at 0x2d611d65198>"
      ]
     },
     "metadata": {},
     "output_type": "display_data"
    }
   ],
   "source": [
    "bar_monthly_rev.plot(kind='bar', x='date', y='max_estimated_revenue', figsize=(20,10), color='#51b2e8', fontsize=13, \n",
    "                     title=\"Maximum Monthly Revenue in Barcelona\", legend=False);"
   ]
  },
  {
   "cell_type": "markdown",
   "metadata": {},
   "source": [
    "-------------------\n",
    "\n",
    "Trimming the last five years.\n",
    "\n",
    "--------------------"
   ]
  },
  {
   "cell_type": "code",
   "execution_count": 104,
   "metadata": {},
   "outputs": [
    {
     "data": {
      "text/html": [
       "<div>\n",
       "<style scoped>\n",
       "    .dataframe tbody tr th:only-of-type {\n",
       "        vertical-align: middle;\n",
       "    }\n",
       "\n",
       "    .dataframe tbody tr th {\n",
       "        vertical-align: top;\n",
       "    }\n",
       "\n",
       "    .dataframe thead th {\n",
       "        text-align: right;\n",
       "    }\n",
       "</style>\n",
       "<table border=\"1\" class=\"dataframe\">\n",
       "  <thead>\n",
       "    <tr style=\"text-align: right;\">\n",
       "      <th></th>\n",
       "      <th>year</th>\n",
       "      <th>month</th>\n",
       "      <th>num_properties</th>\n",
       "      <th>max_estimated_revenue</th>\n",
       "      <th>average_price</th>\n",
       "      <th>date</th>\n",
       "    </tr>\n",
       "  </thead>\n",
       "  <tbody>\n",
       "    <tr>\n",
       "      <th>27</th>\n",
       "      <td>2013</td>\n",
       "      <td>1</td>\n",
       "      <td>182</td>\n",
       "      <td>69968.0</td>\n",
       "      <td>80.846154</td>\n",
       "      <td>2013-1</td>\n",
       "    </tr>\n",
       "    <tr>\n",
       "      <th>28</th>\n",
       "      <td>2013</td>\n",
       "      <td>2</td>\n",
       "      <td>202</td>\n",
       "      <td>75359.0</td>\n",
       "      <td>88.797030</td>\n",
       "      <td>2013-2</td>\n",
       "    </tr>\n",
       "    <tr>\n",
       "      <th>29</th>\n",
       "      <td>2013</td>\n",
       "      <td>3</td>\n",
       "      <td>413</td>\n",
       "      <td>228318.0</td>\n",
       "      <td>100.055690</td>\n",
       "      <td>2013-3</td>\n",
       "    </tr>\n",
       "    <tr>\n",
       "      <th>30</th>\n",
       "      <td>2013</td>\n",
       "      <td>4</td>\n",
       "      <td>593</td>\n",
       "      <td>204282.0</td>\n",
       "      <td>86.725126</td>\n",
       "      <td>2013-4</td>\n",
       "    </tr>\n",
       "    <tr>\n",
       "      <th>31</th>\n",
       "      <td>2013</td>\n",
       "      <td>5</td>\n",
       "      <td>976</td>\n",
       "      <td>408830.0</td>\n",
       "      <td>88.444672</td>\n",
       "      <td>2013-5</td>\n",
       "    </tr>\n",
       "  </tbody>\n",
       "</table>\n",
       "</div>"
      ],
      "text/plain": [
       "    year month  num_properties  max_estimated_revenue  average_price    date\n",
       "27  2013     1             182                69968.0      80.846154  2013-1\n",
       "28  2013     2             202                75359.0      88.797030  2013-2\n",
       "29  2013     3             413               228318.0     100.055690  2013-3\n",
       "30  2013     4             593               204282.0      86.725126  2013-4\n",
       "31  2013     5             976               408830.0      88.444672  2013-5"
      ]
     },
     "execution_count": 104,
     "metadata": {},
     "output_type": "execute_result"
    }
   ],
   "source": [
    "bar_monthly_rev_2013_2018 = bar_monthly_rev[bar_monthly_rev['year'] >= '2013']\n",
    "bar_monthly_rev_2013_2018.head()"
   ]
  },
  {
   "cell_type": "code",
   "execution_count": 105,
   "metadata": {},
   "outputs": [
    {
     "data": {
      "image/png": "[encoded data removed]",
      "text/plain": [
       "<matplotlib.figure.Figure at 0x2d615005940>"
      ]
     },
     "metadata": {},
     "output_type": "display_data"
    }
   ],
   "source": [
    "fig, ax = plt.subplots(figsize=(15,10)) \n",
    "bar_monthly_rev_2013_2018.plot(kind='bar', x='date', y='max_estimated_revenue',\n",
    "                               color='#51b2e8', fontsize=13, title=\"Maximum Monthly Revenue in Barcelona 2013-2018\", \n",
    "                               legend=False, ax=ax);\n",
    "ax.set_ylabel(\"Estimated Revenue\", fontsize=15)\n",
    "ax.set_xlabel(\"date\", fontsize=15)\n",
    "ax.title.set_size(25)\n",
    "fig.savefig('images/max_barcelona_revenue.jpg', bbox_inches='tight')"
   ]
  },
  {
   "cell_type": "markdown",
   "metadata": {},
   "source": [
    "--------------------\n",
    "And the average daily price year to date and the occupancy of the next 6 months.\n",
    "\n",
    "--------------------"
   ]
  },
  {
   "cell_type": "code",
   "execution_count": 106,
   "metadata": {},
   "outputs": [
    {
     "name": "stdout",
     "output_type": "stream",
     "text": [
      "The average daily price this year in barrid is $92.27\n"
     ]
    }
   ],
   "source": [
    "print('The average daily price this year in barrid is '  + '$' + \n",
    "      str(round(bar_monthly_rev_2013_2018['average_price'][-10:].mean(),2)))"
   ]
  },
  {
   "cell_type": "code",
   "execution_count": 107,
   "metadata": {
    "collapsed": true
   },
   "outputs": [],
   "source": [
    "bar_availability_next_6_months = bar_calendar_data['available'].value_counts(dropna=False)"
   ]
  },
  {
   "cell_type": "code",
   "execution_count": 108,
   "metadata": {},
   "outputs": [
    {
     "name": "stdout",
     "output_type": "stream",
     "text": [
      "Currently, the occupancy for next 6 months in Barcelona is 48.43%\n"
     ]
    }
   ],
   "source": [
    "bar_current_occupancy_6_months = bar_availability_next_6_months['f']/(bar_availability_next_6_months['f']+\n",
    "                                                                     bar_availability_next_6_months['t'])\n",
    "print('Currently, the occupancy for next 6 months in Barcelona is ' + (round(bar_current_occupancy_6_months*100,2)).astype(str)+\n",
    "      '%')"
   ]
  },
  {
   "cell_type": "code",
   "execution_count": null,
   "metadata": {
    "collapsed": true
   },
   "outputs": [],
   "source": []
  }
 ],
 "metadata": {
  "kernelspec": {
   "display_name": "Python 3",
   "language": "python",
   "name": "python3"
  },
  "language_info": {
   "codemirror_mode": {
    "name": "ipython",
    "version": 3
   },
   "file_extension": ".py",
   "mimetype": "text/x-python",
   "name": "python",
   "nbconvert_exporter": "python",
   "pygments_lexer": "ipython3",
   "version": "3.6.3"
  },
  "varInspector": {
   "cols": {
    "lenName": 16,
    "lenType": 16,
    "lenVar": 40
   },
   "kernels_config": {
    "python": {
     "delete_cmd_postfix": "",
     "delete_cmd_prefix": "del ",
     "library": "var_list.py",
     "varRefreshCmd": "print(var_dic_list())"
    },
    "r": {
     "delete_cmd_postfix": ") ",
     "delete_cmd_prefix": "rm(",
     "library": "var_list.r",
     "varRefreshCmd": "cat(var_dic_list()) "
    }
   },
   "position": {
    "height": "792px",
    "left": "1550px",
    "right": "20px",
    "top": "120px",
    "width": "354px"
   },
   "types_to_exclude": [
    "module",
    "function",
    "builtin_function_or_method",
    "instance",
    "_Feature"
   ],
   "window_display": true
  }
 },
 "nbformat": 4,
 "nbformat_minor": 2
}
